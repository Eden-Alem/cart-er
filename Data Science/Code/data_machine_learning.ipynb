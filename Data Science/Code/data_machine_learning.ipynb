{
 "cells": [
  {
   "cell_type": "markdown",
   "metadata": {},
   "source": [
    "# **Imports**"
   ]
  },
  {
   "cell_type": "code",
   "execution_count": 1,
   "metadata": {},
   "outputs": [],
   "source": [
    "import pandas as pd\n",
    "import numpy as np"
   ]
  },
  {
   "cell_type": "markdown",
   "metadata": {},
   "source": [
    "# **Reading Data**"
   ]
  },
  {
   "cell_type": "code",
   "execution_count": 2,
   "metadata": {},
   "outputs": [],
   "source": [
    "df = pd.read_csv('../Data/final_combined_data.csv')"
   ]
  },
  {
   "cell_type": "markdown",
   "metadata": {},
   "source": [
    "# **Feature Engineering**"
   ]
  },
  {
   "cell_type": "code",
   "execution_count": 4,
   "metadata": {},
   "outputs": [
    {
     "name": "stdout",
     "output_type": "stream",
     "text": [
      "<class 'pandas.core.frame.DataFrame'>\n",
      "RangeIndex: 5000 entries, 0 to 4999\n",
      "Data columns (total 18 columns):\n",
      " #   Column                     Non-Null Count  Dtype  \n",
      "---  ------                     --------------  -----  \n",
      " 0   Latitude                   5000 non-null   float64\n",
      " 1   Longitude                  5000 non-null   float64\n",
      " 2   Altitude                   5000 non-null   float64\n",
      " 3   Distance                   5000 non-null   float64\n",
      " 4   Alignment                  5000 non-null   bool   \n",
      " 5   Distance_Sensors           5000 non-null   float64\n",
      " 6   Proximity                  5000 non-null   bool   \n",
      " 7   Wheel_Speed                5000 non-null   float64\n",
      " 8   Velocity                   5000 non-null   float64\n",
      " 9   Hall_Effect                5000 non-null   bool   \n",
      " 10  Emergency_Stop             5000 non-null   bool   \n",
      " 11  Temperature                5000 non-null   float64\n",
      " 12  Humidity                   5000 non-null   float64\n",
      " 13  Light_Level                5000 non-null   float64\n",
      " 14  Alignment_Label            5000 non-null   object \n",
      " 15  Safety_Label               5000 non-null   object \n",
      " 16  Collision_Avoidance_Label  5000 non-null   object \n",
      " 17  Chaining_Unchaining_Label  5000 non-null   object \n",
      "dtypes: bool(4), float64(10), object(4)\n",
      "memory usage: 566.5+ KB\n"
     ]
    }
   ],
   "source": [
    "df.info()"
   ]
  },
  {
   "cell_type": "code",
   "execution_count": 5,
   "metadata": {},
   "outputs": [
    {
     "data": {
      "text/plain": [
       "Index(['Latitude', 'Longitude', 'Altitude', 'Distance', 'Alignment',\n",
       "       'Distance_Sensors', 'Proximity', 'Wheel_Speed', 'Velocity',\n",
       "       'Hall_Effect', 'Emergency_Stop', 'Temperature', 'Humidity',\n",
       "       'Light_Level', 'Alignment_Label', 'Safety_Label',\n",
       "       'Collision_Avoidance_Label', 'Chaining_Unchaining_Label'],\n",
       "      dtype='object')"
      ]
     },
     "execution_count": 5,
     "metadata": {},
     "output_type": "execute_result"
    }
   ],
   "source": [
    "df.columns"
   ]
  },
  {
   "cell_type": "code",
   "execution_count": null,
   "metadata": {},
   "outputs": [],
   "source": [
    "# Interaction Features\n",
    "df[\"Alignment_Velocity_Interaction\"] = df[\"Alignment\"] * df[\"Velocity\"]"
   ]
  },
  {
   "cell_type": "code",
   "execution_count": null,
   "metadata": {},
   "outputs": [],
   "source": [
    "# Estimate time to collision\n",
    "df[\"Time_To_Collision\"] = df[\"Distance\"] / df[\"Velocity\"]"
   ]
  },
  {
   "cell_type": "code",
   "execution_count": null,
   "metadata": {},
   "outputs": [],
   "source": [
    "# Create interaction feature: Alignment vs. Velocity\n",
    "df[\"Alignment_Velocity_Interaction\"] = df[\"Alignment\"] * df[\"Velocity\"]"
   ]
  },
  {
   "cell_type": "code",
   "execution_count": null,
   "metadata": {},
   "outputs": [],
   "source": [
    "# Save the updated combined data with new features to a new CSV file\n",
    "# df.to_csv(\"combined_data_with_features.csv\", index=False)\n",
    "\n",
    "print(\"Combined data with new features saved.\")"
   ]
  },
  {
   "cell_type": "code",
   "execution_count": null,
   "metadata": {},
   "outputs": [],
   "source": [
    "df.columns"
   ]
  },
  {
   "cell_type": "code",
   "execution_count": null,
   "metadata": {},
   "outputs": [],
   "source": []
  }
 ],
 "metadata": {
  "kernelspec": {
   "display_name": "Python 3",
   "language": "python",
   "name": "python3"
  },
  "language_info": {
   "codemirror_mode": {
    "name": "ipython",
    "version": 3
   },
   "file_extension": ".py",
   "mimetype": "text/x-python",
   "name": "python",
   "nbconvert_exporter": "python",
   "pygments_lexer": "ipython3",
   "version": "3.10.11"
  },
  "orig_nbformat": 4
 },
 "nbformat": 4,
 "nbformat_minor": 2
}
