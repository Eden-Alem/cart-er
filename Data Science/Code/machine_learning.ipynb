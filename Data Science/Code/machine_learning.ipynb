{
 "cells": [
  {
   "cell_type": "markdown",
   "metadata": {},
   "source": [
    "# **Imports**"
   ]
  },
  {
   "cell_type": "code",
   "execution_count": 1,
   "metadata": {},
   "outputs": [],
   "source": [
    "import pandas as pd\n",
    "import numpy as np\n",
    "from sklearn.model_selection import train_test_split\n",
    "from sklearn.preprocessing import StandardScaler\n",
    "from sklearn.ensemble import RandomForestClassifier\n",
    "from sklearn.metrics import accuracy_score\n",
    "from sklearn.model_selection import cross_val_score\n",
    "from sklearn.preprocessing import OneHotEncoder\n",
    "import matplotlib.pyplot as plt"
   ]
  },
  {
   "cell_type": "markdown",
   "metadata": {},
   "source": [
    "# **Reading Data**"
   ]
  },
  {
   "cell_type": "code",
   "execution_count": 2,
   "metadata": {},
   "outputs": [],
   "source": [
    "df = pd.read_csv('../Data/final_combined_data.csv')"
   ]
  },
  {
   "cell_type": "markdown",
   "metadata": {},
   "source": [
    "# **Feature Engineering**"
   ]
  },
  {
   "cell_type": "code",
   "execution_count": 3,
   "metadata": {},
   "outputs": [
    {
     "name": "stdout",
     "output_type": "stream",
     "text": [
      "<class 'pandas.core.frame.DataFrame'>\n",
      "RangeIndex: 50000 entries, 0 to 49999\n",
      "Data columns (total 18 columns):\n",
      " #   Column                     Non-Null Count  Dtype  \n",
      "---  ------                     --------------  -----  \n",
      " 0   Latitude                   50000 non-null  float64\n",
      " 1   Longitude                  50000 non-null  float64\n",
      " 2   Altitude                   50000 non-null  float64\n",
      " 3   Distance                   50000 non-null  float64\n",
      " 4   Alignment                  50000 non-null  bool   \n",
      " 5   Distance_Sensors           50000 non-null  float64\n",
      " 6   Proximity                  50000 non-null  bool   \n",
      " 7   Wheel_Speed                50000 non-null  float64\n",
      " 8   Velocity                   50000 non-null  float64\n",
      " 9   Hall_Effect                50000 non-null  bool   \n",
      " 10  Emergency_Stop             50000 non-null  bool   \n",
      " 11  Temperature                50000 non-null  float64\n",
      " 12  Humidity                   50000 non-null  float64\n",
      " 13  Light_Level                50000 non-null  float64\n",
      " 14  Alignment_Label            50000 non-null  object \n",
      " 15  Safety_Label               50000 non-null  object \n",
      " 16  Collision_Avoidance_Label  50000 non-null  object \n",
      " 17  Chaining_Unchaining_Label  50000 non-null  object \n",
      "dtypes: bool(4), float64(10), object(4)\n",
      "memory usage: 5.5+ MB\n"
     ]
    }
   ],
   "source": [
    "df.info()"
   ]
  },
  {
   "cell_type": "code",
   "execution_count": 4,
   "metadata": {},
   "outputs": [
    {
     "data": {
      "text/plain": [
       "Index(['Latitude', 'Longitude', 'Altitude', 'Distance', 'Alignment',\n",
       "       'Distance_Sensors', 'Proximity', 'Wheel_Speed', 'Velocity',\n",
       "       'Hall_Effect', 'Emergency_Stop', 'Temperature', 'Humidity',\n",
       "       'Light_Level', 'Alignment_Label', 'Safety_Label',\n",
       "       'Collision_Avoidance_Label', 'Chaining_Unchaining_Label'],\n",
       "      dtype='object')"
      ]
     },
     "execution_count": 4,
     "metadata": {},
     "output_type": "execute_result"
    }
   ],
   "source": [
    "df.columns"
   ]
  },
  {
   "cell_type": "code",
   "execution_count": 5,
   "metadata": {},
   "outputs": [],
   "source": [
    "# Relative Position and Angle\n",
    "df[\"Relative_Distance\"] = df[\"Distance\"].diff()\n",
    "df[\"Relative_Angle\"] = df[\"Longitude\"].diff()"
   ]
  },
  {
   "cell_type": "code",
   "execution_count": 6,
   "metadata": {},
   "outputs": [],
   "source": [
    "# Relative Velocity\n",
    "df[\"Relative_Velocity\"] = df[\"Velocity\"].diff()"
   ]
  },
  {
   "cell_type": "code",
   "execution_count": 7,
   "metadata": {},
   "outputs": [],
   "source": [
    "# Time Series Features\n",
    "window_size = 10\n",
    "df[\"Rolling_Mean_Wheel_Speed\"] = df[\"Wheel_Speed\"].rolling(window=window_size).mean()\n",
    "df[\"Rolling_Max_Distance\"] = df[\"Distance\"].rolling(window=window_size).max()"
   ]
  },
  {
   "cell_type": "code",
   "execution_count": 8,
   "metadata": {},
   "outputs": [],
   "source": [
    "# Safety and Emergency Features\n",
    "df[\"Safety_Activation\"] = (df[\"Hall_Effect\"] | df[\"Emergency_Stop\"]).astype(int)\n",
    "df[\"Safety_Duration\"] = df.groupby((df[\"Safety_Activation\"] != df[\"Safety_Activation\"].shift()).cumsum())[\"Safety_Activation\"].cumcount()\n"
   ]
  },
  {
   "cell_type": "code",
   "execution_count": 9,
   "metadata": {},
   "outputs": [],
   "source": [
    "# Environmental Conditions Interaction\n",
    "df[\"Temp_Humidity_Interact\"] = df[\"Temperature\"] * df[\"Humidity\"]\n",
    "df[\"Light_Temp_Interact\"] = df[\"Light_Level\"] * df[\"Temperature\"]"
   ]
  },
  {
   "cell_type": "code",
   "execution_count": 10,
   "metadata": {},
   "outputs": [],
   "source": [
    "# Alignment and Proximity Trends\n",
    "window_size = 10\n",
    "df[\"Alignment_Percentage\"] = df[\"Alignment\"].rolling(window=window_size).mean() * 100\n",
    "df[\"Proximity_Trend\"] = df[\"Proximity\"].rolling(window=window_size).sum()"
   ]
  },
  {
   "cell_type": "code",
   "execution_count": 11,
   "metadata": {},
   "outputs": [],
   "source": [
    "# Interaction Features\n",
    "df[\"Alignment_Velocity_Interaction\"] = df[\"Alignment\"] * df[\"Velocity\"]"
   ]
  },
  {
   "cell_type": "code",
   "execution_count": 12,
   "metadata": {},
   "outputs": [],
   "source": [
    "# Estimate time to collision\n",
    "df[\"Time_To_Collision\"] = df[\"Distance\"] / df[\"Velocity\"]"
   ]
  },
  {
   "cell_type": "code",
   "execution_count": 13,
   "metadata": {},
   "outputs": [
    {
     "name": "stdout",
     "output_type": "stream",
     "text": [
      "Combined data with new features saved.\n"
     ]
    }
   ],
   "source": [
    "# Save the updated combined data with new features to a new CSV file\n",
    "# df.to_csv(\"combined_data_with_features.csv\", index=False)\n",
    "\n",
    "print(\"Combined data with new features saved.\")"
   ]
  },
  {
   "cell_type": "code",
   "execution_count": 14,
   "metadata": {},
   "outputs": [
    {
     "data": {
      "text/plain": [
       "Index(['Latitude', 'Longitude', 'Altitude', 'Distance', 'Alignment',\n",
       "       'Distance_Sensors', 'Proximity', 'Wheel_Speed', 'Velocity',\n",
       "       'Hall_Effect', 'Emergency_Stop', 'Temperature', 'Humidity',\n",
       "       'Light_Level', 'Alignment_Label', 'Safety_Label',\n",
       "       'Collision_Avoidance_Label', 'Chaining_Unchaining_Label',\n",
       "       'Relative_Distance', 'Relative_Angle', 'Relative_Velocity',\n",
       "       'Rolling_Mean_Wheel_Speed', 'Rolling_Max_Distance', 'Safety_Activation',\n",
       "       'Safety_Duration', 'Temp_Humidity_Interact', 'Light_Temp_Interact',\n",
       "       'Alignment_Percentage', 'Proximity_Trend',\n",
       "       'Alignment_Velocity_Interaction', 'Time_To_Collision'],\n",
       "      dtype='object')"
      ]
     },
     "execution_count": 14,
     "metadata": {},
     "output_type": "execute_result"
    }
   ],
   "source": [
    "df.columns"
   ]
  },
  {
   "cell_type": "code",
   "execution_count": 15,
   "metadata": {},
   "outputs": [
    {
     "data": {
      "text/plain": [
       "(50000, 31)"
      ]
     },
     "execution_count": 15,
     "metadata": {},
     "output_type": "execute_result"
    }
   ],
   "source": [
    "df.shape"
   ]
  },
  {
   "cell_type": "code",
   "execution_count": 16,
   "metadata": {},
   "outputs": [
    {
     "name": "stdout",
     "output_type": "stream",
     "text": [
      "<class 'pandas.core.frame.DataFrame'>\n",
      "RangeIndex: 50000 entries, 0 to 49999\n",
      "Data columns (total 31 columns):\n",
      " #   Column                          Non-Null Count  Dtype  \n",
      "---  ------                          --------------  -----  \n",
      " 0   Latitude                        50000 non-null  float64\n",
      " 1   Longitude                       50000 non-null  float64\n",
      " 2   Altitude                        50000 non-null  float64\n",
      " 3   Distance                        50000 non-null  float64\n",
      " 4   Alignment                       50000 non-null  bool   \n",
      " 5   Distance_Sensors                50000 non-null  float64\n",
      " 6   Proximity                       50000 non-null  bool   \n",
      " 7   Wheel_Speed                     50000 non-null  float64\n",
      " 8   Velocity                        50000 non-null  float64\n",
      " 9   Hall_Effect                     50000 non-null  bool   \n",
      " 10  Emergency_Stop                  50000 non-null  bool   \n",
      " 11  Temperature                     50000 non-null  float64\n",
      " 12  Humidity                        50000 non-null  float64\n",
      " 13  Light_Level                     50000 non-null  float64\n",
      " 14  Alignment_Label                 50000 non-null  object \n",
      " 15  Safety_Label                    50000 non-null  object \n",
      " 16  Collision_Avoidance_Label       50000 non-null  object \n",
      " 17  Chaining_Unchaining_Label       50000 non-null  object \n",
      " 18  Relative_Distance               49999 non-null  float64\n",
      " 19  Relative_Angle                  49999 non-null  float64\n",
      " 20  Relative_Velocity               49999 non-null  float64\n",
      " 21  Rolling_Mean_Wheel_Speed        49991 non-null  float64\n",
      " 22  Rolling_Max_Distance            49991 non-null  float64\n",
      " 23  Safety_Activation               50000 non-null  int64  \n",
      " 24  Safety_Duration                 50000 non-null  int64  \n",
      " 25  Temp_Humidity_Interact          50000 non-null  float64\n",
      " 26  Light_Temp_Interact             50000 non-null  float64\n",
      " 27  Alignment_Percentage            49991 non-null  float64\n",
      " 28  Proximity_Trend                 49991 non-null  float64\n",
      " 29  Alignment_Velocity_Interaction  50000 non-null  float64\n",
      " 30  Time_To_Collision               50000 non-null  float64\n",
      "dtypes: bool(4), float64(21), int64(2), object(4)\n",
      "memory usage: 10.5+ MB\n"
     ]
    }
   ],
   "source": [
    "df.info()"
   ]
  },
  {
   "cell_type": "code",
   "execution_count": 17,
   "metadata": {},
   "outputs": [
    {
     "data": {
      "text/plain": [
       "Latitude                          0\n",
       "Longitude                         0\n",
       "Altitude                          0\n",
       "Distance                          0\n",
       "Alignment                         0\n",
       "Distance_Sensors                  0\n",
       "Proximity                         0\n",
       "Wheel_Speed                       0\n",
       "Velocity                          0\n",
       "Hall_Effect                       0\n",
       "Emergency_Stop                    0\n",
       "Temperature                       0\n",
       "Humidity                          0\n",
       "Light_Level                       0\n",
       "Alignment_Label                   0\n",
       "Safety_Label                      0\n",
       "Collision_Avoidance_Label         0\n",
       "Chaining_Unchaining_Label         0\n",
       "Relative_Distance                 1\n",
       "Relative_Angle                    1\n",
       "Relative_Velocity                 1\n",
       "Rolling_Mean_Wheel_Speed          9\n",
       "Rolling_Max_Distance              9\n",
       "Safety_Activation                 0\n",
       "Safety_Duration                   0\n",
       "Temp_Humidity_Interact            0\n",
       "Light_Temp_Interact               0\n",
       "Alignment_Percentage              9\n",
       "Proximity_Trend                   9\n",
       "Alignment_Velocity_Interaction    0\n",
       "Time_To_Collision                 0\n",
       "dtype: int64"
      ]
     },
     "execution_count": 17,
     "metadata": {},
     "output_type": "execute_result"
    }
   ],
   "source": [
    "df.isna().sum()"
   ]
  },
  {
   "cell_type": "code",
   "execution_count": 18,
   "metadata": {},
   "outputs": [],
   "source": [
    "numerical_columns = ['Relative_Distance', 'Relative_Angle', 'Relative_Velocity', 'Rolling_Mean_Wheel_Speed', \n",
    "'Rolling_Max_Distance', 'Alignment_Percentage', 'Proximity_Trend']\n",
    "\n",
    "mean_values = df[numerical_columns].mean()\n",
    "df[numerical_columns] = df[numerical_columns].fillna(mean_values)\n"
   ]
  },
  {
   "cell_type": "code",
   "execution_count": 19,
   "metadata": {},
   "outputs": [
    {
     "data": {
      "text/plain": [
       "Latitude                          0\n",
       "Longitude                         0\n",
       "Altitude                          0\n",
       "Distance                          0\n",
       "Alignment                         0\n",
       "Distance_Sensors                  0\n",
       "Proximity                         0\n",
       "Wheel_Speed                       0\n",
       "Velocity                          0\n",
       "Hall_Effect                       0\n",
       "Emergency_Stop                    0\n",
       "Temperature                       0\n",
       "Humidity                          0\n",
       "Light_Level                       0\n",
       "Alignment_Label                   0\n",
       "Safety_Label                      0\n",
       "Collision_Avoidance_Label         0\n",
       "Chaining_Unchaining_Label         0\n",
       "Relative_Distance                 0\n",
       "Relative_Angle                    0\n",
       "Relative_Velocity                 0\n",
       "Rolling_Mean_Wheel_Speed          0\n",
       "Rolling_Max_Distance              0\n",
       "Safety_Activation                 0\n",
       "Safety_Duration                   0\n",
       "Temp_Humidity_Interact            0\n",
       "Light_Temp_Interact               0\n",
       "Alignment_Percentage              0\n",
       "Proximity_Trend                   0\n",
       "Alignment_Velocity_Interaction    0\n",
       "Time_To_Collision                 0\n",
       "dtype: int64"
      ]
     },
     "execution_count": 19,
     "metadata": {},
     "output_type": "execute_result"
    }
   ],
   "source": [
    "df.isna().sum()"
   ]
  },
  {
   "cell_type": "markdown",
   "metadata": {},
   "source": [
    "# **Prepping data for Prediction**"
   ]
  },
  {
   "cell_type": "code",
   "execution_count": 22,
   "metadata": {},
   "outputs": [],
   "source": [
    "# Define the categorical columns for one-hot encoding\n",
    "categorical_columns = ['Alignment_Label', 'Safety_Label', 'Collision_Avoidance_Label']"
   ]
  },
  {
   "cell_type": "code",
   "execution_count": 23,
   "metadata": {},
   "outputs": [
    {
     "name": "stderr",
     "output_type": "stream",
     "text": [
      "/home/lowin/.local/lib/python3.10/site-packages/sklearn/preprocessing/_encoders.py:972: FutureWarning: `sparse` was renamed to `sparse_output` in version 1.2 and will be removed in 1.4. `sparse_output` is ignored unless you leave `sparse` to its default value.\n",
      "  warnings.warn(\n"
     ]
    }
   ],
   "source": [
    "# Apply one-hot encoding to categorical columns\n",
    "encoder = OneHotEncoder(sparse=False, drop=\"first\")  # Drop the first category to avoid multicollinearity\n",
    "encoded_features = encoder.fit_transform(df[categorical_columns])"
   ]
  },
  {
   "cell_type": "code",
   "execution_count": 24,
   "metadata": {},
   "outputs": [],
   "source": [
    "# Get the category names from the encoder\n",
    "category_names = encoder.get_feature_names_out(input_features=categorical_columns)"
   ]
  },
  {
   "cell_type": "code",
   "execution_count": 25,
   "metadata": {},
   "outputs": [],
   "source": [
    "# Create a DataFrame for the encoded features with proper column names\n",
    "encoded_df = pd.DataFrame(encoded_features, columns=category_names)"
   ]
  },
  {
   "cell_type": "code",
   "execution_count": 26,
   "metadata": {},
   "outputs": [],
   "source": [
    "# Concatenate the encoded features with the original data\n",
    "data_encoded = pd.concat([df, encoded_df], axis=1)"
   ]
  },
  {
   "cell_type": "code",
   "execution_count": 27,
   "metadata": {},
   "outputs": [
    {
     "data": {
      "text/plain": [
       "Index(['Latitude', 'Longitude', 'Altitude', 'Distance', 'Alignment',\n",
       "       'Distance_Sensors', 'Proximity', 'Wheel_Speed', 'Velocity',\n",
       "       'Hall_Effect', 'Emergency_Stop', 'Temperature', 'Humidity',\n",
       "       'Light_Level', 'Alignment_Label', 'Safety_Label',\n",
       "       'Collision_Avoidance_Label', 'Chaining_Unchaining_Label',\n",
       "       'Relative_Distance', 'Relative_Angle', 'Relative_Velocity',\n",
       "       'Rolling_Mean_Wheel_Speed', 'Rolling_Max_Distance', 'Safety_Activation',\n",
       "       'Safety_Duration', 'Temp_Humidity_Interact', 'Light_Temp_Interact',\n",
       "       'Alignment_Percentage', 'Proximity_Trend',\n",
       "       'Alignment_Velocity_Interaction', 'Time_To_Collision',\n",
       "       'Alignment_Label_Not_Aligned', 'Safety_Label_Unsafe',\n",
       "       'Collision_Avoidance_Label_Low_Risk',\n",
       "       'Collision_Avoidance_Label_Medium_Risk'],\n",
       "      dtype='object')"
      ]
     },
     "execution_count": 27,
     "metadata": {},
     "output_type": "execute_result"
    }
   ],
   "source": [
    "data_encoded.columns"
   ]
  },
  {
   "cell_type": "code",
   "execution_count": 28,
   "metadata": {},
   "outputs": [
    {
     "data": {
      "text/plain": [
       "Latitude                                 0\n",
       "Longitude                                0\n",
       "Altitude                                 0\n",
       "Distance                                 0\n",
       "Alignment                                0\n",
       "Distance_Sensors                         0\n",
       "Proximity                                0\n",
       "Wheel_Speed                              0\n",
       "Velocity                                 0\n",
       "Hall_Effect                              0\n",
       "Emergency_Stop                           0\n",
       "Temperature                              0\n",
       "Humidity                                 0\n",
       "Light_Level                              0\n",
       "Alignment_Label                          0\n",
       "Safety_Label                             0\n",
       "Collision_Avoidance_Label                0\n",
       "Chaining_Unchaining_Label                0\n",
       "Relative_Distance                        0\n",
       "Relative_Angle                           0\n",
       "Relative_Velocity                        0\n",
       "Rolling_Mean_Wheel_Speed                 0\n",
       "Rolling_Max_Distance                     0\n",
       "Safety_Activation                        0\n",
       "Safety_Duration                          0\n",
       "Temp_Humidity_Interact                   0\n",
       "Light_Temp_Interact                      0\n",
       "Alignment_Percentage                     0\n",
       "Proximity_Trend                          0\n",
       "Alignment_Velocity_Interaction           0\n",
       "Time_To_Collision                        0\n",
       "Alignment_Label_Not_Aligned              0\n",
       "Safety_Label_Unsafe                      0\n",
       "Collision_Avoidance_Label_Low_Risk       0\n",
       "Collision_Avoidance_Label_Medium_Risk    0\n",
       "dtype: int64"
      ]
     },
     "execution_count": 28,
     "metadata": {},
     "output_type": "execute_result"
    }
   ],
   "source": [
    "data_encoded.isna().sum()"
   ]
  },
  {
   "cell_type": "markdown",
   "metadata": {},
   "source": [
    "# **Machine Learning**"
   ]
  },
  {
   "cell_type": "code",
   "execution_count": 29,
   "metadata": {},
   "outputs": [],
   "source": [
    "features = ['Latitude', 'Longitude', 'Altitude', 'Distance', 'Alignment',\n",
    "       'Distance_Sensors', 'Proximity', 'Wheel_Speed', 'Velocity',\n",
    "       'Hall_Effect', 'Emergency_Stop', 'Temperature', 'Humidity',\n",
    "       'Light_Level', 'Relative_Distance', 'Relative_Angle', 'Relative_Velocity',\n",
    "       'Rolling_Mean_Wheel_Speed', 'Rolling_Max_Distance', 'Safety_Activation',\n",
    "       'Safety_Duration', 'Temp_Humidity_Interact', 'Light_Temp_Interact',\n",
    "       'Alignment_Percentage', 'Proximity_Trend',\n",
    "       'Alignment_Velocity_Interaction', 'Time_To_Collision',\n",
    "       'Alignment_Label_Not_Aligned', 'Safety_Label_Unsafe',\n",
    "       'Collision_Avoidance_Label_Medium_Risk']\n",
    "\n",
    "target = 'Chaining_Unchaining_Label'\n",
    "\n",
    "X = data_encoded[features]\n",
    "y = data_encoded[target]"
   ]
  },
  {
   "cell_type": "code",
   "execution_count": 30,
   "metadata": {},
   "outputs": [],
   "source": [
    "# Split the data into training and testing sets\n",
    "X_train, X_test, y_train, y_test = train_test_split(X, y, test_size=0.2, random_state=101)"
   ]
  },
  {
   "cell_type": "code",
   "execution_count": 31,
   "metadata": {},
   "outputs": [],
   "source": [
    "# Standardize features\n",
    "scaler = StandardScaler()\n",
    "X_train_scaled = scaler.fit_transform(X_train)\n",
    "X_test_scaled = scaler.transform(X_test)"
   ]
  },
  {
   "cell_type": "code",
   "execution_count": 32,
   "metadata": {},
   "outputs": [],
   "source": [
    "# Initialize a Random Forest classifier with adjusted hyperparameters\n",
    "model = RandomForestClassifier(n_estimators=200, max_depth=10, min_samples_split=2, random_state=101)"
   ]
  },
  {
   "cell_type": "code",
   "execution_count": 33,
   "metadata": {},
   "outputs": [
    {
     "name": "stdout",
     "output_type": "stream",
     "text": [
      "Cross-Validation Scores: [0.999625 1.       1.       0.99975  1.      ]\n",
      "Mean CV Score: 0.9998750000000001\n"
     ]
    }
   ],
   "source": [
    "# Implement cross-validation\n",
    "scores = cross_val_score(model, X_train_scaled, y_train, cv=5)\n",
    "print(\"Cross-Validation Scores:\", scores)\n",
    "print(\"Mean CV Score:\", np.mean(scores))"
   ]
  },
  {
   "cell_type": "code",
   "execution_count": 34,
   "metadata": {},
   "outputs": [
    {
     "data": {
      "text/html": [
       "<style>#sk-container-id-1 {color: black;}#sk-container-id-1 pre{padding: 0;}#sk-container-id-1 div.sk-toggleable {background-color: white;}#sk-container-id-1 label.sk-toggleable__label {cursor: pointer;display: block;width: 100%;margin-bottom: 0;padding: 0.3em;box-sizing: border-box;text-align: center;}#sk-container-id-1 label.sk-toggleable__label-arrow:before {content: \"▸\";float: left;margin-right: 0.25em;color: #696969;}#sk-container-id-1 label.sk-toggleable__label-arrow:hover:before {color: black;}#sk-container-id-1 div.sk-estimator:hover label.sk-toggleable__label-arrow:before {color: black;}#sk-container-id-1 div.sk-toggleable__content {max-height: 0;max-width: 0;overflow: hidden;text-align: left;background-color: #f0f8ff;}#sk-container-id-1 div.sk-toggleable__content pre {margin: 0.2em;color: black;border-radius: 0.25em;background-color: #f0f8ff;}#sk-container-id-1 input.sk-toggleable__control:checked~div.sk-toggleable__content {max-height: 200px;max-width: 100%;overflow: auto;}#sk-container-id-1 input.sk-toggleable__control:checked~label.sk-toggleable__label-arrow:before {content: \"▾\";}#sk-container-id-1 div.sk-estimator input.sk-toggleable__control:checked~label.sk-toggleable__label {background-color: #d4ebff;}#sk-container-id-1 div.sk-label input.sk-toggleable__control:checked~label.sk-toggleable__label {background-color: #d4ebff;}#sk-container-id-1 input.sk-hidden--visually {border: 0;clip: rect(1px 1px 1px 1px);clip: rect(1px, 1px, 1px, 1px);height: 1px;margin: -1px;overflow: hidden;padding: 0;position: absolute;width: 1px;}#sk-container-id-1 div.sk-estimator {font-family: monospace;background-color: #f0f8ff;border: 1px dotted black;border-radius: 0.25em;box-sizing: border-box;margin-bottom: 0.5em;}#sk-container-id-1 div.sk-estimator:hover {background-color: #d4ebff;}#sk-container-id-1 div.sk-parallel-item::after {content: \"\";width: 100%;border-bottom: 1px solid gray;flex-grow: 1;}#sk-container-id-1 div.sk-label:hover label.sk-toggleable__label {background-color: #d4ebff;}#sk-container-id-1 div.sk-serial::before {content: \"\";position: absolute;border-left: 1px solid gray;box-sizing: border-box;top: 0;bottom: 0;left: 50%;z-index: 0;}#sk-container-id-1 div.sk-serial {display: flex;flex-direction: column;align-items: center;background-color: white;padding-right: 0.2em;padding-left: 0.2em;position: relative;}#sk-container-id-1 div.sk-item {position: relative;z-index: 1;}#sk-container-id-1 div.sk-parallel {display: flex;align-items: stretch;justify-content: center;background-color: white;position: relative;}#sk-container-id-1 div.sk-item::before, #sk-container-id-1 div.sk-parallel-item::before {content: \"\";position: absolute;border-left: 1px solid gray;box-sizing: border-box;top: 0;bottom: 0;left: 50%;z-index: -1;}#sk-container-id-1 div.sk-parallel-item {display: flex;flex-direction: column;z-index: 1;position: relative;background-color: white;}#sk-container-id-1 div.sk-parallel-item:first-child::after {align-self: flex-end;width: 50%;}#sk-container-id-1 div.sk-parallel-item:last-child::after {align-self: flex-start;width: 50%;}#sk-container-id-1 div.sk-parallel-item:only-child::after {width: 0;}#sk-container-id-1 div.sk-dashed-wrapped {border: 1px dashed gray;margin: 0 0.4em 0.5em 0.4em;box-sizing: border-box;padding-bottom: 0.4em;background-color: white;}#sk-container-id-1 div.sk-label label {font-family: monospace;font-weight: bold;display: inline-block;line-height: 1.2em;}#sk-container-id-1 div.sk-label-container {text-align: center;}#sk-container-id-1 div.sk-container {/* jupyter's `normalize.less` sets `[hidden] { display: none; }` but bootstrap.min.css set `[hidden] { display: none !important; }` so we also need the `!important` here to be able to override the default hidden behavior on the sphinx rendered scikit-learn.org. See: https://github.com/scikit-learn/scikit-learn/issues/21755 */display: inline-block !important;position: relative;}#sk-container-id-1 div.sk-text-repr-fallback {display: none;}</style><div id=\"sk-container-id-1\" class=\"sk-top-container\"><div class=\"sk-text-repr-fallback\"><pre>RandomForestClassifier(max_depth=10, n_estimators=200, random_state=101)</pre><b>In a Jupyter environment, please rerun this cell to show the HTML representation or trust the notebook. <br />On GitHub, the HTML representation is unable to render, please try loading this page with nbviewer.org.</b></div><div class=\"sk-container\" hidden><div class=\"sk-item\"><div class=\"sk-estimator sk-toggleable\"><input class=\"sk-toggleable__control sk-hidden--visually\" id=\"sk-estimator-id-1\" type=\"checkbox\" checked><label for=\"sk-estimator-id-1\" class=\"sk-toggleable__label sk-toggleable__label-arrow\">RandomForestClassifier</label><div class=\"sk-toggleable__content\"><pre>RandomForestClassifier(max_depth=10, n_estimators=200, random_state=101)</pre></div></div></div></div></div>"
      ],
      "text/plain": [
       "RandomForestClassifier(max_depth=10, n_estimators=200, random_state=101)"
      ]
     },
     "execution_count": 34,
     "metadata": {},
     "output_type": "execute_result"
    }
   ],
   "source": [
    "# Train the classifier on the entire training data\n",
    "model.fit(X_train_scaled, y_train)"
   ]
  },
  {
   "cell_type": "code",
   "execution_count": 35,
   "metadata": {},
   "outputs": [],
   "source": [
    "# Make predictions on the test set\n",
    "y_pred = model.predict(X_test_scaled)"
   ]
  },
  {
   "cell_type": "code",
   "execution_count": 36,
   "metadata": {},
   "outputs": [
    {
     "name": "stdout",
     "output_type": "stream",
     "text": [
      "Accuracy: 1.00\n"
     ]
    }
   ],
   "source": [
    "# Calculate accuracy\n",
    "accuracy = accuracy_score(y_test, y_pred)\n",
    "print(f\"Accuracy: {accuracy:.2f}\")"
   ]
  },
  {
   "cell_type": "code",
   "execution_count": 37,
   "metadata": {},
   "outputs": [
    {
     "data": {
      "image/png": "[encoded data removed]",
      "text/plain": [
       "<Figure size 1000x600 with 1 Axes>"
      ]
     },
     "metadata": {},
     "output_type": "display_data"
    }
   ],
   "source": [
    "# Get feature importances\n",
    "feature_importances = pd.DataFrame(model.feature_importances_, index=X_train.columns, columns=[\"Importance\"]).sort_values(\"Importance\", ascending=False)\n",
    "\n",
    "# Plot the feature importances\n",
    "plt.figure(figsize=(10, 6))\n",
    "plt.barh(feature_importances.index, feature_importances[\"Importance\"])\n",
    "plt.xlabel(\"Feature Importance\")\n",
    "plt.ylabel(\"Features\")\n",
    "plt.title(\"Random Forest Feature Importances\")\n",
    "plt.show()"
   ]
  },
  {
   "cell_type": "code",
   "execution_count": 38,
   "metadata": {},
   "outputs": [
    {
     "data": {
      "text/html": [
       "<div>\n",
       "<style scoped>\n",
       "    .dataframe tbody tr th:only-of-type {\n",
       "        vertical-align: middle;\n",
       "    }\n",
       "\n",
       "    .dataframe tbody tr th {\n",
       "        vertical-align: top;\n",
       "    }\n",
       "\n",
       "    .dataframe thead th {\n",
       "        text-align: right;\n",
       "    }\n",
       "</style>\n",
       "<table border=\"1\" class=\"dataframe\">\n",
       "  <thead>\n",
       "    <tr style=\"text-align: right;\">\n",
       "      <th></th>\n",
       "      <th>Latitude</th>\n",
       "      <th>Longitude</th>\n",
       "      <th>Altitude</th>\n",
       "      <th>Distance</th>\n",
       "      <th>Alignment</th>\n",
       "      <th>Distance_Sensors</th>\n",
       "      <th>Proximity</th>\n",
       "      <th>Wheel_Speed</th>\n",
       "      <th>Velocity</th>\n",
       "      <th>Hall_Effect</th>\n",
       "      <th>...</th>\n",
       "      <th>Light_Temp_Interact</th>\n",
       "      <th>Alignment_Percentage</th>\n",
       "      <th>Proximity_Trend</th>\n",
       "      <th>Alignment_Velocity_Interaction</th>\n",
       "      <th>Time_To_Collision</th>\n",
       "      <th>Alignment_Label_Not_Aligned</th>\n",
       "      <th>Safety_Label_Unsafe</th>\n",
       "      <th>Collision_Avoidance_Label_Medium_Risk</th>\n",
       "      <th>Chaining_Unchaining_Label</th>\n",
       "      <th>predicted_condition</th>\n",
       "    </tr>\n",
       "  </thead>\n",
       "  <tbody>\n",
       "    <tr>\n",
       "      <th>18447</th>\n",
       "      <td>37.498949</td>\n",
       "      <td>-121.142210</td>\n",
       "      <td>23.620724</td>\n",
       "      <td>0.1341</td>\n",
       "      <td>False</td>\n",
       "      <td>3.353085</td>\n",
       "      <td>True</td>\n",
       "      <td>0.951897</td>\n",
       "      <td>0.285569</td>\n",
       "      <td>True</td>\n",
       "      <td>...</td>\n",
       "      <td>7511.043776</td>\n",
       "      <td>60.0</td>\n",
       "      <td>3.0</td>\n",
       "      <td>0.000000</td>\n",
       "      <td>0.469588</td>\n",
       "      <td>1.0</td>\n",
       "      <td>1.0</td>\n",
       "      <td>0.0</td>\n",
       "      <td>Unchaining</td>\n",
       "      <td>Unchaining</td>\n",
       "    </tr>\n",
       "    <tr>\n",
       "      <th>17768</th>\n",
       "      <td>37.501014</td>\n",
       "      <td>-121.339541</td>\n",
       "      <td>26.352712</td>\n",
       "      <td>0.2304</td>\n",
       "      <td>True</td>\n",
       "      <td>1.848568</td>\n",
       "      <td>False</td>\n",
       "      <td>3.187906</td>\n",
       "      <td>0.956372</td>\n",
       "      <td>True</td>\n",
       "      <td>...</td>\n",
       "      <td>7205.415598</td>\n",
       "      <td>100.0</td>\n",
       "      <td>3.0</td>\n",
       "      <td>0.956372</td>\n",
       "      <td>0.240910</td>\n",
       "      <td>0.0</td>\n",
       "      <td>0.0</td>\n",
       "      <td>0.0</td>\n",
       "      <td>Chaining</td>\n",
       "      <td>Chaining</td>\n",
       "    </tr>\n",
       "    <tr>\n",
       "      <th>45879</th>\n",
       "      <td>37.649607</td>\n",
       "      <td>-121.564035</td>\n",
       "      <td>16.697279</td>\n",
       "      <td>0.2637</td>\n",
       "      <td>False</td>\n",
       "      <td>2.661962</td>\n",
       "      <td>True</td>\n",
       "      <td>4.592311</td>\n",
       "      <td>1.377693</td>\n",
       "      <td>False</td>\n",
       "      <td>...</td>\n",
       "      <td>2741.239458</td>\n",
       "      <td>50.0</td>\n",
       "      <td>4.0</td>\n",
       "      <td>0.000000</td>\n",
       "      <td>0.191407</td>\n",
       "      <td>1.0</td>\n",
       "      <td>1.0</td>\n",
       "      <td>0.0</td>\n",
       "      <td>Unchaining</td>\n",
       "      <td>Unchaining</td>\n",
       "    </tr>\n",
       "    <tr>\n",
       "      <th>16972</th>\n",
       "      <td>37.046055</td>\n",
       "      <td>-121.299528</td>\n",
       "      <td>99.998455</td>\n",
       "      <td>0.2916</td>\n",
       "      <td>True</td>\n",
       "      <td>2.866549</td>\n",
       "      <td>False</td>\n",
       "      <td>2.358402</td>\n",
       "      <td>0.707521</td>\n",
       "      <td>False</td>\n",
       "      <td>...</td>\n",
       "      <td>5256.203242</td>\n",
       "      <td>50.0</td>\n",
       "      <td>3.0</td>\n",
       "      <td>0.707521</td>\n",
       "      <td>0.412143</td>\n",
       "      <td>0.0</td>\n",
       "      <td>1.0</td>\n",
       "      <td>0.0</td>\n",
       "      <td>Unchaining</td>\n",
       "      <td>Unchaining</td>\n",
       "    </tr>\n",
       "    <tr>\n",
       "      <th>12165</th>\n",
       "      <td>37.580895</td>\n",
       "      <td>-121.890475</td>\n",
       "      <td>7.555079</td>\n",
       "      <td>0.0495</td>\n",
       "      <td>True</td>\n",
       "      <td>3.679463</td>\n",
       "      <td>False</td>\n",
       "      <td>4.325098</td>\n",
       "      <td>1.297529</td>\n",
       "      <td>True</td>\n",
       "      <td>...</td>\n",
       "      <td>11393.635185</td>\n",
       "      <td>70.0</td>\n",
       "      <td>1.0</td>\n",
       "      <td>1.297529</td>\n",
       "      <td>0.038149</td>\n",
       "      <td>0.0</td>\n",
       "      <td>1.0</td>\n",
       "      <td>0.0</td>\n",
       "      <td>Unchaining</td>\n",
       "      <td>Unchaining</td>\n",
       "    </tr>\n",
       "    <tr>\n",
       "      <th>...</th>\n",
       "      <td>...</td>\n",
       "      <td>...</td>\n",
       "      <td>...</td>\n",
       "      <td>...</td>\n",
       "      <td>...</td>\n",
       "      <td>...</td>\n",
       "      <td>...</td>\n",
       "      <td>...</td>\n",
       "      <td>...</td>\n",
       "      <td>...</td>\n",
       "      <td>...</td>\n",
       "      <td>...</td>\n",
       "      <td>...</td>\n",
       "      <td>...</td>\n",
       "      <td>...</td>\n",
       "      <td>...</td>\n",
       "      <td>...</td>\n",
       "      <td>...</td>\n",
       "      <td>...</td>\n",
       "      <td>...</td>\n",
       "      <td>...</td>\n",
       "    </tr>\n",
       "    <tr>\n",
       "      <th>40899</th>\n",
       "      <td>37.027290</td>\n",
       "      <td>-121.546895</td>\n",
       "      <td>30.767693</td>\n",
       "      <td>0.2697</td>\n",
       "      <td>False</td>\n",
       "      <td>1.715971</td>\n",
       "      <td>False</td>\n",
       "      <td>4.512412</td>\n",
       "      <td>1.353724</td>\n",
       "      <td>True</td>\n",
       "      <td>...</td>\n",
       "      <td>24060.717615</td>\n",
       "      <td>60.0</td>\n",
       "      <td>2.0</td>\n",
       "      <td>0.000000</td>\n",
       "      <td>0.199228</td>\n",
       "      <td>1.0</td>\n",
       "      <td>0.0</td>\n",
       "      <td>0.0</td>\n",
       "      <td>Unchaining</td>\n",
       "      <td>Unchaining</td>\n",
       "    </tr>\n",
       "    <tr>\n",
       "      <th>7806</th>\n",
       "      <td>37.840409</td>\n",
       "      <td>-121.966231</td>\n",
       "      <td>48.972931</td>\n",
       "      <td>0.2418</td>\n",
       "      <td>False</td>\n",
       "      <td>0.747604</td>\n",
       "      <td>False</td>\n",
       "      <td>1.540537</td>\n",
       "      <td>0.462161</td>\n",
       "      <td>True</td>\n",
       "      <td>...</td>\n",
       "      <td>10219.998904</td>\n",
       "      <td>50.0</td>\n",
       "      <td>3.0</td>\n",
       "      <td>0.000000</td>\n",
       "      <td>0.523194</td>\n",
       "      <td>1.0</td>\n",
       "      <td>0.0</td>\n",
       "      <td>1.0</td>\n",
       "      <td>Unchaining</td>\n",
       "      <td>Unchaining</td>\n",
       "    </tr>\n",
       "    <tr>\n",
       "      <th>41481</th>\n",
       "      <td>37.870287</td>\n",
       "      <td>-121.560621</td>\n",
       "      <td>10.840948</td>\n",
       "      <td>0.1443</td>\n",
       "      <td>False</td>\n",
       "      <td>3.647022</td>\n",
       "      <td>False</td>\n",
       "      <td>1.822801</td>\n",
       "      <td>0.546840</td>\n",
       "      <td>True</td>\n",
       "      <td>...</td>\n",
       "      <td>10990.368695</td>\n",
       "      <td>50.0</td>\n",
       "      <td>1.0</td>\n",
       "      <td>0.000000</td>\n",
       "      <td>0.263880</td>\n",
       "      <td>1.0</td>\n",
       "      <td>0.0</td>\n",
       "      <td>0.0</td>\n",
       "      <td>Unchaining</td>\n",
       "      <td>Unchaining</td>\n",
       "    </tr>\n",
       "    <tr>\n",
       "      <th>21802</th>\n",
       "      <td>37.230213</td>\n",
       "      <td>-121.196095</td>\n",
       "      <td>18.167668</td>\n",
       "      <td>0.2406</td>\n",
       "      <td>True</td>\n",
       "      <td>3.761765</td>\n",
       "      <td>False</td>\n",
       "      <td>3.732910</td>\n",
       "      <td>1.119873</td>\n",
       "      <td>True</td>\n",
       "      <td>...</td>\n",
       "      <td>4607.040077</td>\n",
       "      <td>90.0</td>\n",
       "      <td>0.0</td>\n",
       "      <td>1.119873</td>\n",
       "      <td>0.214846</td>\n",
       "      <td>0.0</td>\n",
       "      <td>0.0</td>\n",
       "      <td>0.0</td>\n",
       "      <td>Unchaining</td>\n",
       "      <td>Unchaining</td>\n",
       "    </tr>\n",
       "    <tr>\n",
       "      <th>42453</th>\n",
       "      <td>37.850087</td>\n",
       "      <td>-121.896634</td>\n",
       "      <td>60.244174</td>\n",
       "      <td>0.1359</td>\n",
       "      <td>False</td>\n",
       "      <td>2.933460</td>\n",
       "      <td>False</td>\n",
       "      <td>4.544176</td>\n",
       "      <td>1.363253</td>\n",
       "      <td>True</td>\n",
       "      <td>...</td>\n",
       "      <td>15326.640145</td>\n",
       "      <td>70.0</td>\n",
       "      <td>4.0</td>\n",
       "      <td>0.000000</td>\n",
       "      <td>0.099688</td>\n",
       "      <td>1.0</td>\n",
       "      <td>0.0</td>\n",
       "      <td>0.0</td>\n",
       "      <td>Unchaining</td>\n",
       "      <td>Unchaining</td>\n",
       "    </tr>\n",
       "  </tbody>\n",
       "</table>\n",
       "<p>10000 rows × 32 columns</p>\n",
       "</div>"
      ],
      "text/plain": [
       "        Latitude   Longitude   Altitude  Distance  Alignment  \\\n",
       "18447  37.498949 -121.142210  23.620724    0.1341      False   \n",
       "17768  37.501014 -121.339541  26.352712    0.2304       True   \n",
       "45879  37.649607 -121.564035  16.697279    0.2637      False   \n",
       "16972  37.046055 -121.299528  99.998455    0.2916       True   \n",
       "12165  37.580895 -121.890475   7.555079    0.0495       True   \n",
       "...          ...         ...        ...       ...        ...   \n",
       "40899  37.027290 -121.546895  30.767693    0.2697      False   \n",
       "7806   37.840409 -121.966231  48.972931    0.2418      False   \n",
       "41481  37.870287 -121.560621  10.840948    0.1443      False   \n",
       "21802  37.230213 -121.196095  18.167668    0.2406       True   \n",
       "42453  37.850087 -121.896634  60.244174    0.1359      False   \n",
       "\n",
       "       Distance_Sensors  Proximity  Wheel_Speed  Velocity  Hall_Effect  ...  \\\n",
       "18447          3.353085       True     0.951897  0.285569         True  ...   \n",
       "17768          1.848568      False     3.187906  0.956372         True  ...   \n",
       "45879          2.661962       True     4.592311  1.377693        False  ...   \n",
       "16972          2.866549      False     2.358402  0.707521        False  ...   \n",
       "12165          3.679463      False     4.325098  1.297529         True  ...   \n",
       "...                 ...        ...          ...       ...          ...  ...   \n",
       "40899          1.715971      False     4.512412  1.353724         True  ...   \n",
       "7806           0.747604      False     1.540537  0.462161         True  ...   \n",
       "41481          3.647022      False     1.822801  0.546840         True  ...   \n",
       "21802          3.761765      False     3.732910  1.119873         True  ...   \n",
       "42453          2.933460      False     4.544176  1.363253         True  ...   \n",
       "\n",
       "       Light_Temp_Interact  Alignment_Percentage  Proximity_Trend  \\\n",
       "18447          7511.043776                  60.0              3.0   \n",
       "17768          7205.415598                 100.0              3.0   \n",
       "45879          2741.239458                  50.0              4.0   \n",
       "16972          5256.203242                  50.0              3.0   \n",
       "12165         11393.635185                  70.0              1.0   \n",
       "...                    ...                   ...              ...   \n",
       "40899         24060.717615                  60.0              2.0   \n",
       "7806          10219.998904                  50.0              3.0   \n",
       "41481         10990.368695                  50.0              1.0   \n",
       "21802          4607.040077                  90.0              0.0   \n",
       "42453         15326.640145                  70.0              4.0   \n",
       "\n",
       "       Alignment_Velocity_Interaction  Time_To_Collision  \\\n",
       "18447                        0.000000           0.469588   \n",
       "17768                        0.956372           0.240910   \n",
       "45879                        0.000000           0.191407   \n",
       "16972                        0.707521           0.412143   \n",
       "12165                        1.297529           0.038149   \n",
       "...                               ...                ...   \n",
       "40899                        0.000000           0.199228   \n",
       "7806                         0.000000           0.523194   \n",
       "41481                        0.000000           0.263880   \n",
       "21802                        1.119873           0.214846   \n",
       "42453                        0.000000           0.099688   \n",
       "\n",
       "       Alignment_Label_Not_Aligned  Safety_Label_Unsafe  \\\n",
       "18447                          1.0                  1.0   \n",
       "17768                          0.0                  0.0   \n",
       "45879                          1.0                  1.0   \n",
       "16972                          0.0                  1.0   \n",
       "12165                          0.0                  1.0   \n",
       "...                            ...                  ...   \n",
       "40899                          1.0                  0.0   \n",
       "7806                           1.0                  0.0   \n",
       "41481                          1.0                  0.0   \n",
       "21802                          0.0                  0.0   \n",
       "42453                          1.0                  0.0   \n",
       "\n",
       "       Collision_Avoidance_Label_Medium_Risk  Chaining_Unchaining_Label  \\\n",
       "18447                                    0.0                 Unchaining   \n",
       "17768                                    0.0                   Chaining   \n",
       "45879                                    0.0                 Unchaining   \n",
       "16972                                    0.0                 Unchaining   \n",
       "12165                                    0.0                 Unchaining   \n",
       "...                                      ...                        ...   \n",
       "40899                                    0.0                 Unchaining   \n",
       "7806                                     1.0                 Unchaining   \n",
       "41481                                    0.0                 Unchaining   \n",
       "21802                                    0.0                 Unchaining   \n",
       "42453                                    0.0                 Unchaining   \n",
       "\n",
       "       predicted_condition  \n",
       "18447           Unchaining  \n",
       "17768             Chaining  \n",
       "45879           Unchaining  \n",
       "16972           Unchaining  \n",
       "12165           Unchaining  \n",
       "...                    ...  \n",
       "40899           Unchaining  \n",
       "7806            Unchaining  \n",
       "41481           Unchaining  \n",
       "21802           Unchaining  \n",
       "42453           Unchaining  \n",
       "\n",
       "[10000 rows x 32 columns]"
      ]
     },
     "execution_count": 38,
     "metadata": {},
     "output_type": "execute_result"
    }
   ],
   "source": [
    "test_data = pd.concat([X_test, y_test], axis=1)\n",
    "test_data['predicted_condition'] = y_pred\n",
    "test_data"
   ]
  },
  {
   "cell_type": "code",
   "execution_count": 39,
   "metadata": {},
   "outputs": [
    {
     "data": {
      "image/png": "[encoded data removed]",
      "text/plain": [
       "<Figure size 1000x600 with 1 Axes>"
      ]
     },
     "metadata": {},
     "output_type": "display_data"
    }
   ],
   "source": [
    "# Make predictions on the test set\n",
    "y_pred = model.predict(X_test_scaled)\n",
    "\n",
    "# Create a DataFrame to compare actual and predicted categories\n",
    "comparison_data = pd.DataFrame({'Actual': y_test, 'Predicted': y_pred})\n",
    "\n",
    "# Plot a bar plot to compare actual and predicted categories\n",
    "plt.figure(figsize=(10, 6))\n",
    "comparison_data[\"Actual\"].value_counts().plot(kind='bar', color='blue', label='Actual')\n",
    "comparison_data[\"Predicted\"].value_counts().plot(kind='bar', color='orange', label='Predicted')\n",
    "plt.xlabel(\"Categories\")\n",
    "plt.ylabel(\"Count\")\n",
    "plt.title(\"Comparison of Actual and Predicted Categories\")\n",
    "plt.legend()\n",
    "plt.show()\n"
   ]
  },
  {
   "cell_type": "code",
   "execution_count": null,
   "metadata": {},
   "outputs": [],
   "source": []
  }
 ],
 "metadata": {
  "kernelspec": {
   "display_name": "Python 3",
   "language": "python",
   "name": "python3"
  },
  "language_info": {
   "codemirror_mode": {
    "name": "ipython",
    "version": 3
   },
   "file_extension": ".py",
   "mimetype": "text/x-python",
   "name": "python",
   "nbconvert_exporter": "python",
   "pygments_lexer": "ipython3",
   "version": "3.10.11"
  },
  "orig_nbformat": 4
 },
 "nbformat": 4,
 "nbformat_minor": 2
}
