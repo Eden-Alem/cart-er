{
 "cells": [
  {
   "cell_type": "markdown",
   "metadata": {},
   "source": [
    "# **Imports**"
   ]
  },
  {
   "cell_type": "code",
   "execution_count": 76,
   "metadata": {},
   "outputs": [],
   "source": [
    "import pandas as pd\n",
    "import numpy as np\n",
    "from sklearn.model_selection import train_test_split\n",
    "from sklearn.preprocessing import StandardScaler\n",
    "from sklearn.ensemble import RandomForestClassifier\n",
    "from sklearn.metrics import accuracy_score\n",
    "from sklearn.metrics import mean_squared_error, mean_absolute_error\n",
    "from sklearn.preprocessing import OneHotEncoder\n",
    "import matplotlib.pyplot as plt"
   ]
  },
  {
   "cell_type": "markdown",
   "metadata": {},
   "source": [
    "# **Reading Data**"
   ]
  },
  {
   "cell_type": "code",
   "execution_count": 2,
   "metadata": {},
   "outputs": [],
   "source": [
    "df = pd.read_csv('../Data/final_combined_data.csv')"
   ]
  },
  {
   "cell_type": "markdown",
   "metadata": {},
   "source": [
    "# **Feature Engineering**"
   ]
  },
  {
   "cell_type": "code",
   "execution_count": 3,
   "metadata": {},
   "outputs": [
    {
     "name": "stdout",
     "output_type": "stream",
     "text": [
      "<class 'pandas.core.frame.DataFrame'>\n",
      "RangeIndex: 5000 entries, 0 to 4999\n",
      "Data columns (total 18 columns):\n",
      " #   Column                     Non-Null Count  Dtype  \n",
      "---  ------                     --------------  -----  \n",
      " 0   Latitude                   5000 non-null   float64\n",
      " 1   Longitude                  5000 non-null   float64\n",
      " 2   Altitude                   5000 non-null   float64\n",
      " 3   Distance                   5000 non-null   float64\n",
      " 4   Alignment                  5000 non-null   bool   \n",
      " 5   Distance_Sensors           5000 non-null   float64\n",
      " 6   Proximity                  5000 non-null   bool   \n",
      " 7   Wheel_Speed                5000 non-null   float64\n",
      " 8   Velocity                   5000 non-null   float64\n",
      " 9   Hall_Effect                5000 non-null   bool   \n",
      " 10  Emergency_Stop             5000 non-null   bool   \n",
      " 11  Temperature                5000 non-null   float64\n",
      " 12  Humidity                   5000 non-null   float64\n",
      " 13  Light_Level                5000 non-null   float64\n",
      " 14  Alignment_Label            5000 non-null   object \n",
      " 15  Safety_Label               5000 non-null   object \n",
      " 16  Collision_Avoidance_Label  5000 non-null   object \n",
      " 17  Chaining_Unchaining_Label  5000 non-null   object \n",
      "dtypes: bool(4), float64(10), object(4)\n",
      "memory usage: 566.5+ KB\n"
     ]
    }
   ],
   "source": [
    "df.info()"
   ]
  },
  {
   "cell_type": "code",
   "execution_count": 4,
   "metadata": {},
   "outputs": [
    {
     "data": {
      "text/plain": [
       "Index(['Latitude', 'Longitude', 'Altitude', 'Distance', 'Alignment',\n",
       "       'Distance_Sensors', 'Proximity', 'Wheel_Speed', 'Velocity',\n",
       "       'Hall_Effect', 'Emergency_Stop', 'Temperature', 'Humidity',\n",
       "       'Light_Level', 'Alignment_Label', 'Safety_Label',\n",
       "       'Collision_Avoidance_Label', 'Chaining_Unchaining_Label'],\n",
       "      dtype='object')"
      ]
     },
     "execution_count": 4,
     "metadata": {},
     "output_type": "execute_result"
    }
   ],
   "source": [
    "df.columns"
   ]
  },
  {
   "cell_type": "code",
   "execution_count": 6,
   "metadata": {},
   "outputs": [],
   "source": [
    "# Relative Position and Angle\n",
    "df[\"Relative_Distance\"] = df[\"Distance\"].diff()\n",
    "df[\"Relative_Angle\"] = df[\"Longitude\"].diff()"
   ]
  },
  {
   "cell_type": "code",
   "execution_count": 7,
   "metadata": {},
   "outputs": [],
   "source": [
    "# Relative Velocity\n",
    "df[\"Relative_Velocity\"] = df[\"Velocity\"].diff()"
   ]
  },
  {
   "cell_type": "code",
   "execution_count": 8,
   "metadata": {},
   "outputs": [],
   "source": [
    "# Time Series Features\n",
    "window_size = 10\n",
    "df[\"Rolling_Mean_Wheel_Speed\"] = df[\"Wheel_Speed\"].rolling(window=window_size).mean()\n",
    "df[\"Rolling_Max_Distance\"] = df[\"Distance\"].rolling(window=window_size).max()"
   ]
  },
  {
   "cell_type": "code",
   "execution_count": 10,
   "metadata": {},
   "outputs": [],
   "source": [
    "# Safety and Emergency Features\n",
    "df[\"Safety_Activation\"] = (df[\"Hall_Effect\"] | df[\"Emergency_Stop\"]).astype(int)\n",
    "df[\"Safety_Duration\"] = df.groupby((df[\"Safety_Activation\"] != df[\"Safety_Activation\"].shift()).cumsum())[\"Safety_Activation\"].cumcount()\n"
   ]
  },
  {
   "cell_type": "code",
   "execution_count": 11,
   "metadata": {},
   "outputs": [],
   "source": [
    "# Environmental Conditions Interaction\n",
    "df[\"Temp_Humidity_Interact\"] = df[\"Temperature\"] * df[\"Humidity\"]\n",
    "df[\"Light_Temp_Interact\"] = df[\"Light_Level\"] * df[\"Temperature\"]"
   ]
  },
  {
   "cell_type": "code",
   "execution_count": 12,
   "metadata": {},
   "outputs": [],
   "source": [
    "# Alignment and Proximity Trends\n",
    "window_size = 10\n",
    "df[\"Alignment_Percentage\"] = df[\"Alignment\"].rolling(window=window_size).mean() * 100\n",
    "df[\"Proximity_Trend\"] = df[\"Proximity\"].rolling(window=window_size).sum()"
   ]
  },
  {
   "cell_type": "code",
   "execution_count": 13,
   "metadata": {},
   "outputs": [],
   "source": [
    "# Interaction Features\n",
    "df[\"Alignment_Velocity_Interaction\"] = df[\"Alignment\"] * df[\"Velocity\"]"
   ]
  },
  {
   "cell_type": "code",
   "execution_count": 14,
   "metadata": {},
   "outputs": [],
   "source": [
    "# Estimate time to collision\n",
    "df[\"Time_To_Collision\"] = df[\"Distance\"] / df[\"Velocity\"]"
   ]
  },
  {
   "cell_type": "code",
   "execution_count": null,
   "metadata": {},
   "outputs": [],
   "source": [
    "# Save the updated combined data with new features to a new CSV file\n",
    "# df.to_csv(\"combined_data_with_features.csv\", index=False)\n",
    "\n",
    "print(\"Combined data with new features saved.\")"
   ]
  },
  {
   "cell_type": "code",
   "execution_count": 15,
   "metadata": {},
   "outputs": [
    {
     "data": {
      "text/plain": [
       "Index(['Latitude', 'Longitude', 'Altitude', 'Distance', 'Alignment',\n",
       "       'Distance_Sensors', 'Proximity', 'Wheel_Speed', 'Velocity',\n",
       "       'Hall_Effect', 'Emergency_Stop', 'Temperature', 'Humidity',\n",
       "       'Light_Level', 'Alignment_Label', 'Safety_Label',\n",
       "       'Collision_Avoidance_Label', 'Chaining_Unchaining_Label',\n",
       "       'Relative_Distance', 'Relative_Angle', 'Relative_Velocity',\n",
       "       'Rolling_Mean_Wheel_Speed', 'Rolling_Max_Distance', 'Safety_Activation',\n",
       "       'Safety_Duration', 'Temp_Humidity_Interact', 'Light_Temp_Interact',\n",
       "       'Alignment_Percentage', 'Proximity_Trend',\n",
       "       'Alignment_Velocity_Interaction', 'Time_To_Collision'],\n",
       "      dtype='object')"
      ]
     },
     "execution_count": 15,
     "metadata": {},
     "output_type": "execute_result"
    }
   ],
   "source": [
    "df.columns"
   ]
  },
  {
   "cell_type": "code",
   "execution_count": 17,
   "metadata": {},
   "outputs": [
    {
     "data": {
      "text/plain": [
       "(5000, 31)"
      ]
     },
     "execution_count": 17,
     "metadata": {},
     "output_type": "execute_result"
    }
   ],
   "source": [
    "df.shape"
   ]
  },
  {
   "cell_type": "code",
   "execution_count": 22,
   "metadata": {},
   "outputs": [
    {
     "name": "stdout",
     "output_type": "stream",
     "text": [
      "<class 'pandas.core.frame.DataFrame'>\n",
      "RangeIndex: 5000 entries, 0 to 4999\n",
      "Data columns (total 31 columns):\n",
      " #   Column                          Non-Null Count  Dtype  \n",
      "---  ------                          --------------  -----  \n",
      " 0   Latitude                        5000 non-null   float64\n",
      " 1   Longitude                       5000 non-null   float64\n",
      " 2   Altitude                        5000 non-null   float64\n",
      " 3   Distance                        5000 non-null   float64\n",
      " 4   Alignment                       5000 non-null   bool   \n",
      " 5   Distance_Sensors                5000 non-null   float64\n",
      " 6   Proximity                       5000 non-null   bool   \n",
      " 7   Wheel_Speed                     5000 non-null   float64\n",
      " 8   Velocity                        5000 non-null   float64\n",
      " 9   Hall_Effect                     5000 non-null   bool   \n",
      " 10  Emergency_Stop                  5000 non-null   bool   \n",
      " 11  Temperature                     5000 non-null   float64\n",
      " 12  Humidity                        5000 non-null   float64\n",
      " 13  Light_Level                     5000 non-null   float64\n",
      " 14  Alignment_Label                 5000 non-null   object \n",
      " 15  Safety_Label                    5000 non-null   object \n",
      " 16  Collision_Avoidance_Label       5000 non-null   object \n",
      " 17  Chaining_Unchaining_Label       5000 non-null   object \n",
      " 18  Relative_Distance               4999 non-null   float64\n",
      " 19  Relative_Angle                  4999 non-null   float64\n",
      " 20  Relative_Velocity               4999 non-null   float64\n",
      " 21  Rolling_Mean_Wheel_Speed        4991 non-null   float64\n",
      " 22  Rolling_Max_Distance            4991 non-null   float64\n",
      " 23  Safety_Activation               5000 non-null   int64  \n",
      " 24  Safety_Duration                 5000 non-null   int64  \n",
      " 25  Temp_Humidity_Interact          5000 non-null   float64\n",
      " 26  Light_Temp_Interact             5000 non-null   float64\n",
      " 27  Alignment_Percentage            4991 non-null   float64\n",
      " 28  Proximity_Trend                 4991 non-null   float64\n",
      " 29  Alignment_Velocity_Interaction  5000 non-null   float64\n",
      " 30  Time_To_Collision               5000 non-null   float64\n",
      "dtypes: bool(4), float64(21), int64(2), object(4)\n",
      "memory usage: 1.0+ MB\n"
     ]
    }
   ],
   "source": [
    "df.info()"
   ]
  },
  {
   "cell_type": "code",
   "execution_count": 41,
   "metadata": {},
   "outputs": [
    {
     "data": {
      "text/plain": [
       "Latitude                          0\n",
       "Longitude                         0\n",
       "Altitude                          0\n",
       "Distance                          0\n",
       "Alignment                         0\n",
       "Distance_Sensors                  0\n",
       "Proximity                         0\n",
       "Wheel_Speed                       0\n",
       "Velocity                          0\n",
       "Hall_Effect                       0\n",
       "Emergency_Stop                    0\n",
       "Temperature                       0\n",
       "Humidity                          0\n",
       "Light_Level                       0\n",
       "Alignment_Label                   0\n",
       "Safety_Label                      0\n",
       "Collision_Avoidance_Label         0\n",
       "Chaining_Unchaining_Label         0\n",
       "Relative_Distance                 1\n",
       "Relative_Angle                    1\n",
       "Relative_Velocity                 1\n",
       "Rolling_Mean_Wheel_Speed          9\n",
       "Rolling_Max_Distance              9\n",
       "Safety_Activation                 0\n",
       "Safety_Duration                   0\n",
       "Temp_Humidity_Interact            0\n",
       "Light_Temp_Interact               0\n",
       "Alignment_Percentage              9\n",
       "Proximity_Trend                   9\n",
       "Alignment_Velocity_Interaction    0\n",
       "Time_To_Collision                 0\n",
       "dtype: int64"
      ]
     },
     "execution_count": 41,
     "metadata": {},
     "output_type": "execute_result"
    }
   ],
   "source": [
    "df.isna().sum()"
   ]
  },
  {
   "cell_type": "code",
   "execution_count": 54,
   "metadata": {},
   "outputs": [],
   "source": [
    "numerical_columns = ['Relative_Distance', 'Relative_Angle', 'Relative_Velocity', 'Rolling_Mean_Wheel_Speed', \n",
    "'Rolling_Max_Distance', 'Alignment_Percentage', 'Proximity_Trend']\n",
    "\n",
    "mean_values = df[numerical_columns].mean()\n",
    "df[numerical_columns] = df[numerical_columns].fillna(mean_values)\n"
   ]
  },
  {
   "cell_type": "code",
   "execution_count": 57,
   "metadata": {},
   "outputs": [
    {
     "data": {
      "text/plain": [
       "Latitude                          0\n",
       "Longitude                         0\n",
       "Altitude                          0\n",
       "Distance                          0\n",
       "Alignment                         0\n",
       "Distance_Sensors                  0\n",
       "Proximity                         0\n",
       "Wheel_Speed                       0\n",
       "Velocity                          0\n",
       "Hall_Effect                       0\n",
       "Emergency_Stop                    0\n",
       "Temperature                       0\n",
       "Humidity                          0\n",
       "Light_Level                       0\n",
       "Alignment_Label                   0\n",
       "Safety_Label                      0\n",
       "Collision_Avoidance_Label         0\n",
       "Chaining_Unchaining_Label         0\n",
       "Relative_Distance                 0\n",
       "Relative_Angle                    0\n",
       "Relative_Velocity                 0\n",
       "Rolling_Mean_Wheel_Speed          0\n",
       "Rolling_Max_Distance              0\n",
       "Safety_Activation                 0\n",
       "Safety_Duration                   0\n",
       "Temp_Humidity_Interact            0\n",
       "Light_Temp_Interact               0\n",
       "Alignment_Percentage              0\n",
       "Proximity_Trend                   0\n",
       "Alignment_Velocity_Interaction    0\n",
       "Time_To_Collision                 0\n",
       "dtype: int64"
      ]
     },
     "execution_count": 57,
     "metadata": {},
     "output_type": "execute_result"
    }
   ],
   "source": [
    "df.isna().sum()"
   ]
  },
  {
   "cell_type": "markdown",
   "metadata": {},
   "source": [
    "# **Prepping data for Prediction**"
   ]
  },
  {
   "cell_type": "code",
   "execution_count": 58,
   "metadata": {},
   "outputs": [],
   "source": [
    "# Define the categorical columns for one-hot encoding\n",
    "categorical_columns = ['Alignment_Label', 'Safety_Label', 'Collision_Avoidance_Label']"
   ]
  },
  {
   "cell_type": "code",
   "execution_count": 59,
   "metadata": {},
   "outputs": [
    {
     "name": "stderr",
     "output_type": "stream",
     "text": [
      "/home/lowin/.local/lib/python3.10/site-packages/sklearn/preprocessing/_encoders.py:972: FutureWarning: `sparse` was renamed to `sparse_output` in version 1.2 and will be removed in 1.4. `sparse_output` is ignored unless you leave `sparse` to its default value.\n",
      "  warnings.warn(\n"
     ]
    }
   ],
   "source": [
    "# Apply one-hot encoding to categorical columns\n",
    "encoder = OneHotEncoder(sparse=False, drop=\"first\")  # Drop the first category to avoid multicollinearity\n",
    "encoded_features = encoder.fit_transform(df[categorical_columns])"
   ]
  },
  {
   "cell_type": "code",
   "execution_count": 60,
   "metadata": {},
   "outputs": [],
   "source": [
    "# Get the category names from the encoder\n",
    "category_names = encoder.get_feature_names_out(input_features=categorical_columns)"
   ]
  },
  {
   "cell_type": "code",
   "execution_count": 61,
   "metadata": {},
   "outputs": [],
   "source": [
    "# Create a DataFrame for the encoded features with proper column names\n",
    "encoded_df = pd.DataFrame(encoded_features, columns=category_names)"
   ]
  },
  {
   "cell_type": "code",
   "execution_count": 62,
   "metadata": {},
   "outputs": [],
   "source": [
    "# Concatenate the encoded features with the original data\n",
    "data_encoded = pd.concat([df, encoded_df], axis=1)"
   ]
  },
  {
   "cell_type": "code",
   "execution_count": 63,
   "metadata": {},
   "outputs": [
    {
     "data": {
      "text/plain": [
       "Index(['Latitude', 'Longitude', 'Altitude', 'Distance', 'Alignment',\n",
       "       'Distance_Sensors', 'Proximity', 'Wheel_Speed', 'Velocity',\n",
       "       'Hall_Effect', 'Emergency_Stop', 'Temperature', 'Humidity',\n",
       "       'Light_Level', 'Alignment_Label', 'Safety_Label',\n",
       "       'Collision_Avoidance_Label', 'Chaining_Unchaining_Label',\n",
       "       'Relative_Distance', 'Relative_Angle', 'Relative_Velocity',\n",
       "       'Rolling_Mean_Wheel_Speed', 'Rolling_Max_Distance', 'Safety_Activation',\n",
       "       'Safety_Duration', 'Temp_Humidity_Interact', 'Light_Temp_Interact',\n",
       "       'Alignment_Percentage', 'Proximity_Trend',\n",
       "       'Alignment_Velocity_Interaction', 'Time_To_Collision',\n",
       "       'Alignment_Label_Not_Aligned', 'Safety_Label_Unsafe',\n",
       "       'Collision_Avoidance_Label_Medium_Risk'],\n",
       "      dtype='object')"
      ]
     },
     "execution_count": 63,
     "metadata": {},
     "output_type": "execute_result"
    }
   ],
   "source": [
    "data_encoded.columns"
   ]
  },
  {
   "cell_type": "code",
   "execution_count": 64,
   "metadata": {},
   "outputs": [
    {
     "data": {
      "text/plain": [
       "Latitude                                 0\n",
       "Longitude                                0\n",
       "Altitude                                 0\n",
       "Distance                                 0\n",
       "Alignment                                0\n",
       "Distance_Sensors                         0\n",
       "Proximity                                0\n",
       "Wheel_Speed                              0\n",
       "Velocity                                 0\n",
       "Hall_Effect                              0\n",
       "Emergency_Stop                           0\n",
       "Temperature                              0\n",
       "Humidity                                 0\n",
       "Light_Level                              0\n",
       "Alignment_Label                          0\n",
       "Safety_Label                             0\n",
       "Collision_Avoidance_Label                0\n",
       "Chaining_Unchaining_Label                0\n",
       "Relative_Distance                        0\n",
       "Relative_Angle                           0\n",
       "Relative_Velocity                        0\n",
       "Rolling_Mean_Wheel_Speed                 0\n",
       "Rolling_Max_Distance                     0\n",
       "Safety_Activation                        0\n",
       "Safety_Duration                          0\n",
       "Temp_Humidity_Interact                   0\n",
       "Light_Temp_Interact                      0\n",
       "Alignment_Percentage                     0\n",
       "Proximity_Trend                          0\n",
       "Alignment_Velocity_Interaction           0\n",
       "Time_To_Collision                        0\n",
       "Alignment_Label_Not_Aligned              0\n",
       "Safety_Label_Unsafe                      0\n",
       "Collision_Avoidance_Label_Medium_Risk    0\n",
       "dtype: int64"
      ]
     },
     "execution_count": 64,
     "metadata": {},
     "output_type": "execute_result"
    }
   ],
   "source": [
    "data_encoded.isna().sum()"
   ]
  },
  {
   "cell_type": "markdown",
   "metadata": {},
   "source": [
    "# **Machine Learning**"
   ]
  },
  {
   "cell_type": "code",
   "execution_count": 65,
   "metadata": {},
   "outputs": [],
   "source": [
    "features = ['Latitude', 'Longitude', 'Altitude', 'Distance', 'Alignment',\n",
    "       'Distance_Sensors', 'Proximity', 'Wheel_Speed', 'Velocity',\n",
    "       'Hall_Effect', 'Emergency_Stop', 'Temperature', 'Humidity',\n",
    "       'Light_Level', 'Relative_Distance', 'Relative_Angle', 'Relative_Velocity',\n",
    "       'Rolling_Mean_Wheel_Speed', 'Rolling_Max_Distance', 'Safety_Activation',\n",
    "       'Safety_Duration', 'Temp_Humidity_Interact', 'Light_Temp_Interact',\n",
    "       'Alignment_Percentage', 'Proximity_Trend',\n",
    "       'Alignment_Velocity_Interaction', 'Time_To_Collision',\n",
    "       'Alignment_Label_Not_Aligned', 'Safety_Label_Unsafe',\n",
    "       'Collision_Avoidance_Label_Medium_Risk']\n",
    "\n",
    "target = 'Chaining_Unchaining_Label'\n",
    "\n",
    "X = data_encoded[features]\n",
    "y = data_encoded[target]"
   ]
  },
  {
   "cell_type": "code",
   "execution_count": 66,
   "metadata": {},
   "outputs": [],
   "source": [
    "# Split the data into training and testing sets\n",
    "X_train, X_test, y_train, y_test = train_test_split(X, y, test_size=0.2, random_state=101)"
   ]
  },
  {
   "cell_type": "code",
   "execution_count": 67,
   "metadata": {},
   "outputs": [],
   "source": [
    "# Standardize features\n",
    "scaler = StandardScaler()\n",
    "X_train_scaled = scaler.fit_transform(X_train)\n",
    "X_test_scaled = scaler.transform(X_test)"
   ]
  },
  {
   "cell_type": "code",
   "execution_count": 68,
   "metadata": {},
   "outputs": [],
   "source": [
    "# Initialize a Random Forest classifier\n",
    "model = RandomForestClassifier(n_estimators=100, random_state=101)"
   ]
  },
  {
   "cell_type": "code",
   "execution_count": 69,
   "metadata": {},
   "outputs": [
    {
     "data": {
      "text/html": [
       "<style>#sk-container-id-1 {color: black;}#sk-container-id-1 pre{padding: 0;}#sk-container-id-1 div.sk-toggleable {background-color: white;}#sk-container-id-1 label.sk-toggleable__label {cursor: pointer;display: block;width: 100%;margin-bottom: 0;padding: 0.3em;box-sizing: border-box;text-align: center;}#sk-container-id-1 label.sk-toggleable__label-arrow:before {content: \"▸\";float: left;margin-right: 0.25em;color: #696969;}#sk-container-id-1 label.sk-toggleable__label-arrow:hover:before {color: black;}#sk-container-id-1 div.sk-estimator:hover label.sk-toggleable__label-arrow:before {color: black;}#sk-container-id-1 div.sk-toggleable__content {max-height: 0;max-width: 0;overflow: hidden;text-align: left;background-color: #f0f8ff;}#sk-container-id-1 div.sk-toggleable__content pre {margin: 0.2em;color: black;border-radius: 0.25em;background-color: #f0f8ff;}#sk-container-id-1 input.sk-toggleable__control:checked~div.sk-toggleable__content {max-height: 200px;max-width: 100%;overflow: auto;}#sk-container-id-1 input.sk-toggleable__control:checked~label.sk-toggleable__label-arrow:before {content: \"▾\";}#sk-container-id-1 div.sk-estimator input.sk-toggleable__control:checked~label.sk-toggleable__label {background-color: #d4ebff;}#sk-container-id-1 div.sk-label input.sk-toggleable__control:checked~label.sk-toggleable__label {background-color: #d4ebff;}#sk-container-id-1 input.sk-hidden--visually {border: 0;clip: rect(1px 1px 1px 1px);clip: rect(1px, 1px, 1px, 1px);height: 1px;margin: -1px;overflow: hidden;padding: 0;position: absolute;width: 1px;}#sk-container-id-1 div.sk-estimator {font-family: monospace;background-color: #f0f8ff;border: 1px dotted black;border-radius: 0.25em;box-sizing: border-box;margin-bottom: 0.5em;}#sk-container-id-1 div.sk-estimator:hover {background-color: #d4ebff;}#sk-container-id-1 div.sk-parallel-item::after {content: \"\";width: 100%;border-bottom: 1px solid gray;flex-grow: 1;}#sk-container-id-1 div.sk-label:hover label.sk-toggleable__label {background-color: #d4ebff;}#sk-container-id-1 div.sk-serial::before {content: \"\";position: absolute;border-left: 1px solid gray;box-sizing: border-box;top: 0;bottom: 0;left: 50%;z-index: 0;}#sk-container-id-1 div.sk-serial {display: flex;flex-direction: column;align-items: center;background-color: white;padding-right: 0.2em;padding-left: 0.2em;position: relative;}#sk-container-id-1 div.sk-item {position: relative;z-index: 1;}#sk-container-id-1 div.sk-parallel {display: flex;align-items: stretch;justify-content: center;background-color: white;position: relative;}#sk-container-id-1 div.sk-item::before, #sk-container-id-1 div.sk-parallel-item::before {content: \"\";position: absolute;border-left: 1px solid gray;box-sizing: border-box;top: 0;bottom: 0;left: 50%;z-index: -1;}#sk-container-id-1 div.sk-parallel-item {display: flex;flex-direction: column;z-index: 1;position: relative;background-color: white;}#sk-container-id-1 div.sk-parallel-item:first-child::after {align-self: flex-end;width: 50%;}#sk-container-id-1 div.sk-parallel-item:last-child::after {align-self: flex-start;width: 50%;}#sk-container-id-1 div.sk-parallel-item:only-child::after {width: 0;}#sk-container-id-1 div.sk-dashed-wrapped {border: 1px dashed gray;margin: 0 0.4em 0.5em 0.4em;box-sizing: border-box;padding-bottom: 0.4em;background-color: white;}#sk-container-id-1 div.sk-label label {font-family: monospace;font-weight: bold;display: inline-block;line-height: 1.2em;}#sk-container-id-1 div.sk-label-container {text-align: center;}#sk-container-id-1 div.sk-container {/* jupyter's `normalize.less` sets `[hidden] { display: none; }` but bootstrap.min.css set `[hidden] { display: none !important; }` so we also need the `!important` here to be able to override the default hidden behavior on the sphinx rendered scikit-learn.org. See: https://github.com/scikit-learn/scikit-learn/issues/21755 */display: inline-block !important;position: relative;}#sk-container-id-1 div.sk-text-repr-fallback {display: none;}</style><div id=\"sk-container-id-1\" class=\"sk-top-container\"><div class=\"sk-text-repr-fallback\"><pre>RandomForestClassifier(random_state=101)</pre><b>In a Jupyter environment, please rerun this cell to show the HTML representation or trust the notebook. <br />On GitHub, the HTML representation is unable to render, please try loading this page with nbviewer.org.</b></div><div class=\"sk-container\" hidden><div class=\"sk-item\"><div class=\"sk-estimator sk-toggleable\"><input class=\"sk-toggleable__control sk-hidden--visually\" id=\"sk-estimator-id-1\" type=\"checkbox\" checked><label for=\"sk-estimator-id-1\" class=\"sk-toggleable__label sk-toggleable__label-arrow\">RandomForestClassifier</label><div class=\"sk-toggleable__content\"><pre>RandomForestClassifier(random_state=101)</pre></div></div></div></div></div>"
      ],
      "text/plain": [
       "RandomForestClassifier(random_state=101)"
      ]
     },
     "execution_count": 69,
     "metadata": {},
     "output_type": "execute_result"
    }
   ],
   "source": [
    "# Train the classifier\n",
    "model.fit(X_train_scaled, y_train)"
   ]
  },
  {
   "cell_type": "code",
   "execution_count": 70,
   "metadata": {},
   "outputs": [],
   "source": [
    "# Make predictions on the test set\n",
    "y_pred = model.predict(X_test_scaled)"
   ]
  },
  {
   "cell_type": "code",
   "execution_count": 72,
   "metadata": {},
   "outputs": [
    {
     "name": "stdout",
     "output_type": "stream",
     "text": [
      "Accuracy: 1.00\n"
     ]
    }
   ],
   "source": [
    "# Calculate accuracy\n",
    "accuracy = accuracy_score(y_test, y_pred)\n",
    "print(f\"Accuracy: {accuracy:.2f}\")"
   ]
  },
  {
   "cell_type": "code",
   "execution_count": 74,
   "metadata": {},
   "outputs": [
    {
     "data": {
      "text/html": [
       "<div>\n",
       "<style scoped>\n",
       "    .dataframe tbody tr th:only-of-type {\n",
       "        vertical-align: middle;\n",
       "    }\n",
       "\n",
       "    .dataframe tbody tr th {\n",
       "        vertical-align: top;\n",
       "    }\n",
       "\n",
       "    .dataframe thead th {\n",
       "        text-align: right;\n",
       "    }\n",
       "</style>\n",
       "<table border=\"1\" class=\"dataframe\">\n",
       "  <thead>\n",
       "    <tr style=\"text-align: right;\">\n",
       "      <th></th>\n",
       "      <th>Latitude</th>\n",
       "      <th>Longitude</th>\n",
       "      <th>Altitude</th>\n",
       "      <th>Distance</th>\n",
       "      <th>Alignment</th>\n",
       "      <th>Distance_Sensors</th>\n",
       "      <th>Proximity</th>\n",
       "      <th>Wheel_Speed</th>\n",
       "      <th>Velocity</th>\n",
       "      <th>Hall_Effect</th>\n",
       "      <th>...</th>\n",
       "      <th>Light_Temp_Interact</th>\n",
       "      <th>Alignment_Percentage</th>\n",
       "      <th>Proximity_Trend</th>\n",
       "      <th>Alignment_Velocity_Interaction</th>\n",
       "      <th>Time_To_Collision</th>\n",
       "      <th>Alignment_Label_Not_Aligned</th>\n",
       "      <th>Safety_Label_Unsafe</th>\n",
       "      <th>Collision_Avoidance_Label_Medium_Risk</th>\n",
       "      <th>Chaining_Unchaining_Label</th>\n",
       "      <th>predicted_condition</th>\n",
       "    </tr>\n",
       "  </thead>\n",
       "  <tbody>\n",
       "    <tr>\n",
       "      <th>1718</th>\n",
       "      <td>37.110036</td>\n",
       "      <td>-121.266272</td>\n",
       "      <td>64.456110</td>\n",
       "      <td>0.2154</td>\n",
       "      <td>False</td>\n",
       "      <td>2.360306</td>\n",
       "      <td>True</td>\n",
       "      <td>4.743287</td>\n",
       "      <td>1.422986</td>\n",
       "      <td>True</td>\n",
       "      <td>...</td>\n",
       "      <td>3697.999690</td>\n",
       "      <td>30.0</td>\n",
       "      <td>5.0</td>\n",
       "      <td>0.000000</td>\n",
       "      <td>0.151372</td>\n",
       "      <td>1.0</td>\n",
       "      <td>1.0</td>\n",
       "      <td>0.0</td>\n",
       "      <td>Unchaining</td>\n",
       "      <td>Unchaining</td>\n",
       "    </tr>\n",
       "    <tr>\n",
       "      <th>2511</th>\n",
       "      <td>37.032378</td>\n",
       "      <td>-121.515184</td>\n",
       "      <td>34.496359</td>\n",
       "      <td>0.1533</td>\n",
       "      <td>True</td>\n",
       "      <td>3.184067</td>\n",
       "      <td>False</td>\n",
       "      <td>2.575568</td>\n",
       "      <td>0.772670</td>\n",
       "      <td>True</td>\n",
       "      <td>...</td>\n",
       "      <td>6015.495825</td>\n",
       "      <td>60.0</td>\n",
       "      <td>3.0</td>\n",
       "      <td>0.772670</td>\n",
       "      <td>0.198403</td>\n",
       "      <td>0.0</td>\n",
       "      <td>0.0</td>\n",
       "      <td>0.0</td>\n",
       "      <td>Unchaining</td>\n",
       "      <td>Unchaining</td>\n",
       "    </tr>\n",
       "    <tr>\n",
       "      <th>345</th>\n",
       "      <td>37.417826</td>\n",
       "      <td>-121.810507</td>\n",
       "      <td>30.628426</td>\n",
       "      <td>0.1035</td>\n",
       "      <td>False</td>\n",
       "      <td>1.040936</td>\n",
       "      <td>True</td>\n",
       "      <td>2.303463</td>\n",
       "      <td>0.691039</td>\n",
       "      <td>False</td>\n",
       "      <td>...</td>\n",
       "      <td>22307.401615</td>\n",
       "      <td>30.0</td>\n",
       "      <td>6.0</td>\n",
       "      <td>0.000000</td>\n",
       "      <td>0.149775</td>\n",
       "      <td>1.0</td>\n",
       "      <td>1.0</td>\n",
       "      <td>0.0</td>\n",
       "      <td>Unchaining</td>\n",
       "      <td>Unchaining</td>\n",
       "    </tr>\n",
       "    <tr>\n",
       "      <th>2521</th>\n",
       "      <td>37.032373</td>\n",
       "      <td>-121.515175</td>\n",
       "      <td>34.496359</td>\n",
       "      <td>0.1563</td>\n",
       "      <td>True</td>\n",
       "      <td>1.869206</td>\n",
       "      <td>False</td>\n",
       "      <td>0.883262</td>\n",
       "      <td>0.264979</td>\n",
       "      <td>False</td>\n",
       "      <td>...</td>\n",
       "      <td>18772.822056</td>\n",
       "      <td>60.0</td>\n",
       "      <td>5.0</td>\n",
       "      <td>0.264979</td>\n",
       "      <td>0.589859</td>\n",
       "      <td>0.0</td>\n",
       "      <td>1.0</td>\n",
       "      <td>1.0</td>\n",
       "      <td>Unchaining</td>\n",
       "      <td>Unchaining</td>\n",
       "    </tr>\n",
       "    <tr>\n",
       "      <th>54</th>\n",
       "      <td>37.417883</td>\n",
       "      <td>-121.810791</td>\n",
       "      <td>30.628426</td>\n",
       "      <td>0.0162</td>\n",
       "      <td>False</td>\n",
       "      <td>3.932033</td>\n",
       "      <td>False</td>\n",
       "      <td>3.473665</td>\n",
       "      <td>1.042099</td>\n",
       "      <td>False</td>\n",
       "      <td>...</td>\n",
       "      <td>2671.588125</td>\n",
       "      <td>30.0</td>\n",
       "      <td>7.0</td>\n",
       "      <td>0.000000</td>\n",
       "      <td>0.015546</td>\n",
       "      <td>1.0</td>\n",
       "      <td>1.0</td>\n",
       "      <td>0.0</td>\n",
       "      <td>Unchaining</td>\n",
       "      <td>Unchaining</td>\n",
       "    </tr>\n",
       "    <tr>\n",
       "      <th>...</th>\n",
       "      <td>...</td>\n",
       "      <td>...</td>\n",
       "      <td>...</td>\n",
       "      <td>...</td>\n",
       "      <td>...</td>\n",
       "      <td>...</td>\n",
       "      <td>...</td>\n",
       "      <td>...</td>\n",
       "      <td>...</td>\n",
       "      <td>...</td>\n",
       "      <td>...</td>\n",
       "      <td>...</td>\n",
       "      <td>...</td>\n",
       "      <td>...</td>\n",
       "      <td>...</td>\n",
       "      <td>...</td>\n",
       "      <td>...</td>\n",
       "      <td>...</td>\n",
       "      <td>...</td>\n",
       "      <td>...</td>\n",
       "      <td>...</td>\n",
       "    </tr>\n",
       "    <tr>\n",
       "      <th>3900</th>\n",
       "      <td>37.388374</td>\n",
       "      <td>-121.543028</td>\n",
       "      <td>1.576215</td>\n",
       "      <td>0.2700</td>\n",
       "      <td>False</td>\n",
       "      <td>3.037545</td>\n",
       "      <td>False</td>\n",
       "      <td>4.401114</td>\n",
       "      <td>1.320334</td>\n",
       "      <td>False</td>\n",
       "      <td>...</td>\n",
       "      <td>6168.558211</td>\n",
       "      <td>50.0</td>\n",
       "      <td>3.0</td>\n",
       "      <td>0.000000</td>\n",
       "      <td>0.204494</td>\n",
       "      <td>1.0</td>\n",
       "      <td>1.0</td>\n",
       "      <td>0.0</td>\n",
       "      <td>Unchaining</td>\n",
       "      <td>Unchaining</td>\n",
       "    </tr>\n",
       "    <tr>\n",
       "      <th>3753</th>\n",
       "      <td>37.388482</td>\n",
       "      <td>-121.543128</td>\n",
       "      <td>1.576215</td>\n",
       "      <td>0.2259</td>\n",
       "      <td>False</td>\n",
       "      <td>0.642727</td>\n",
       "      <td>True</td>\n",
       "      <td>1.294476</td>\n",
       "      <td>0.388343</td>\n",
       "      <td>True</td>\n",
       "      <td>...</td>\n",
       "      <td>10239.782252</td>\n",
       "      <td>50.0</td>\n",
       "      <td>6.0</td>\n",
       "      <td>0.000000</td>\n",
       "      <td>0.581703</td>\n",
       "      <td>1.0</td>\n",
       "      <td>0.0</td>\n",
       "      <td>0.0</td>\n",
       "      <td>Unchaining</td>\n",
       "      <td>Unchaining</td>\n",
       "    </tr>\n",
       "    <tr>\n",
       "      <th>3582</th>\n",
       "      <td>37.388588</td>\n",
       "      <td>-121.543262</td>\n",
       "      <td>1.576215</td>\n",
       "      <td>0.1746</td>\n",
       "      <td>True</td>\n",
       "      <td>1.239272</td>\n",
       "      <td>True</td>\n",
       "      <td>4.689096</td>\n",
       "      <td>1.406729</td>\n",
       "      <td>False</td>\n",
       "      <td>...</td>\n",
       "      <td>31195.457835</td>\n",
       "      <td>50.0</td>\n",
       "      <td>5.0</td>\n",
       "      <td>1.406729</td>\n",
       "      <td>0.124118</td>\n",
       "      <td>0.0</td>\n",
       "      <td>1.0</td>\n",
       "      <td>0.0</td>\n",
       "      <td>Unchaining</td>\n",
       "      <td>Unchaining</td>\n",
       "    </tr>\n",
       "    <tr>\n",
       "      <th>2392</th>\n",
       "      <td>37.032430</td>\n",
       "      <td>-121.515291</td>\n",
       "      <td>34.496359</td>\n",
       "      <td>0.1176</td>\n",
       "      <td>True</td>\n",
       "      <td>2.902604</td>\n",
       "      <td>True</td>\n",
       "      <td>1.184167</td>\n",
       "      <td>0.355250</td>\n",
       "      <td>True</td>\n",
       "      <td>...</td>\n",
       "      <td>3920.030809</td>\n",
       "      <td>70.0</td>\n",
       "      <td>6.0</td>\n",
       "      <td>0.355250</td>\n",
       "      <td>0.331034</td>\n",
       "      <td>0.0</td>\n",
       "      <td>0.0</td>\n",
       "      <td>0.0</td>\n",
       "      <td>Unchaining</td>\n",
       "      <td>Unchaining</td>\n",
       "    </tr>\n",
       "    <tr>\n",
       "      <th>3343</th>\n",
       "      <td>37.388695</td>\n",
       "      <td>-121.543475</td>\n",
       "      <td>1.576215</td>\n",
       "      <td>0.1029</td>\n",
       "      <td>True</td>\n",
       "      <td>4.615882</td>\n",
       "      <td>True</td>\n",
       "      <td>2.076980</td>\n",
       "      <td>0.623094</td>\n",
       "      <td>True</td>\n",
       "      <td>...</td>\n",
       "      <td>11572.413556</td>\n",
       "      <td>50.0</td>\n",
       "      <td>5.0</td>\n",
       "      <td>0.623094</td>\n",
       "      <td>0.165144</td>\n",
       "      <td>0.0</td>\n",
       "      <td>0.0</td>\n",
       "      <td>0.0</td>\n",
       "      <td>Unchaining</td>\n",
       "      <td>Unchaining</td>\n",
       "    </tr>\n",
       "  </tbody>\n",
       "</table>\n",
       "<p>1000 rows × 32 columns</p>\n",
       "</div>"
      ],
      "text/plain": [
       "       Latitude   Longitude   Altitude  Distance  Alignment  Distance_Sensors  \\\n",
       "1718  37.110036 -121.266272  64.456110    0.2154      False          2.360306   \n",
       "2511  37.032378 -121.515184  34.496359    0.1533       True          3.184067   \n",
       "345   37.417826 -121.810507  30.628426    0.1035      False          1.040936   \n",
       "2521  37.032373 -121.515175  34.496359    0.1563       True          1.869206   \n",
       "54    37.417883 -121.810791  30.628426    0.0162      False          3.932033   \n",
       "...         ...         ...        ...       ...        ...               ...   \n",
       "3900  37.388374 -121.543028   1.576215    0.2700      False          3.037545   \n",
       "3753  37.388482 -121.543128   1.576215    0.2259      False          0.642727   \n",
       "3582  37.388588 -121.543262   1.576215    0.1746       True          1.239272   \n",
       "2392  37.032430 -121.515291  34.496359    0.1176       True          2.902604   \n",
       "3343  37.388695 -121.543475   1.576215    0.1029       True          4.615882   \n",
       "\n",
       "      Proximity  Wheel_Speed  Velocity  Hall_Effect  ...  Light_Temp_Interact  \\\n",
       "1718       True     4.743287  1.422986         True  ...          3697.999690   \n",
       "2511      False     2.575568  0.772670         True  ...          6015.495825   \n",
       "345        True     2.303463  0.691039        False  ...         22307.401615   \n",
       "2521      False     0.883262  0.264979        False  ...         18772.822056   \n",
       "54        False     3.473665  1.042099        False  ...          2671.588125   \n",
       "...         ...          ...       ...          ...  ...                  ...   \n",
       "3900      False     4.401114  1.320334        False  ...          6168.558211   \n",
       "3753       True     1.294476  0.388343         True  ...         10239.782252   \n",
       "3582       True     4.689096  1.406729        False  ...         31195.457835   \n",
       "2392       True     1.184167  0.355250         True  ...          3920.030809   \n",
       "3343       True     2.076980  0.623094         True  ...         11572.413556   \n",
       "\n",
       "      Alignment_Percentage  Proximity_Trend  Alignment_Velocity_Interaction  \\\n",
       "1718                  30.0              5.0                        0.000000   \n",
       "2511                  60.0              3.0                        0.772670   \n",
       "345                   30.0              6.0                        0.000000   \n",
       "2521                  60.0              5.0                        0.264979   \n",
       "54                    30.0              7.0                        0.000000   \n",
       "...                    ...              ...                             ...   \n",
       "3900                  50.0              3.0                        0.000000   \n",
       "3753                  50.0              6.0                        0.000000   \n",
       "3582                  50.0              5.0                        1.406729   \n",
       "2392                  70.0              6.0                        0.355250   \n",
       "3343                  50.0              5.0                        0.623094   \n",
       "\n",
       "      Time_To_Collision  Alignment_Label_Not_Aligned  Safety_Label_Unsafe  \\\n",
       "1718           0.151372                          1.0                  1.0   \n",
       "2511           0.198403                          0.0                  0.0   \n",
       "345            0.149775                          1.0                  1.0   \n",
       "2521           0.589859                          0.0                  1.0   \n",
       "54             0.015546                          1.0                  1.0   \n",
       "...                 ...                          ...                  ...   \n",
       "3900           0.204494                          1.0                  1.0   \n",
       "3753           0.581703                          1.0                  0.0   \n",
       "3582           0.124118                          0.0                  1.0   \n",
       "2392           0.331034                          0.0                  0.0   \n",
       "3343           0.165144                          0.0                  0.0   \n",
       "\n",
       "      Collision_Avoidance_Label_Medium_Risk  Chaining_Unchaining_Label  \\\n",
       "1718                                    0.0                 Unchaining   \n",
       "2511                                    0.0                 Unchaining   \n",
       "345                                     0.0                 Unchaining   \n",
       "2521                                    1.0                 Unchaining   \n",
       "54                                      0.0                 Unchaining   \n",
       "...                                     ...                        ...   \n",
       "3900                                    0.0                 Unchaining   \n",
       "3753                                    0.0                 Unchaining   \n",
       "3582                                    0.0                 Unchaining   \n",
       "2392                                    0.0                 Unchaining   \n",
       "3343                                    0.0                 Unchaining   \n",
       "\n",
       "      predicted_condition  \n",
       "1718           Unchaining  \n",
       "2511           Unchaining  \n",
       "345            Unchaining  \n",
       "2521           Unchaining  \n",
       "54             Unchaining  \n",
       "...                   ...  \n",
       "3900           Unchaining  \n",
       "3753           Unchaining  \n",
       "3582           Unchaining  \n",
       "2392           Unchaining  \n",
       "3343           Unchaining  \n",
       "\n",
       "[1000 rows x 32 columns]"
      ]
     },
     "execution_count": 74,
     "metadata": {},
     "output_type": "execute_result"
    }
   ],
   "source": [
    "test_data = pd.concat([X_test, y_test], axis=1)\n",
    "test_data['predicted_condition'] = y_pred\n",
    "test_data"
   ]
  },
  {
   "cell_type": "code",
   "execution_count": 77,
   "metadata": {},
   "outputs": [
    {
     "data": {
      "text/plain": [
       "[<matplotlib.lines.Line2D at 0x7f65d0402b00>]"
      ]
     },
     "execution_count": 77,
     "metadata": {},
     "output_type": "execute_result"
    },
    {
     "data": {
      "image/png": "[encoded data removed]",
      "text/plain": [
       "<Figure size 640x480 with 1 Axes>"
      ]
     },
     "metadata": {},
     "output_type": "display_data"
    }
   ],
   "source": [
    "test_data1=test_data.sort_values('Chaining_Unchaining_Label', ascending=True)\n",
    "plt.plot(test_data1['Chaining_Unchaining_Label'], test_data1['predicted_condition'])\n",
    "plt.plot(test_data1['Chaining_Unchaining_Label'], test_data1['Chaining_Unchaining_Label'])"
   ]
  },
  {
   "cell_type": "code",
   "execution_count": 81,
   "metadata": {},
   "outputs": [
    {
     "data": {
      "image/png": "[encoded data removed]",
      "text/plain": [
       "<Figure size 1000x600 with 1 Axes>"
      ]
     },
     "metadata": {},
     "output_type": "display_data"
    }
   ],
   "source": [
    "# Get feature importances\n",
    "feature_importances = pd.DataFrame(model.feature_importances_, index=X_train.columns, columns=[\"Importance\"]).sort_values(\"Importance\", ascending=False)\n",
    "\n",
    "# Plot the feature importances\n",
    "plt.figure(figsize=(10, 6))\n",
    "plt.barh(feature_importances.index, feature_importances[\"Importance\"])\n",
    "plt.xlabel(\"Feature Importance\")\n",
    "plt.ylabel(\"Features\")\n",
    "plt.title(\"Random Forest Feature Importances\")\n",
    "plt.show()"
   ]
  },
  {
   "cell_type": "code",
   "execution_count": null,
   "metadata": {},
   "outputs": [],
   "source": []
  }
 ],
 "metadata": {
  "kernelspec": {
   "display_name": "Python 3",
   "language": "python",
   "name": "python3"
  },
  "language_info": {
   "codemirror_mode": {
    "name": "ipython",
    "version": 3
   },
   "file_extension": ".py",
   "mimetype": "text/x-python",
   "name": "python",
   "nbconvert_exporter": "python",
   "pygments_lexer": "ipython3",
   "version": "3.10.11"
  },
  "orig_nbformat": 4
 },
 "nbformat": 4,
 "nbformat_minor": 2
}
