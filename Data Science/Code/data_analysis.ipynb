{
 "cells": [
  {
   "cell_type": "markdown",
   "metadata": {},
   "source": [
    "# **Imports**"
   ]
  },
  {
   "cell_type": "code",
   "execution_count": 1,
   "metadata": {},
   "outputs": [],
   "source": [
    "import pandas as pd"
   ]
  },
  {
   "cell_type": "markdown",
   "metadata": {},
   "source": [
    "# **Reading Data**"
   ]
  },
  {
   "cell_type": "code",
   "execution_count": 2,
   "metadata": {},
   "outputs": [],
   "source": [
    "df = pd.read_csv('../Data/combined_data.csv')"
   ]
  },
  {
   "cell_type": "markdown",
   "metadata": {},
   "source": [
    "# **Data Exploration and Analysis**"
   ]
  },
  {
   "cell_type": "code",
   "execution_count": 3,
   "metadata": {},
   "outputs": [
    {
     "data": {
      "text/html": [
       "<div>\n",
       "<style scoped>\n",
       "    .dataframe tbody tr th:only-of-type {\n",
       "        vertical-align: middle;\n",
       "    }\n",
       "\n",
       "    .dataframe tbody tr th {\n",
       "        vertical-align: top;\n",
       "    }\n",
       "\n",
       "    .dataframe thead th {\n",
       "        text-align: right;\n",
       "    }\n",
       "</style>\n",
       "<table border=\"1\" class=\"dataframe\">\n",
       "  <thead>\n",
       "    <tr style=\"text-align: right;\">\n",
       "      <th></th>\n",
       "      <th>Latitude</th>\n",
       "      <th>Longitude</th>\n",
       "      <th>Altitude</th>\n",
       "      <th>Distance</th>\n",
       "      <th>Alignment</th>\n",
       "      <th>Distance_Sensors</th>\n",
       "      <th>Proximity</th>\n",
       "      <th>Wheel_Speed</th>\n",
       "      <th>Velocity</th>\n",
       "      <th>Hall_Effect</th>\n",
       "      <th>Emergency_Stop</th>\n",
       "      <th>Temperature</th>\n",
       "      <th>Humidity</th>\n",
       "      <th>Light_Level</th>\n",
       "    </tr>\n",
       "  </thead>\n",
       "  <tbody>\n",
       "    <tr>\n",
       "      <th>0</th>\n",
       "      <td>37.852811</td>\n",
       "      <td>-121.572439</td>\n",
       "      <td>52.355375</td>\n",
       "      <td>0.0000</td>\n",
       "      <td>False</td>\n",
       "      <td>3.525967</td>\n",
       "      <td>True</td>\n",
       "      <td>3.185937</td>\n",
       "      <td>0.955781</td>\n",
       "      <td>False</td>\n",
       "      <td>False</td>\n",
       "      <td>19.515751</td>\n",
       "      <td>69.466546</td>\n",
       "      <td>147.747689</td>\n",
       "    </tr>\n",
       "    <tr>\n",
       "      <th>1</th>\n",
       "      <td>37.852811</td>\n",
       "      <td>-121.572438</td>\n",
       "      <td>52.355375</td>\n",
       "      <td>0.0003</td>\n",
       "      <td>True</td>\n",
       "      <td>4.756672</td>\n",
       "      <td>True</td>\n",
       "      <td>1.620925</td>\n",
       "      <td>0.486278</td>\n",
       "      <td>False</td>\n",
       "      <td>False</td>\n",
       "      <td>24.445977</td>\n",
       "      <td>46.264885</td>\n",
       "      <td>129.928270</td>\n",
       "    </tr>\n",
       "    <tr>\n",
       "      <th>2</th>\n",
       "      <td>37.852811</td>\n",
       "      <td>-121.572437</td>\n",
       "      <td>52.355375</td>\n",
       "      <td>0.0006</td>\n",
       "      <td>False</td>\n",
       "      <td>0.712118</td>\n",
       "      <td>True</td>\n",
       "      <td>3.550108</td>\n",
       "      <td>1.065032</td>\n",
       "      <td>True</td>\n",
       "      <td>True</td>\n",
       "      <td>12.375221</td>\n",
       "      <td>52.270249</td>\n",
       "      <td>192.439571</td>\n",
       "    </tr>\n",
       "    <tr>\n",
       "      <th>3</th>\n",
       "      <td>37.852811</td>\n",
       "      <td>-121.572436</td>\n",
       "      <td>52.355375</td>\n",
       "      <td>0.0009</td>\n",
       "      <td>True</td>\n",
       "      <td>2.224535</td>\n",
       "      <td>True</td>\n",
       "      <td>4.835126</td>\n",
       "      <td>1.450538</td>\n",
       "      <td>True</td>\n",
       "      <td>False</td>\n",
       "      <td>21.161813</td>\n",
       "      <td>66.718895</td>\n",
       "      <td>441.660815</td>\n",
       "    </tr>\n",
       "    <tr>\n",
       "      <th>4</th>\n",
       "      <td>37.852811</td>\n",
       "      <td>-121.572435</td>\n",
       "      <td>52.355375</td>\n",
       "      <td>0.0012</td>\n",
       "      <td>False</td>\n",
       "      <td>1.514108</td>\n",
       "      <td>True</td>\n",
       "      <td>3.214580</td>\n",
       "      <td>0.964374</td>\n",
       "      <td>True</td>\n",
       "      <td>False</td>\n",
       "      <td>23.299301</td>\n",
       "      <td>35.738891</td>\n",
       "      <td>681.076538</td>\n",
       "    </tr>\n",
       "  </tbody>\n",
       "</table>\n",
       "</div>"
      ],
      "text/plain": [
       "    Latitude   Longitude   Altitude  Distance  Alignment  Distance_Sensors  \\\n",
       "0  37.852811 -121.572439  52.355375    0.0000      False          3.525967   \n",
       "1  37.852811 -121.572438  52.355375    0.0003       True          4.756672   \n",
       "2  37.852811 -121.572437  52.355375    0.0006      False          0.712118   \n",
       "3  37.852811 -121.572436  52.355375    0.0009       True          2.224535   \n",
       "4  37.852811 -121.572435  52.355375    0.0012      False          1.514108   \n",
       "\n",
       "   Proximity  Wheel_Speed  Velocity  Hall_Effect  Emergency_Stop  Temperature  \\\n",
       "0       True     3.185937  0.955781        False           False    19.515751   \n",
       "1       True     1.620925  0.486278        False           False    24.445977   \n",
       "2       True     3.550108  1.065032         True            True    12.375221   \n",
       "3       True     4.835126  1.450538         True           False    21.161813   \n",
       "4       True     3.214580  0.964374         True           False    23.299301   \n",
       "\n",
       "    Humidity  Light_Level  \n",
       "0  69.466546   147.747689  \n",
       "1  46.264885   129.928270  \n",
       "2  52.270249   192.439571  \n",
       "3  66.718895   441.660815  \n",
       "4  35.738891   681.076538  "
      ]
     },
     "execution_count": 3,
     "metadata": {},
     "output_type": "execute_result"
    }
   ],
   "source": [
    "df.head()"
   ]
  },
  {
   "cell_type": "code",
   "execution_count": 4,
   "metadata": {},
   "outputs": [
    {
     "data": {
      "text/plain": [
       "(50000, 14)"
      ]
     },
     "execution_count": 4,
     "metadata": {},
     "output_type": "execute_result"
    }
   ],
   "source": [
    "df.shape"
   ]
  },
  {
   "cell_type": "code",
   "execution_count": 5,
   "metadata": {},
   "outputs": [
    {
     "name": "stdout",
     "output_type": "stream",
     "text": [
      "<class 'pandas.core.frame.DataFrame'>\n",
      "RangeIndex: 50000 entries, 0 to 49999\n",
      "Data columns (total 14 columns):\n",
      " #   Column            Non-Null Count  Dtype  \n",
      "---  ------            --------------  -----  \n",
      " 0   Latitude          50000 non-null  float64\n",
      " 1   Longitude         50000 non-null  float64\n",
      " 2   Altitude          50000 non-null  float64\n",
      " 3   Distance          50000 non-null  float64\n",
      " 4   Alignment         50000 non-null  bool   \n",
      " 5   Distance_Sensors  50000 non-null  float64\n",
      " 6   Proximity         50000 non-null  bool   \n",
      " 7   Wheel_Speed       50000 non-null  float64\n",
      " 8   Velocity          50000 non-null  float64\n",
      " 9   Hall_Effect       50000 non-null  bool   \n",
      " 10  Emergency_Stop    50000 non-null  bool   \n",
      " 11  Temperature       50000 non-null  float64\n",
      " 12  Humidity          50000 non-null  float64\n",
      " 13  Light_Level       50000 non-null  float64\n",
      "dtypes: bool(4), float64(10)\n",
      "memory usage: 4.0 MB\n"
     ]
    }
   ],
   "source": [
    "df.info()"
   ]
  },
  {
   "cell_type": "code",
   "execution_count": 6,
   "metadata": {},
   "outputs": [
    {
     "data": {
      "text/html": [
       "<div>\n",
       "<style scoped>\n",
       "    .dataframe tbody tr th:only-of-type {\n",
       "        vertical-align: middle;\n",
       "    }\n",
       "\n",
       "    .dataframe tbody tr th {\n",
       "        vertical-align: top;\n",
       "    }\n",
       "\n",
       "    .dataframe thead th {\n",
       "        text-align: right;\n",
       "    }\n",
       "</style>\n",
       "<table border=\"1\" class=\"dataframe\">\n",
       "  <thead>\n",
       "    <tr style=\"text-align: right;\">\n",
       "      <th></th>\n",
       "      <th>Latitude</th>\n",
       "      <th>Longitude</th>\n",
       "      <th>Altitude</th>\n",
       "      <th>Distance</th>\n",
       "      <th>Distance_Sensors</th>\n",
       "      <th>Wheel_Speed</th>\n",
       "      <th>Velocity</th>\n",
       "      <th>Temperature</th>\n",
       "      <th>Humidity</th>\n",
       "      <th>Light_Level</th>\n",
       "    </tr>\n",
       "  </thead>\n",
       "  <tbody>\n",
       "    <tr>\n",
       "      <th>count</th>\n",
       "      <td>50000.000000</td>\n",
       "      <td>50000.000000</td>\n",
       "      <td>50000.000000</td>\n",
       "      <td>50000.000000</td>\n",
       "      <td>50000.000000</td>\n",
       "      <td>50000.000000</td>\n",
       "      <td>50000.000000</td>\n",
       "      <td>50000.000000</td>\n",
       "      <td>50000.000000</td>\n",
       "      <td>50000.000000</td>\n",
       "    </tr>\n",
       "    <tr>\n",
       "      <th>mean</th>\n",
       "      <td>37.418966</td>\n",
       "      <td>-121.597137</td>\n",
       "      <td>52.356226</td>\n",
       "      <td>0.149850</td>\n",
       "      <td>2.748821</td>\n",
       "      <td>2.749783</td>\n",
       "      <td>0.824935</td>\n",
       "      <td>22.472888</td>\n",
       "      <td>49.971703</td>\n",
       "      <td>498.657612</td>\n",
       "    </tr>\n",
       "    <tr>\n",
       "      <th>std</th>\n",
       "      <td>0.298670</td>\n",
       "      <td>0.310063</td>\n",
       "      <td>27.750864</td>\n",
       "      <td>0.086603</td>\n",
       "      <td>1.299671</td>\n",
       "      <td>1.300411</td>\n",
       "      <td>0.390123</td>\n",
       "      <td>7.242958</td>\n",
       "      <td>11.571847</td>\n",
       "      <td>288.051266</td>\n",
       "    </tr>\n",
       "    <tr>\n",
       "      <th>min</th>\n",
       "      <td>37.007134</td>\n",
       "      <td>-121.998704</td>\n",
       "      <td>0.814268</td>\n",
       "      <td>0.000000</td>\n",
       "      <td>0.500130</td>\n",
       "      <td>0.500098</td>\n",
       "      <td>0.150029</td>\n",
       "      <td>10.000107</td>\n",
       "      <td>30.001439</td>\n",
       "      <td>0.011402</td>\n",
       "    </tr>\n",
       "    <tr>\n",
       "      <th>25%</th>\n",
       "      <td>37.121428</td>\n",
       "      <td>-121.866625</td>\n",
       "      <td>28.797280</td>\n",
       "      <td>0.074925</td>\n",
       "      <td>1.621144</td>\n",
       "      <td>1.623092</td>\n",
       "      <td>0.486928</td>\n",
       "      <td>16.244802</td>\n",
       "      <td>39.959915</td>\n",
       "      <td>246.886811</td>\n",
       "    </tr>\n",
       "    <tr>\n",
       "      <th>50%</th>\n",
       "      <td>37.415549</td>\n",
       "      <td>-121.657832</td>\n",
       "      <td>52.170024</td>\n",
       "      <td>0.149850</td>\n",
       "      <td>2.743305</td>\n",
       "      <td>2.751643</td>\n",
       "      <td>0.825493</td>\n",
       "      <td>22.403462</td>\n",
       "      <td>49.968997</td>\n",
       "      <td>500.836109</td>\n",
       "    </tr>\n",
       "    <tr>\n",
       "      <th>75%</th>\n",
       "      <td>37.656867</td>\n",
       "      <td>-121.282915</td>\n",
       "      <td>79.472374</td>\n",
       "      <td>0.224775</td>\n",
       "      <td>3.871313</td>\n",
       "      <td>3.878636</td>\n",
       "      <td>1.163591</td>\n",
       "      <td>28.800494</td>\n",
       "      <td>60.021020</td>\n",
       "      <td>746.956417</td>\n",
       "    </tr>\n",
       "    <tr>\n",
       "      <th>max</th>\n",
       "      <td>37.992811</td>\n",
       "      <td>-121.001388</td>\n",
       "      <td>98.772346</td>\n",
       "      <td>0.299700</td>\n",
       "      <td>4.999977</td>\n",
       "      <td>4.999840</td>\n",
       "      <td>1.499952</td>\n",
       "      <td>34.999474</td>\n",
       "      <td>69.999612</td>\n",
       "      <td>999.987439</td>\n",
       "    </tr>\n",
       "  </tbody>\n",
       "</table>\n",
       "</div>"
      ],
      "text/plain": [
       "           Latitude     Longitude      Altitude      Distance  \\\n",
       "count  50000.000000  50000.000000  50000.000000  50000.000000   \n",
       "mean      37.418966   -121.597137     52.356226      0.149850   \n",
       "std        0.298670      0.310063     27.750864      0.086603   \n",
       "min       37.007134   -121.998704      0.814268      0.000000   \n",
       "25%       37.121428   -121.866625     28.797280      0.074925   \n",
       "50%       37.415549   -121.657832     52.170024      0.149850   \n",
       "75%       37.656867   -121.282915     79.472374      0.224775   \n",
       "max       37.992811   -121.001388     98.772346      0.299700   \n",
       "\n",
       "       Distance_Sensors   Wheel_Speed      Velocity   Temperature  \\\n",
       "count      50000.000000  50000.000000  50000.000000  50000.000000   \n",
       "mean           2.748821      2.749783      0.824935     22.472888   \n",
       "std            1.299671      1.300411      0.390123      7.242958   \n",
       "min            0.500130      0.500098      0.150029     10.000107   \n",
       "25%            1.621144      1.623092      0.486928     16.244802   \n",
       "50%            2.743305      2.751643      0.825493     22.403462   \n",
       "75%            3.871313      3.878636      1.163591     28.800494   \n",
       "max            4.999977      4.999840      1.499952     34.999474   \n",
       "\n",
       "           Humidity   Light_Level  \n",
       "count  50000.000000  50000.000000  \n",
       "mean      49.971703    498.657612  \n",
       "std       11.571847    288.051266  \n",
       "min       30.001439      0.011402  \n",
       "25%       39.959915    246.886811  \n",
       "50%       49.968997    500.836109  \n",
       "75%       60.021020    746.956417  \n",
       "max       69.999612    999.987439  "
      ]
     },
     "execution_count": 6,
     "metadata": {},
     "output_type": "execute_result"
    }
   ],
   "source": [
    "df.describe()"
   ]
  },
  {
   "cell_type": "code",
   "execution_count": 7,
   "metadata": {},
   "outputs": [
    {
     "data": {
      "text/plain": [
       "Latitude            0\n",
       "Longitude           0\n",
       "Altitude            0\n",
       "Distance            0\n",
       "Alignment           0\n",
       "Distance_Sensors    0\n",
       "Proximity           0\n",
       "Wheel_Speed         0\n",
       "Velocity            0\n",
       "Hall_Effect         0\n",
       "Emergency_Stop      0\n",
       "Temperature         0\n",
       "Humidity            0\n",
       "Light_Level         0\n",
       "dtype: int64"
      ]
     },
     "execution_count": 7,
     "metadata": {},
     "output_type": "execute_result"
    }
   ],
   "source": [
    "df.isna().sum()"
   ]
  },
  {
   "cell_type": "code",
   "execution_count": 8,
   "metadata": {},
   "outputs": [
    {
     "data": {
      "text/plain": [
       "Index(['Latitude', 'Longitude', 'Altitude', 'Distance', 'Alignment',\n",
       "       'Distance_Sensors', 'Proximity', 'Wheel_Speed', 'Velocity',\n",
       "       'Hall_Effect', 'Emergency_Stop', 'Temperature', 'Humidity',\n",
       "       'Light_Level'],\n",
       "      dtype='object')"
      ]
     },
     "execution_count": 8,
     "metadata": {},
     "output_type": "execute_result"
    }
   ],
   "source": [
    "df.columns"
   ]
  },
  {
   "cell_type": "code",
   "execution_count": 9,
   "metadata": {},
   "outputs": [],
   "source": [
    "alignment_conditions = [\n",
    "    alignment == True for alignment in df[\"Alignment\"]\n",
    "]\n",
    "\n",
    "# Adding labels for Chaining Alignment\n",
    "df[\"Alignment_Label\"] = [\"Aligned\" if condition else \"Not_Aligned\" for condition in alignment_conditions]\n"
   ]
  },
  {
   "cell_type": "code",
   "execution_count": 10,
   "metadata": {},
   "outputs": [],
   "source": [
    "# Define conditions for safety based on Hall_Effect and Emergency_Stop\n",
    "safety_conditions = [\n",
    "    hall_effect == True and emergency_stop == False\n",
    "    for hall_effect, emergency_stop in zip(\n",
    "        df[\"Hall_Effect\"],\n",
    "        df[\"Emergency_Stop\"]\n",
    "    )\n",
    "]\n",
    "\n",
    "# Adding labels for Safety Decision\n",
    "df[\"Safety_Label\"] = [\"Safe\" if condition else \"Unsafe\" for condition in safety_conditions]"
   ]
  },
  {
   "cell_type": "code",
   "execution_count": 11,
   "metadata": {},
   "outputs": [],
   "source": [
    "# Speed thresholds (in meters per second - m/s)\n",
    "threshold_high_speed = 1.5  \n",
    "\n",
    "# Distance thresholds (in meter)\n",
    "threshold_low_distance = 0.5 \n",
    "\n",
    "# Temperature thresholds (in degrees Celsius)\n",
    "threshold_high_temperature = 30 \n",
    "\n",
    "# Light level thresholds (in Lux)\n",
    "threshold_low_light = 100\n",
    "\n",
    "\n",
    "collision_risk_levels = []\n",
    "\n",
    "for distance, proximity, wheel_speed, temperature, light_level in zip(\n",
    "    df[\"Distance\"],\n",
    "    df[\"Proximity\"],\n",
    "    df[\"Wheel_Speed\"],\n",
    "    df[\"Temperature\"],\n",
    "    df[\"Light_Level\"]\n",
    "):\n",
    "    if proximity or wheel_speed > threshold_high_speed:\n",
    "        collision_risk_levels.append(2)\n",
    "    elif distance < threshold_low_distance:\n",
    "        collision_risk_levels.append(1)\n",
    "    elif temperature > threshold_high_temperature or light_level < threshold_low_light:\n",
    "        collision_risk_levels.append(1)\n",
    "    else:\n",
    "        collision_risk_levels.append(0)\n",
    "\n",
    "\n",
    "# Adding labels for Collision Avoidance\n",
    "df[\"Collision_Avoidance_Label\"] = [\"Low_Risk\" if risk_level == 0 else \"Medium_Risk\" if risk_level == 1 else \"High_Risk\" for risk_level in collision_risk_levels]"
   ]
  },
  {
   "cell_type": "code",
   "execution_count": 12,
   "metadata": {},
   "outputs": [],
   "source": [
    "# Define acceptable distance thresholds for chaining \n",
    "max_distance = 5 \n",
    "min_distance = 0.5\n",
    "\n",
    "# Cart wheel speed treshold in meters per second (m/s) for chaining \n",
    "high_speed = 3.5\n",
    "\n",
    "# Define conditions for chaining based on the data\n",
    "chaining_conditions = [\n",
    "    alignment and distance > min_distance and distance < max_distance and proximity and wheel_speed < high_speed and safety_label == \"Safe\"\n",
    "    for alignment, distance, proximity, safety_label, wheel_speed in zip(\n",
    "        df[\"Alignment\"],\n",
    "        df[\"Distance_Sensors\"],\n",
    "        df[\"Proximity\"],\n",
    "        df[\"Safety_Label\"],\n",
    "        df['Wheel_Speed']\n",
    "    )\n",
    "]\n",
    "\n",
    "# Adding labels for Chaining/Unchaining Decision\n",
    "df[\"Chaining_Unchaining_Label\"] = [\"Chaining\" if condition else \"Unchaining\" for condition in chaining_conditions]"
   ]
  },
  {
   "cell_type": "code",
   "execution_count": 13,
   "metadata": {},
   "outputs": [
    {
     "name": "stdout",
     "output_type": "stream",
     "text": [
      "Combined data with labels saved.\n"
     ]
    }
   ],
   "source": [
    "# Save the updated combined data with labels to a new CSV file\n",
    "df.to_csv(\"../Data/final_combined_data.csv\", index=False)\n",
    "\n",
    "print(\"Combined data with labels saved.\")"
   ]
  },
  {
   "cell_type": "code",
   "execution_count": 14,
   "metadata": {},
   "outputs": [
    {
     "data": {
      "text/plain": [
       "Index(['Latitude', 'Longitude', 'Altitude', 'Distance', 'Alignment',\n",
       "       'Distance_Sensors', 'Proximity', 'Wheel_Speed', 'Velocity',\n",
       "       'Hall_Effect', 'Emergency_Stop', 'Temperature', 'Humidity',\n",
       "       'Light_Level', 'Alignment_Label', 'Safety_Label',\n",
       "       'Collision_Avoidance_Label', 'Chaining_Unchaining_Label'],\n",
       "      dtype='object')"
      ]
     },
     "execution_count": 14,
     "metadata": {},
     "output_type": "execute_result"
    }
   ],
   "source": [
    "df.columns"
   ]
  },
  {
   "cell_type": "code",
   "execution_count": 15,
   "metadata": {},
   "outputs": [
    {
     "data": {
      "text/plain": [
       "Latitude                     0\n",
       "Longitude                    0\n",
       "Altitude                     0\n",
       "Distance                     0\n",
       "Alignment                    0\n",
       "Distance_Sensors             0\n",
       "Proximity                    0\n",
       "Wheel_Speed                  0\n",
       "Velocity                     0\n",
       "Hall_Effect                  0\n",
       "Emergency_Stop               0\n",
       "Temperature                  0\n",
       "Humidity                     0\n",
       "Light_Level                  0\n",
       "Alignment_Label              0\n",
       "Safety_Label                 0\n",
       "Collision_Avoidance_Label    0\n",
       "Chaining_Unchaining_Label    0\n",
       "dtype: int64"
      ]
     },
     "execution_count": 15,
     "metadata": {},
     "output_type": "execute_result"
    }
   ],
   "source": [
    "df.isna().sum()"
   ]
  },
  {
   "cell_type": "code",
   "execution_count": null,
   "metadata": {},
   "outputs": [],
   "source": []
  }
 ],
 "metadata": {
  "kernelspec": {
   "display_name": "Python 3",
   "language": "python",
   "name": "python3"
  },
  "language_info": {
   "codemirror_mode": {
    "name": "ipython",
    "version": 3
   },
   "file_extension": ".py",
   "mimetype": "text/x-python",
   "name": "python",
   "nbconvert_exporter": "python",
   "pygments_lexer": "ipython3",
   "version": "3.10.11"
  },
  "orig_nbformat": 4
 },
 "nbformat": 4,
 "nbformat_minor": 2
}
