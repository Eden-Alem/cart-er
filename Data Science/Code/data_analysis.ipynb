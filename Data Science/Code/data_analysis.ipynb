{
 "cells": [
  {
   "cell_type": "markdown",
   "metadata": {},
   "source": [
    "# **Imports**"
   ]
  },
  {
   "cell_type": "code",
   "execution_count": 1,
   "metadata": {},
   "outputs": [],
   "source": [
    "import pandas as pd"
   ]
  },
  {
   "cell_type": "markdown",
   "metadata": {},
   "source": [
    "# **Reading Data**"
   ]
  },
  {
   "cell_type": "code",
   "execution_count": 2,
   "metadata": {},
   "outputs": [],
   "source": [
    "df = pd.read_csv('../Data/combined_data.csv')"
   ]
  },
  {
   "cell_type": "markdown",
   "metadata": {},
   "source": [
    "# **Data Exploration and Analysis**"
   ]
  },
  {
   "cell_type": "code",
   "execution_count": 3,
   "metadata": {},
   "outputs": [
    {
     "data": {
      "text/html": [
       "<div>\n",
       "<style scoped>\n",
       "    .dataframe tbody tr th:only-of-type {\n",
       "        vertical-align: middle;\n",
       "    }\n",
       "\n",
       "    .dataframe tbody tr th {\n",
       "        vertical-align: top;\n",
       "    }\n",
       "\n",
       "    .dataframe thead th {\n",
       "        text-align: right;\n",
       "    }\n",
       "</style>\n",
       "<table border=\"1\" class=\"dataframe\">\n",
       "  <thead>\n",
       "    <tr style=\"text-align: right;\">\n",
       "      <th></th>\n",
       "      <th>Latitude</th>\n",
       "      <th>Longitude</th>\n",
       "      <th>Altitude</th>\n",
       "      <th>Distance</th>\n",
       "      <th>Alignment</th>\n",
       "      <th>Distance_Sensors</th>\n",
       "      <th>Proximity</th>\n",
       "      <th>Wheel_Speed</th>\n",
       "      <th>Velocity</th>\n",
       "      <th>Hall_Effect</th>\n",
       "      <th>Emergency_Stop</th>\n",
       "      <th>Temperature</th>\n",
       "      <th>Humidity</th>\n",
       "      <th>Light_Level</th>\n",
       "    </tr>\n",
       "  </thead>\n",
       "  <tbody>\n",
       "    <tr>\n",
       "      <th>0</th>\n",
       "      <td>37.800175</td>\n",
       "      <td>-121.097884</td>\n",
       "      <td>64.545603</td>\n",
       "      <td>0.0000</td>\n",
       "      <td>False</td>\n",
       "      <td>1.423923</td>\n",
       "      <td>False</td>\n",
       "      <td>2.307947</td>\n",
       "      <td>0.692384</td>\n",
       "      <td>False</td>\n",
       "      <td>False</td>\n",
       "      <td>31.484825</td>\n",
       "      <td>31.292792</td>\n",
       "      <td>548.032945</td>\n",
       "    </tr>\n",
       "    <tr>\n",
       "      <th>1</th>\n",
       "      <td>37.800175</td>\n",
       "      <td>-121.097883</td>\n",
       "      <td>64.545603</td>\n",
       "      <td>0.0003</td>\n",
       "      <td>False</td>\n",
       "      <td>2.963388</td>\n",
       "      <td>True</td>\n",
       "      <td>0.790472</td>\n",
       "      <td>0.237141</td>\n",
       "      <td>True</td>\n",
       "      <td>False</td>\n",
       "      <td>21.566685</td>\n",
       "      <td>48.878612</td>\n",
       "      <td>143.937188</td>\n",
       "    </tr>\n",
       "    <tr>\n",
       "      <th>2</th>\n",
       "      <td>37.800175</td>\n",
       "      <td>-121.097882</td>\n",
       "      <td>64.545603</td>\n",
       "      <td>0.0006</td>\n",
       "      <td>True</td>\n",
       "      <td>2.989108</td>\n",
       "      <td>True</td>\n",
       "      <td>1.419237</td>\n",
       "      <td>0.425771</td>\n",
       "      <td>False</td>\n",
       "      <td>False</td>\n",
       "      <td>23.682128</td>\n",
       "      <td>40.768480</td>\n",
       "      <td>885.282708</td>\n",
       "    </tr>\n",
       "    <tr>\n",
       "      <th>3</th>\n",
       "      <td>37.800175</td>\n",
       "      <td>-121.097881</td>\n",
       "      <td>64.545603</td>\n",
       "      <td>0.0009</td>\n",
       "      <td>False</td>\n",
       "      <td>1.974619</td>\n",
       "      <td>False</td>\n",
       "      <td>3.031683</td>\n",
       "      <td>0.909505</td>\n",
       "      <td>True</td>\n",
       "      <td>False</td>\n",
       "      <td>12.368550</td>\n",
       "      <td>61.984188</td>\n",
       "      <td>828.878655</td>\n",
       "    </tr>\n",
       "    <tr>\n",
       "      <th>4</th>\n",
       "      <td>37.800175</td>\n",
       "      <td>-121.097880</td>\n",
       "      <td>64.545603</td>\n",
       "      <td>0.0012</td>\n",
       "      <td>True</td>\n",
       "      <td>3.768380</td>\n",
       "      <td>True</td>\n",
       "      <td>2.644805</td>\n",
       "      <td>0.793441</td>\n",
       "      <td>False</td>\n",
       "      <td>True</td>\n",
       "      <td>12.676042</td>\n",
       "      <td>55.157313</td>\n",
       "      <td>798.250031</td>\n",
       "    </tr>\n",
       "  </tbody>\n",
       "</table>\n",
       "</div>"
      ],
      "text/plain": [
       "    Latitude   Longitude   Altitude  Distance  Alignment  Distance_Sensors  \\\n",
       "0  37.800175 -121.097884  64.545603    0.0000      False          1.423923   \n",
       "1  37.800175 -121.097883  64.545603    0.0003      False          2.963388   \n",
       "2  37.800175 -121.097882  64.545603    0.0006       True          2.989108   \n",
       "3  37.800175 -121.097881  64.545603    0.0009      False          1.974619   \n",
       "4  37.800175 -121.097880  64.545603    0.0012       True          3.768380   \n",
       "\n",
       "   Proximity  Wheel_Speed  Velocity  Hall_Effect  Emergency_Stop  Temperature  \\\n",
       "0      False     2.307947  0.692384        False           False    31.484825   \n",
       "1       True     0.790472  0.237141         True           False    21.566685   \n",
       "2       True     1.419237  0.425771        False           False    23.682128   \n",
       "3      False     3.031683  0.909505         True           False    12.368550   \n",
       "4       True     2.644805  0.793441        False            True    12.676042   \n",
       "\n",
       "    Humidity  Light_Level  \n",
       "0  31.292792   548.032945  \n",
       "1  48.878612   143.937188  \n",
       "2  40.768480   885.282708  \n",
       "3  61.984188   828.878655  \n",
       "4  55.157313   798.250031  "
      ]
     },
     "execution_count": 3,
     "metadata": {},
     "output_type": "execute_result"
    }
   ],
   "source": [
    "df.head()"
   ]
  },
  {
   "cell_type": "code",
   "execution_count": 4,
   "metadata": {},
   "outputs": [
    {
     "data": {
      "text/plain": [
       "(50000, 14)"
      ]
     },
     "execution_count": 4,
     "metadata": {},
     "output_type": "execute_result"
    }
   ],
   "source": [
    "df.shape"
   ]
  },
  {
   "cell_type": "code",
   "execution_count": 5,
   "metadata": {},
   "outputs": [
    {
     "name": "stdout",
     "output_type": "stream",
     "text": [
      "<class 'pandas.core.frame.DataFrame'>\n",
      "RangeIndex: 50000 entries, 0 to 49999\n",
      "Data columns (total 14 columns):\n",
      " #   Column            Non-Null Count  Dtype  \n",
      "---  ------            --------------  -----  \n",
      " 0   Latitude          50000 non-null  float64\n",
      " 1   Longitude         50000 non-null  float64\n",
      " 2   Altitude          50000 non-null  float64\n",
      " 3   Distance          50000 non-null  float64\n",
      " 4   Alignment         50000 non-null  bool   \n",
      " 5   Distance_Sensors  50000 non-null  float64\n",
      " 6   Proximity         50000 non-null  bool   \n",
      " 7   Wheel_Speed       50000 non-null  float64\n",
      " 8   Velocity          50000 non-null  float64\n",
      " 9   Hall_Effect       50000 non-null  bool   \n",
      " 10  Emergency_Stop    50000 non-null  bool   \n",
      " 11  Temperature       50000 non-null  float64\n",
      " 12  Humidity          50000 non-null  float64\n",
      " 13  Light_Level       50000 non-null  float64\n",
      "dtypes: bool(4), float64(10)\n",
      "memory usage: 4.0 MB\n"
     ]
    }
   ],
   "source": [
    "df.info()"
   ]
  },
  {
   "cell_type": "code",
   "execution_count": 6,
   "metadata": {},
   "outputs": [
    {
     "data": {
      "text/html": [
       "<div>\n",
       "<style scoped>\n",
       "    .dataframe tbody tr th:only-of-type {\n",
       "        vertical-align: middle;\n",
       "    }\n",
       "\n",
       "    .dataframe tbody tr th {\n",
       "        vertical-align: top;\n",
       "    }\n",
       "\n",
       "    .dataframe thead th {\n",
       "        text-align: right;\n",
       "    }\n",
       "</style>\n",
       "<table border=\"1\" class=\"dataframe\">\n",
       "  <thead>\n",
       "    <tr style=\"text-align: right;\">\n",
       "      <th></th>\n",
       "      <th>Latitude</th>\n",
       "      <th>Longitude</th>\n",
       "      <th>Altitude</th>\n",
       "      <th>Distance</th>\n",
       "      <th>Distance_Sensors</th>\n",
       "      <th>Wheel_Speed</th>\n",
       "      <th>Velocity</th>\n",
       "      <th>Temperature</th>\n",
       "      <th>Humidity</th>\n",
       "      <th>Light_Level</th>\n",
       "    </tr>\n",
       "  </thead>\n",
       "  <tbody>\n",
       "    <tr>\n",
       "      <th>count</th>\n",
       "      <td>50000.000000</td>\n",
       "      <td>50000.000000</td>\n",
       "      <td>50000.000000</td>\n",
       "      <td>50000.000000</td>\n",
       "      <td>50000.000000</td>\n",
       "      <td>50000.000000</td>\n",
       "      <td>50000.000000</td>\n",
       "      <td>50000.000000</td>\n",
       "      <td>50000.000000</td>\n",
       "      <td>50000.000000</td>\n",
       "    </tr>\n",
       "    <tr>\n",
       "      <th>mean</th>\n",
       "      <td>37.532890</td>\n",
       "      <td>-121.513446</td>\n",
       "      <td>45.886560</td>\n",
       "      <td>0.149850</td>\n",
       "      <td>2.753068</td>\n",
       "      <td>2.735528</td>\n",
       "      <td>0.820658</td>\n",
       "      <td>22.495055</td>\n",
       "      <td>50.094133</td>\n",
       "      <td>499.691181</td>\n",
       "    </tr>\n",
       "    <tr>\n",
       "      <th>std</th>\n",
       "      <td>0.287010</td>\n",
       "      <td>0.289524</td>\n",
       "      <td>28.732712</td>\n",
       "      <td>0.086603</td>\n",
       "      <td>1.302263</td>\n",
       "      <td>1.300918</td>\n",
       "      <td>0.390276</td>\n",
       "      <td>7.204729</td>\n",
       "      <td>11.553234</td>\n",
       "      <td>289.635940</td>\n",
       "    </tr>\n",
       "    <tr>\n",
       "      <th>min</th>\n",
       "      <td>37.013684</td>\n",
       "      <td>-121.998479</td>\n",
       "      <td>0.575104</td>\n",
       "      <td>0.000000</td>\n",
       "      <td>0.500120</td>\n",
       "      <td>0.500025</td>\n",
       "      <td>0.150008</td>\n",
       "      <td>10.000930</td>\n",
       "      <td>30.000076</td>\n",
       "      <td>0.059913</td>\n",
       "    </tr>\n",
       "    <tr>\n",
       "      <th>25%</th>\n",
       "      <td>37.363493</td>\n",
       "      <td>-121.760702</td>\n",
       "      <td>24.731299</td>\n",
       "      <td>0.074925</td>\n",
       "      <td>1.624056</td>\n",
       "      <td>1.608859</td>\n",
       "      <td>0.482658</td>\n",
       "      <td>16.262349</td>\n",
       "      <td>40.094638</td>\n",
       "      <td>248.920004</td>\n",
       "    </tr>\n",
       "    <tr>\n",
       "      <th>50%</th>\n",
       "      <td>37.532434</td>\n",
       "      <td>-121.496134</td>\n",
       "      <td>45.878943</td>\n",
       "      <td>0.149850</td>\n",
       "      <td>2.754404</td>\n",
       "      <td>2.720220</td>\n",
       "      <td>0.816066</td>\n",
       "      <td>22.517037</td>\n",
       "      <td>50.162426</td>\n",
       "      <td>500.020790</td>\n",
       "    </tr>\n",
       "    <tr>\n",
       "      <th>75%</th>\n",
       "      <td>37.792310</td>\n",
       "      <td>-121.296507</td>\n",
       "      <td>73.942745</td>\n",
       "      <td>0.224775</td>\n",
       "      <td>3.889643</td>\n",
       "      <td>3.862012</td>\n",
       "      <td>1.158604</td>\n",
       "      <td>28.691437</td>\n",
       "      <td>60.184927</td>\n",
       "      <td>750.370008</td>\n",
       "    </tr>\n",
       "    <tr>\n",
       "      <th>max</th>\n",
       "      <td>37.997699</td>\n",
       "      <td>-121.015688</td>\n",
       "      <td>99.024772</td>\n",
       "      <td>0.299700</td>\n",
       "      <td>4.999694</td>\n",
       "      <td>4.999887</td>\n",
       "      <td>1.499966</td>\n",
       "      <td>34.999655</td>\n",
       "      <td>69.998836</td>\n",
       "      <td>999.952636</td>\n",
       "    </tr>\n",
       "  </tbody>\n",
       "</table>\n",
       "</div>"
      ],
      "text/plain": [
       "           Latitude     Longitude      Altitude      Distance  \\\n",
       "count  50000.000000  50000.000000  50000.000000  50000.000000   \n",
       "mean      37.532890   -121.513446     45.886560      0.149850   \n",
       "std        0.287010      0.289524     28.732712      0.086603   \n",
       "min       37.013684   -121.998479      0.575104      0.000000   \n",
       "25%       37.363493   -121.760702     24.731299      0.074925   \n",
       "50%       37.532434   -121.496134     45.878943      0.149850   \n",
       "75%       37.792310   -121.296507     73.942745      0.224775   \n",
       "max       37.997699   -121.015688     99.024772      0.299700   \n",
       "\n",
       "       Distance_Sensors   Wheel_Speed      Velocity   Temperature  \\\n",
       "count      50000.000000  50000.000000  50000.000000  50000.000000   \n",
       "mean           2.753068      2.735528      0.820658     22.495055   \n",
       "std            1.302263      1.300918      0.390276      7.204729   \n",
       "min            0.500120      0.500025      0.150008     10.000930   \n",
       "25%            1.624056      1.608859      0.482658     16.262349   \n",
       "50%            2.754404      2.720220      0.816066     22.517037   \n",
       "75%            3.889643      3.862012      1.158604     28.691437   \n",
       "max            4.999694      4.999887      1.499966     34.999655   \n",
       "\n",
       "           Humidity   Light_Level  \n",
       "count  50000.000000  50000.000000  \n",
       "mean      50.094133    499.691181  \n",
       "std       11.553234    289.635940  \n",
       "min       30.000076      0.059913  \n",
       "25%       40.094638    248.920004  \n",
       "50%       50.162426    500.020790  \n",
       "75%       60.184927    750.370008  \n",
       "max       69.998836    999.952636  "
      ]
     },
     "execution_count": 6,
     "metadata": {},
     "output_type": "execute_result"
    }
   ],
   "source": [
    "df.describe()"
   ]
  },
  {
   "cell_type": "code",
   "execution_count": 7,
   "metadata": {},
   "outputs": [
    {
     "data": {
      "text/plain": [
       "Latitude            0\n",
       "Longitude           0\n",
       "Altitude            0\n",
       "Distance            0\n",
       "Alignment           0\n",
       "Distance_Sensors    0\n",
       "Proximity           0\n",
       "Wheel_Speed         0\n",
       "Velocity            0\n",
       "Hall_Effect         0\n",
       "Emergency_Stop      0\n",
       "Temperature         0\n",
       "Humidity            0\n",
       "Light_Level         0\n",
       "dtype: int64"
      ]
     },
     "execution_count": 7,
     "metadata": {},
     "output_type": "execute_result"
    }
   ],
   "source": [
    "df.isna().sum()"
   ]
  },
  {
   "cell_type": "code",
   "execution_count": 8,
   "metadata": {},
   "outputs": [
    {
     "data": {
      "text/plain": [
       "Index(['Latitude', 'Longitude', 'Altitude', 'Distance', 'Alignment',\n",
       "       'Distance_Sensors', 'Proximity', 'Wheel_Speed', 'Velocity',\n",
       "       'Hall_Effect', 'Emergency_Stop', 'Temperature', 'Humidity',\n",
       "       'Light_Level'],\n",
       "      dtype='object')"
      ]
     },
     "execution_count": 8,
     "metadata": {},
     "output_type": "execute_result"
    }
   ],
   "source": [
    "df.columns"
   ]
  },
  {
   "cell_type": "code",
   "execution_count": 9,
   "metadata": {},
   "outputs": [],
   "source": [
    "alignment_conditions = [\n",
    "    alignment == True for alignment in df[\"Alignment\"]\n",
    "]\n",
    "\n",
    "# Adding labels for Chaining Alignment\n",
    "df[\"Alignment_Label\"] = [\"Aligned\" if condition else \"Not_Aligned\" for condition in alignment_conditions]\n"
   ]
  },
  {
   "cell_type": "code",
   "execution_count": 10,
   "metadata": {},
   "outputs": [],
   "source": [
    "# Define conditions for safety based on Hall_Effect and Emergency_Stop\n",
    "safety_conditions = [\n",
    "    hall_effect == True and emergency_stop == False\n",
    "    for hall_effect, emergency_stop in zip(\n",
    "        df[\"Hall_Effect\"],\n",
    "        df[\"Emergency_Stop\"]\n",
    "    )\n",
    "]\n",
    "\n",
    "# Adding labels for Safety Decision\n",
    "df[\"Safety_Label\"] = [\"Safe\" if condition else \"Unsafe\" for condition in safety_conditions]"
   ]
  },
  {
   "cell_type": "code",
   "execution_count": 11,
   "metadata": {},
   "outputs": [],
   "source": [
    "# Speed thresholds (in meters per second - m/s)\n",
    "threshold_high_speed = 1.5  \n",
    "\n",
    "# Distance thresholds (in meter)\n",
    "threshold_low_distance = 0.5 \n",
    "\n",
    "# Temperature thresholds (in degrees Celsius)\n",
    "threshold_high_temperature = 30 \n",
    "\n",
    "# Light level thresholds (in Lux)\n",
    "threshold_low_light = 100\n",
    "\n",
    "\n",
    "collision_risk_levels = []\n",
    "\n",
    "for distance, proximity, wheel_speed, temperature, light_level in zip(\n",
    "    df[\"Distance\"],\n",
    "    df[\"Proximity\"],\n",
    "    df[\"Wheel_Speed\"],\n",
    "    df[\"Temperature\"],\n",
    "    df[\"Light_Level\"]\n",
    "):\n",
    "    if proximity or wheel_speed > threshold_high_speed:\n",
    "        collision_risk_levels.append(2)\n",
    "    elif distance < threshold_low_distance:\n",
    "        collision_risk_levels.append(1)\n",
    "    elif temperature > threshold_high_temperature or light_level < threshold_low_light:\n",
    "        collision_risk_levels.append(1)\n",
    "    else:\n",
    "        collision_risk_levels.append(0)\n",
    "\n",
    "\n",
    "# Adding labels for Collision Avoidance\n",
    "df[\"Collision_Avoidance_Label\"] = [\"Low_Risk\" if risk_level == 0 else \"Medium_Risk\" if risk_level == 1 else \"High_Risk\" for risk_level in collision_risk_levels]"
   ]
  },
  {
   "cell_type": "code",
   "execution_count": 12,
   "metadata": {},
   "outputs": [],
   "source": [
    "# Define acceptable distance thresholds for chaining \n",
    "max_distance = 0.5 \n",
    "min_distance = 0.15\n",
    "\n",
    "# Cart wheel speed treshold in meters per second (m/s) for chaining \n",
    "high_speed = 2.5\n",
    "\n",
    "# Define conditions for chaining based on the data\n",
    "chaining_conditions = [\n",
    "    alignment and distance > min_distance and distance < max_distance and not proximity and wheel_speed < high_speed and safety_label == \"Safe\"\n",
    "    for alignment, distance, proximity, safety_label, wheel_speed in zip(\n",
    "        df[\"Alignment\"],\n",
    "        df[\"Distance\"],\n",
    "        df[\"Proximity\"],\n",
    "        df[\"Safety_Label\"],\n",
    "        df['Wheel_Speed']\n",
    "    )\n",
    "]\n",
    "\n",
    "# Adding labels for Chaining/Unchaining Decision\n",
    "df[\"Chaining_Unchaining_Label\"] = [\"Chaining\" if condition else \"Unchaining\" for condition in chaining_conditions]"
   ]
  },
  {
   "cell_type": "code",
   "execution_count": 13,
   "metadata": {},
   "outputs": [
    {
     "name": "stdout",
     "output_type": "stream",
     "text": [
      "Combined data with labels saved.\n"
     ]
    }
   ],
   "source": [
    "# Save the updated combined data with labels to a new CSV file\n",
    "df.to_csv(\"../Data/final_combined_data.csv\", index=False)\n",
    "\n",
    "print(\"Combined data with labels saved.\")"
   ]
  },
  {
   "cell_type": "code",
   "execution_count": 14,
   "metadata": {},
   "outputs": [
    {
     "data": {
      "text/plain": [
       "Index(['Latitude', 'Longitude', 'Altitude', 'Distance', 'Alignment',\n",
       "       'Distance_Sensors', 'Proximity', 'Wheel_Speed', 'Velocity',\n",
       "       'Hall_Effect', 'Emergency_Stop', 'Temperature', 'Humidity',\n",
       "       'Light_Level', 'Alignment_Label', 'Safety_Label',\n",
       "       'Collision_Avoidance_Label', 'Chaining_Unchaining_Label'],\n",
       "      dtype='object')"
      ]
     },
     "execution_count": 14,
     "metadata": {},
     "output_type": "execute_result"
    }
   ],
   "source": [
    "df.columns"
   ]
  },
  {
   "cell_type": "code",
   "execution_count": 15,
   "metadata": {},
   "outputs": [
    {
     "data": {
      "text/plain": [
       "Latitude                     0\n",
       "Longitude                    0\n",
       "Altitude                     0\n",
       "Distance                     0\n",
       "Alignment                    0\n",
       "Distance_Sensors             0\n",
       "Proximity                    0\n",
       "Wheel_Speed                  0\n",
       "Velocity                     0\n",
       "Hall_Effect                  0\n",
       "Emergency_Stop               0\n",
       "Temperature                  0\n",
       "Humidity                     0\n",
       "Light_Level                  0\n",
       "Alignment_Label              0\n",
       "Safety_Label                 0\n",
       "Collision_Avoidance_Label    0\n",
       "Chaining_Unchaining_Label    0\n",
       "dtype: int64"
      ]
     },
     "execution_count": 15,
     "metadata": {},
     "output_type": "execute_result"
    }
   ],
   "source": [
    "df.isna().sum()"
   ]
  },
  {
   "cell_type": "code",
   "execution_count": null,
   "metadata": {},
   "outputs": [],
   "source": []
  }
 ],
 "metadata": {
  "kernelspec": {
   "display_name": "Python 3",
   "language": "python",
   "name": "python3"
  },
  "language_info": {
   "codemirror_mode": {
    "name": "ipython",
    "version": 3
   },
   "file_extension": ".py",
   "mimetype": "text/x-python",
   "name": "python",
   "nbconvert_exporter": "python",
   "pygments_lexer": "ipython3",
   "version": "3.10.11"
  },
  "orig_nbformat": 4
 },
 "nbformat": 4,
 "nbformat_minor": 2
}
