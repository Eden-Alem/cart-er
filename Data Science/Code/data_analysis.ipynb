{
 "cells": [
  {
   "cell_type": "markdown",
   "metadata": {},
   "source": [
    "# **Imports**"
   ]
  },
  {
   "cell_type": "code",
   "execution_count": 4,
   "metadata": {},
   "outputs": [],
   "source": [
    "import pandas as pd"
   ]
  },
  {
   "cell_type": "markdown",
   "metadata": {},
   "source": [
    "# **Reading Data**"
   ]
  },
  {
   "cell_type": "code",
   "execution_count": 5,
   "metadata": {},
   "outputs": [],
   "source": [
    "df = pd.read_csv('../Data/combined_data.csv')"
   ]
  },
  {
   "cell_type": "markdown",
   "metadata": {},
   "source": [
    "# **Data Exploration and Analysis**"
   ]
  },
  {
   "cell_type": "code",
   "execution_count": 6,
   "metadata": {},
   "outputs": [
    {
     "data": {
      "text/html": [
       "<div>\n",
       "<style scoped>\n",
       "    .dataframe tbody tr th:only-of-type {\n",
       "        vertical-align: middle;\n",
       "    }\n",
       "\n",
       "    .dataframe tbody tr th {\n",
       "        vertical-align: top;\n",
       "    }\n",
       "\n",
       "    .dataframe thead th {\n",
       "        text-align: right;\n",
       "    }\n",
       "</style>\n",
       "<table border=\"1\" class=\"dataframe\">\n",
       "  <thead>\n",
       "    <tr style=\"text-align: right;\">\n",
       "      <th></th>\n",
       "      <th>Latitude</th>\n",
       "      <th>Longitude</th>\n",
       "      <th>Altitude</th>\n",
       "      <th>Distance</th>\n",
       "      <th>Alignment</th>\n",
       "      <th>Distance_Sensors</th>\n",
       "      <th>Proximity</th>\n",
       "      <th>Wheel_Speed</th>\n",
       "      <th>Velocity</th>\n",
       "      <th>Hall_Effect</th>\n",
       "      <th>Emergency_Stop</th>\n",
       "      <th>Temperature</th>\n",
       "      <th>Humidity</th>\n",
       "      <th>Light_Level</th>\n",
       "    </tr>\n",
       "  </thead>\n",
       "  <tbody>\n",
       "    <tr>\n",
       "      <th>0</th>\n",
       "      <td>37.417885</td>\n",
       "      <td>-121.810845</td>\n",
       "      <td>30.628426</td>\n",
       "      <td>0.0000</td>\n",
       "      <td>False</td>\n",
       "      <td>2.693672</td>\n",
       "      <td>True</td>\n",
       "      <td>2.232098</td>\n",
       "      <td>0.669629</td>\n",
       "      <td>True</td>\n",
       "      <td>True</td>\n",
       "      <td>19.520754</td>\n",
       "      <td>44.387676</td>\n",
       "      <td>70.423761</td>\n",
       "    </tr>\n",
       "    <tr>\n",
       "      <th>1</th>\n",
       "      <td>37.417885</td>\n",
       "      <td>-121.810844</td>\n",
       "      <td>30.628426</td>\n",
       "      <td>0.0003</td>\n",
       "      <td>True</td>\n",
       "      <td>1.747220</td>\n",
       "      <td>True</td>\n",
       "      <td>3.645406</td>\n",
       "      <td>1.093622</td>\n",
       "      <td>False</td>\n",
       "      <td>True</td>\n",
       "      <td>22.244082</td>\n",
       "      <td>34.777122</td>\n",
       "      <td>983.361907</td>\n",
       "    </tr>\n",
       "    <tr>\n",
       "      <th>2</th>\n",
       "      <td>37.417885</td>\n",
       "      <td>-121.810843</td>\n",
       "      <td>30.628426</td>\n",
       "      <td>0.0006</td>\n",
       "      <td>False</td>\n",
       "      <td>4.850866</td>\n",
       "      <td>True</td>\n",
       "      <td>3.764647</td>\n",
       "      <td>1.129394</td>\n",
       "      <td>False</td>\n",
       "      <td>False</td>\n",
       "      <td>15.588799</td>\n",
       "      <td>67.379012</td>\n",
       "      <td>415.466888</td>\n",
       "    </tr>\n",
       "    <tr>\n",
       "      <th>3</th>\n",
       "      <td>37.417885</td>\n",
       "      <td>-121.810842</td>\n",
       "      <td>30.628426</td>\n",
       "      <td>0.0009</td>\n",
       "      <td>False</td>\n",
       "      <td>3.869834</td>\n",
       "      <td>True</td>\n",
       "      <td>4.926673</td>\n",
       "      <td>1.478002</td>\n",
       "      <td>True</td>\n",
       "      <td>False</td>\n",
       "      <td>26.796938</td>\n",
       "      <td>50.141186</td>\n",
       "      <td>628.543683</td>\n",
       "    </tr>\n",
       "    <tr>\n",
       "      <th>4</th>\n",
       "      <td>37.417885</td>\n",
       "      <td>-121.810841</td>\n",
       "      <td>30.628426</td>\n",
       "      <td>0.0012</td>\n",
       "      <td>True</td>\n",
       "      <td>1.157138</td>\n",
       "      <td>False</td>\n",
       "      <td>0.970340</td>\n",
       "      <td>0.291102</td>\n",
       "      <td>True</td>\n",
       "      <td>False</td>\n",
       "      <td>23.593743</td>\n",
       "      <td>60.236258</td>\n",
       "      <td>456.516795</td>\n",
       "    </tr>\n",
       "  </tbody>\n",
       "</table>\n",
       "</div>"
      ],
      "text/plain": [
       "    Latitude   Longitude   Altitude  Distance  Alignment  Distance_Sensors  \\\n",
       "0  37.417885 -121.810845  30.628426    0.0000      False          2.693672   \n",
       "1  37.417885 -121.810844  30.628426    0.0003       True          1.747220   \n",
       "2  37.417885 -121.810843  30.628426    0.0006      False          4.850866   \n",
       "3  37.417885 -121.810842  30.628426    0.0009      False          3.869834   \n",
       "4  37.417885 -121.810841  30.628426    0.0012       True          1.157138   \n",
       "\n",
       "   Proximity  Wheel_Speed  Velocity  Hall_Effect  Emergency_Stop  Temperature  \\\n",
       "0       True     2.232098  0.669629         True            True    19.520754   \n",
       "1       True     3.645406  1.093622        False            True    22.244082   \n",
       "2       True     3.764647  1.129394        False           False    15.588799   \n",
       "3       True     4.926673  1.478002         True           False    26.796938   \n",
       "4      False     0.970340  0.291102         True           False    23.593743   \n",
       "\n",
       "    Humidity  Light_Level  \n",
       "0  44.387676    70.423761  \n",
       "1  34.777122   983.361907  \n",
       "2  67.379012   415.466888  \n",
       "3  50.141186   628.543683  \n",
       "4  60.236258   456.516795  "
      ]
     },
     "execution_count": 6,
     "metadata": {},
     "output_type": "execute_result"
    }
   ],
   "source": [
    "df.head()"
   ]
  },
  {
   "cell_type": "code",
   "execution_count": 7,
   "metadata": {},
   "outputs": [
    {
     "data": {
      "text/plain": [
       "(5000, 14)"
      ]
     },
     "execution_count": 7,
     "metadata": {},
     "output_type": "execute_result"
    }
   ],
   "source": [
    "df.shape"
   ]
  },
  {
   "cell_type": "code",
   "execution_count": 8,
   "metadata": {},
   "outputs": [
    {
     "name": "stdout",
     "output_type": "stream",
     "text": [
      "<class 'pandas.core.frame.DataFrame'>\n",
      "RangeIndex: 5000 entries, 0 to 4999\n",
      "Data columns (total 14 columns):\n",
      " #   Column            Non-Null Count  Dtype  \n",
      "---  ------            --------------  -----  \n",
      " 0   Latitude          5000 non-null   float64\n",
      " 1   Longitude         5000 non-null   float64\n",
      " 2   Altitude          5000 non-null   float64\n",
      " 3   Distance          5000 non-null   float64\n",
      " 4   Alignment         5000 non-null   bool   \n",
      " 5   Distance_Sensors  5000 non-null   float64\n",
      " 6   Proximity         5000 non-null   bool   \n",
      " 7   Wheel_Speed       5000 non-null   float64\n",
      " 8   Velocity          5000 non-null   float64\n",
      " 9   Hall_Effect       5000 non-null   bool   \n",
      " 10  Emergency_Stop    5000 non-null   bool   \n",
      " 11  Temperature       5000 non-null   float64\n",
      " 12  Humidity          5000 non-null   float64\n",
      " 13  Light_Level       5000 non-null   float64\n",
      "dtypes: bool(4), float64(10)\n",
      "memory usage: 410.3 KB\n"
     ]
    }
   ],
   "source": [
    "df.info()"
   ]
  },
  {
   "cell_type": "code",
   "execution_count": 9,
   "metadata": {},
   "outputs": [
    {
     "data": {
      "text/html": [
       "<div>\n",
       "<style scoped>\n",
       "    .dataframe tbody tr th:only-of-type {\n",
       "        vertical-align: middle;\n",
       "    }\n",
       "\n",
       "    .dataframe tbody tr th {\n",
       "        vertical-align: top;\n",
       "    }\n",
       "\n",
       "    .dataframe thead th {\n",
       "        text-align: right;\n",
       "    }\n",
       "</style>\n",
       "<table border=\"1\" class=\"dataframe\">\n",
       "  <thead>\n",
       "    <tr style=\"text-align: right;\">\n",
       "      <th></th>\n",
       "      <th>Latitude</th>\n",
       "      <th>Longitude</th>\n",
       "      <th>Altitude</th>\n",
       "      <th>Distance</th>\n",
       "      <th>Distance_Sensors</th>\n",
       "      <th>Wheel_Speed</th>\n",
       "      <th>Velocity</th>\n",
       "      <th>Temperature</th>\n",
       "      <th>Humidity</th>\n",
       "      <th>Light_Level</th>\n",
       "    </tr>\n",
       "  </thead>\n",
       "  <tbody>\n",
       "    <tr>\n",
       "      <th>count</th>\n",
       "      <td>5000.000000</td>\n",
       "      <td>5000.000000</td>\n",
       "      <td>5000.000000</td>\n",
       "      <td>5000.000000</td>\n",
       "      <td>5000.000000</td>\n",
       "      <td>5000.000000</td>\n",
       "      <td>5000.000000</td>\n",
       "      <td>5000.000000</td>\n",
       "      <td>5000.000000</td>\n",
       "      <td>5000.000000</td>\n",
       "    </tr>\n",
       "    <tr>\n",
       "      <th>mean</th>\n",
       "      <td>37.216871</td>\n",
       "      <td>-121.594608</td>\n",
       "      <td>33.121664</td>\n",
       "      <td>0.149850</td>\n",
       "      <td>2.768578</td>\n",
       "      <td>2.759561</td>\n",
       "      <td>0.827868</td>\n",
       "      <td>22.390212</td>\n",
       "      <td>49.828816</td>\n",
       "      <td>492.630568</td>\n",
       "    </tr>\n",
       "    <tr>\n",
       "      <th>std</th>\n",
       "      <td>0.156148</td>\n",
       "      <td>0.210838</td>\n",
       "      <td>19.936068</td>\n",
       "      <td>0.086611</td>\n",
       "      <td>1.287386</td>\n",
       "      <td>1.307272</td>\n",
       "      <td>0.392182</td>\n",
       "      <td>7.227560</td>\n",
       "      <td>11.421509</td>\n",
       "      <td>289.483068</td>\n",
       "    </tr>\n",
       "    <tr>\n",
       "      <th>min</th>\n",
       "      <td>37.032047</td>\n",
       "      <td>-121.838077</td>\n",
       "      <td>1.576215</td>\n",
       "      <td>0.000000</td>\n",
       "      <td>0.500216</td>\n",
       "      <td>0.500655</td>\n",
       "      <td>0.150196</td>\n",
       "      <td>10.002520</td>\n",
       "      <td>30.005919</td>\n",
       "      <td>0.088550</td>\n",
       "    </tr>\n",
       "    <tr>\n",
       "      <th>25%</th>\n",
       "      <td>37.110015</td>\n",
       "      <td>-121.810598</td>\n",
       "      <td>30.628426</td>\n",
       "      <td>0.074925</td>\n",
       "      <td>1.672027</td>\n",
       "      <td>1.625583</td>\n",
       "      <td>0.487675</td>\n",
       "      <td>16.123215</td>\n",
       "      <td>40.122191</td>\n",
       "      <td>242.858835</td>\n",
       "    </tr>\n",
       "    <tr>\n",
       "      <th>50%</th>\n",
       "      <td>37.135600</td>\n",
       "      <td>-121.543332</td>\n",
       "      <td>34.451210</td>\n",
       "      <td>0.149850</td>\n",
       "      <td>2.771199</td>\n",
       "      <td>2.777605</td>\n",
       "      <td>0.833281</td>\n",
       "      <td>22.242196</td>\n",
       "      <td>49.835146</td>\n",
       "      <td>488.080833</td>\n",
       "    </tr>\n",
       "    <tr>\n",
       "      <th>75%</th>\n",
       "      <td>37.388722</td>\n",
       "      <td>-121.514992</td>\n",
       "      <td>34.496359</td>\n",
       "      <td>0.224775</td>\n",
       "      <td>3.864768</td>\n",
       "      <td>3.891410</td>\n",
       "      <td>1.167423</td>\n",
       "      <td>28.711647</td>\n",
       "      <td>59.641795</td>\n",
       "      <td>739.423933</td>\n",
       "    </tr>\n",
       "    <tr>\n",
       "      <th>max</th>\n",
       "      <td>37.417885</td>\n",
       "      <td>-121.266089</td>\n",
       "      <td>64.456110</td>\n",
       "      <td>0.299700</td>\n",
       "      <td>4.999616</td>\n",
       "      <td>4.999721</td>\n",
       "      <td>1.499916</td>\n",
       "      <td>34.998772</td>\n",
       "      <td>69.988824</td>\n",
       "      <td>999.952096</td>\n",
       "    </tr>\n",
       "  </tbody>\n",
       "</table>\n",
       "</div>"
      ],
      "text/plain": [
       "          Latitude    Longitude     Altitude     Distance  Distance_Sensors  \\\n",
       "count  5000.000000  5000.000000  5000.000000  5000.000000       5000.000000   \n",
       "mean     37.216871  -121.594608    33.121664     0.149850          2.768578   \n",
       "std       0.156148     0.210838    19.936068     0.086611          1.287386   \n",
       "min      37.032047  -121.838077     1.576215     0.000000          0.500216   \n",
       "25%      37.110015  -121.810598    30.628426     0.074925          1.672027   \n",
       "50%      37.135600  -121.543332    34.451210     0.149850          2.771199   \n",
       "75%      37.388722  -121.514992    34.496359     0.224775          3.864768   \n",
       "max      37.417885  -121.266089    64.456110     0.299700          4.999616   \n",
       "\n",
       "       Wheel_Speed     Velocity  Temperature     Humidity  Light_Level  \n",
       "count  5000.000000  5000.000000  5000.000000  5000.000000  5000.000000  \n",
       "mean      2.759561     0.827868    22.390212    49.828816   492.630568  \n",
       "std       1.307272     0.392182     7.227560    11.421509   289.483068  \n",
       "min       0.500655     0.150196    10.002520    30.005919     0.088550  \n",
       "25%       1.625583     0.487675    16.123215    40.122191   242.858835  \n",
       "50%       2.777605     0.833281    22.242196    49.835146   488.080833  \n",
       "75%       3.891410     1.167423    28.711647    59.641795   739.423933  \n",
       "max       4.999721     1.499916    34.998772    69.988824   999.952096  "
      ]
     },
     "execution_count": 9,
     "metadata": {},
     "output_type": "execute_result"
    }
   ],
   "source": [
    "df.describe()"
   ]
  },
  {
   "cell_type": "code",
   "execution_count": 10,
   "metadata": {},
   "outputs": [
    {
     "data": {
      "text/plain": [
       "Latitude            0\n",
       "Longitude           0\n",
       "Altitude            0\n",
       "Distance            0\n",
       "Alignment           0\n",
       "Distance_Sensors    0\n",
       "Proximity           0\n",
       "Wheel_Speed         0\n",
       "Velocity            0\n",
       "Hall_Effect         0\n",
       "Emergency_Stop      0\n",
       "Temperature         0\n",
       "Humidity            0\n",
       "Light_Level         0\n",
       "dtype: int64"
      ]
     },
     "execution_count": 10,
     "metadata": {},
     "output_type": "execute_result"
    }
   ],
   "source": [
    "df.isna().sum()"
   ]
  },
  {
   "cell_type": "code",
   "execution_count": 11,
   "metadata": {},
   "outputs": [
    {
     "data": {
      "text/plain": [
       "Index(['Latitude', 'Longitude', 'Altitude', 'Distance', 'Alignment',\n",
       "       'Distance_Sensors', 'Proximity', 'Wheel_Speed', 'Velocity',\n",
       "       'Hall_Effect', 'Emergency_Stop', 'Temperature', 'Humidity',\n",
       "       'Light_Level'],\n",
       "      dtype='object')"
      ]
     },
     "execution_count": 11,
     "metadata": {},
     "output_type": "execute_result"
    }
   ],
   "source": [
    "df.columns"
   ]
  },
  {
   "cell_type": "code",
   "execution_count": 12,
   "metadata": {},
   "outputs": [],
   "source": [
    "alignment_conditions = [\n",
    "    alignment == True for alignment in df[\"Alignment\"]\n",
    "]\n",
    "\n",
    "# Adding labels for Chaining Alignment\n",
    "df[\"Alignment_Label\"] = [\"Aligned\" if condition else \"Not_Aligned\" for condition in alignment_conditions]\n"
   ]
  },
  {
   "cell_type": "code",
   "execution_count": 13,
   "metadata": {},
   "outputs": [],
   "source": [
    "# Define conditions for safety based on Hall_Effect and Emergency_Stop\n",
    "safety_conditions = [\n",
    "    hall_effect == True and emergency_stop == False\n",
    "    for hall_effect, emergency_stop in zip(\n",
    "        df[\"Hall_Effect\"],\n",
    "        df[\"Emergency_Stop\"]\n",
    "    )\n",
    "]\n",
    "\n",
    "# Adding labels for Safety Decision\n",
    "df[\"Safety_Label\"] = [\"Safe\" if condition else \"Unsafe\" for condition in safety_conditions]"
   ]
  },
  {
   "cell_type": "code",
   "execution_count": 14,
   "metadata": {},
   "outputs": [],
   "source": [
    "# Speed thresholds (in meters per second - m/s)\n",
    "threshold_high_speed = 1.5  \n",
    "\n",
    "# Distance thresholds (in meter)\n",
    "threshold_low_distance = 0.5 \n",
    "\n",
    "# Temperature thresholds (in degrees Celsius)\n",
    "threshold_high_temperature = 30 \n",
    "\n",
    "# Light level thresholds (in Lux)\n",
    "threshold_low_light = 100\n",
    "\n",
    "\n",
    "collision_risk_levels = []\n",
    "\n",
    "for distance, proximity, wheel_speed, temperature, light_level in zip(\n",
    "    df[\"Distance\"],\n",
    "    df[\"Proximity\"],\n",
    "    df[\"Wheel_Speed\"],\n",
    "    df[\"Temperature\"],\n",
    "    df[\"Light_Level\"]\n",
    "):\n",
    "    if proximity or wheel_speed > threshold_high_speed:\n",
    "        collision_risk_levels.append(2)\n",
    "    elif distance < threshold_low_distance:\n",
    "        collision_risk_levels.append(1)\n",
    "    elif temperature > threshold_high_temperature or light_level < threshold_low_light:\n",
    "        collision_risk_levels.append(1)\n",
    "    else:\n",
    "        collision_risk_levels.append(0)\n",
    "\n",
    "\n",
    "# Adding labels for Collision Avoidance\n",
    "df[\"Collision_Avoidance_Label\"] = [\"Low_Risk\" if risk_level == 0 else \"Medium_Risk\" if risk_level == 1 else \"High_Risk\" for risk_level in collision_risk_levels]"
   ]
  },
  {
   "cell_type": "code",
   "execution_count": 15,
   "metadata": {},
   "outputs": [],
   "source": [
    "# Define acceptable distance thresholds for chaining \n",
    "max_distance = 5.0  \n",
    "min_distance = 2.0\n",
    "\n",
    "# Cart wheel speed treshold in meters per second (m/s) for chaining \n",
    "high_speed = 1.5\n",
    "\n",
    "# Define conditions for chaining based on the data\n",
    "chaining_conditions = [\n",
    "    alignment and distance > min_distance and distance < max_distance and not proximity and wheel_speed < high_speed and safety_label == \"Safe\"\n",
    "    for alignment, distance, proximity, safety_label, wheel_speed in zip(\n",
    "        df[\"Alignment\"],\n",
    "        df[\"Distance\"],\n",
    "        df[\"Proximity\"],\n",
    "        df[\"Safety_Label\"],\n",
    "        df['Wheel_Speed']\n",
    "    )\n",
    "]\n",
    "\n",
    "# Adding labels for Chaining/Unchaining Decision\n",
    "df[\"Chaining_Unchaining_Label\"] = [\"Chaining\" if condition else \"Unchaining\" for condition in chaining_conditions]"
   ]
  },
  {
   "cell_type": "code",
   "execution_count": 19,
   "metadata": {},
   "outputs": [
    {
     "name": "stdout",
     "output_type": "stream",
     "text": [
      "Combined data with labels saved.\n"
     ]
    }
   ],
   "source": [
    "# Save the updated combined data with labels to a new CSV file\n",
    "df.to_csv(\"../Data/final_combined_data.csv\", index=False)\n",
    "\n",
    "print(\"Combined data with labels saved.\")"
   ]
  },
  {
   "cell_type": "code",
   "execution_count": 17,
   "metadata": {},
   "outputs": [
    {
     "data": {
      "text/plain": [
       "Index(['Latitude', 'Longitude', 'Altitude', 'Distance', 'Alignment',\n",
       "       'Distance_Sensors', 'Proximity', 'Wheel_Speed', 'Velocity',\n",
       "       'Hall_Effect', 'Emergency_Stop', 'Temperature', 'Humidity',\n",
       "       'Light_Level', 'Alignment_Label', 'Safety_Label',\n",
       "       'Collision_Avoidance_Label', 'Chaining_Unchaining_Label'],\n",
       "      dtype='object')"
      ]
     },
     "execution_count": 17,
     "metadata": {},
     "output_type": "execute_result"
    }
   ],
   "source": [
    "df.columns"
   ]
  },
  {
   "cell_type": "code",
   "execution_count": 18,
   "metadata": {},
   "outputs": [
    {
     "data": {
      "text/plain": [
       "Latitude                     0\n",
       "Longitude                    0\n",
       "Altitude                     0\n",
       "Distance                     0\n",
       "Alignment                    0\n",
       "Distance_Sensors             0\n",
       "Proximity                    0\n",
       "Wheel_Speed                  0\n",
       "Velocity                     0\n",
       "Hall_Effect                  0\n",
       "Emergency_Stop               0\n",
       "Temperature                  0\n",
       "Humidity                     0\n",
       "Light_Level                  0\n",
       "Alignment_Label              0\n",
       "Safety_Label                 0\n",
       "Collision_Avoidance_Label    0\n",
       "Chaining_Unchaining_Label    0\n",
       "dtype: int64"
      ]
     },
     "execution_count": 18,
     "metadata": {},
     "output_type": "execute_result"
    }
   ],
   "source": [
    "df.isna().sum()"
   ]
  }
 ],
 "metadata": {
  "kernelspec": {
   "display_name": "Python 3",
   "language": "python",
   "name": "python3"
  },
  "language_info": {
   "codemirror_mode": {
    "name": "ipython",
    "version": 3
   },
   "file_extension": ".py",
   "mimetype": "text/x-python",
   "name": "python",
   "nbconvert_exporter": "python",
   "pygments_lexer": "ipython3",
   "version": "3.10.11"
  },
  "orig_nbformat": 4
 },
 "nbformat": 4,
 "nbformat_minor": 2
}
