{
 "cells": [
  {
   "cell_type": "markdown",
   "metadata": {},
   "source": [
    "# **Imports**"
   ]
  },
  {
   "cell_type": "code",
   "execution_count": 1,
   "metadata": {},
   "outputs": [],
   "source": [
    "import pandas as pd"
   ]
  },
  {
   "cell_type": "markdown",
   "metadata": {},
   "source": [
    "# **Reading Data**"
   ]
  },
  {
   "cell_type": "code",
   "execution_count": 2,
   "metadata": {},
   "outputs": [],
   "source": [
    "df = pd.read_csv('../Data/combined_data.csv')"
   ]
  },
  {
   "cell_type": "markdown",
   "metadata": {},
   "source": [
    "# **Data Exploration and Analysis**"
   ]
  },
  {
   "cell_type": "code",
   "execution_count": 3,
   "metadata": {},
   "outputs": [
    {
     "data": {
      "text/html": [
       "<div>\n",
       "<style scoped>\n",
       "    .dataframe tbody tr th:only-of-type {\n",
       "        vertical-align: middle;\n",
       "    }\n",
       "\n",
       "    .dataframe tbody tr th {\n",
       "        vertical-align: top;\n",
       "    }\n",
       "\n",
       "    .dataframe thead th {\n",
       "        text-align: right;\n",
       "    }\n",
       "</style>\n",
       "<table border=\"1\" class=\"dataframe\">\n",
       "  <thead>\n",
       "    <tr style=\"text-align: right;\">\n",
       "      <th></th>\n",
       "      <th>Latitude</th>\n",
       "      <th>Longitude</th>\n",
       "      <th>Altitude</th>\n",
       "      <th>Distance</th>\n",
       "      <th>Alignment</th>\n",
       "      <th>Distance_Sensors</th>\n",
       "      <th>Proximity</th>\n",
       "      <th>Wheel_Speed</th>\n",
       "      <th>Velocity</th>\n",
       "      <th>Hall_Effect</th>\n",
       "      <th>Emergency_Stop</th>\n",
       "      <th>Temperature</th>\n",
       "      <th>Humidity</th>\n",
       "      <th>Light_Level</th>\n",
       "    </tr>\n",
       "  </thead>\n",
       "  <tbody>\n",
       "    <tr>\n",
       "      <th>0</th>\n",
       "      <td>37.775375</td>\n",
       "      <td>-121.897747</td>\n",
       "      <td>73.071218</td>\n",
       "      <td>0.0000</td>\n",
       "      <td>True</td>\n",
       "      <td>3.255424</td>\n",
       "      <td>False</td>\n",
       "      <td>4.750051</td>\n",
       "      <td>1.425015</td>\n",
       "      <td>True</td>\n",
       "      <td>False</td>\n",
       "      <td>22.780391</td>\n",
       "      <td>51.359185</td>\n",
       "      <td>576.224848</td>\n",
       "    </tr>\n",
       "    <tr>\n",
       "      <th>1</th>\n",
       "      <td>37.775375</td>\n",
       "      <td>-121.897746</td>\n",
       "      <td>73.071218</td>\n",
       "      <td>0.0003</td>\n",
       "      <td>True</td>\n",
       "      <td>2.279579</td>\n",
       "      <td>False</td>\n",
       "      <td>2.195034</td>\n",
       "      <td>0.658510</td>\n",
       "      <td>True</td>\n",
       "      <td>True</td>\n",
       "      <td>10.547808</td>\n",
       "      <td>33.711211</td>\n",
       "      <td>935.633297</td>\n",
       "    </tr>\n",
       "    <tr>\n",
       "      <th>2</th>\n",
       "      <td>37.775375</td>\n",
       "      <td>-121.897745</td>\n",
       "      <td>73.071218</td>\n",
       "      <td>0.0006</td>\n",
       "      <td>True</td>\n",
       "      <td>2.172817</td>\n",
       "      <td>True</td>\n",
       "      <td>3.777403</td>\n",
       "      <td>1.133221</td>\n",
       "      <td>False</td>\n",
       "      <td>True</td>\n",
       "      <td>13.817581</td>\n",
       "      <td>49.588575</td>\n",
       "      <td>654.387359</td>\n",
       "    </tr>\n",
       "    <tr>\n",
       "      <th>3</th>\n",
       "      <td>37.775375</td>\n",
       "      <td>-121.897744</td>\n",
       "      <td>73.071218</td>\n",
       "      <td>0.0009</td>\n",
       "      <td>True</td>\n",
       "      <td>1.358142</td>\n",
       "      <td>False</td>\n",
       "      <td>1.186756</td>\n",
       "      <td>0.356027</td>\n",
       "      <td>True</td>\n",
       "      <td>False</td>\n",
       "      <td>19.249456</td>\n",
       "      <td>32.246666</td>\n",
       "      <td>159.293949</td>\n",
       "    </tr>\n",
       "    <tr>\n",
       "      <th>4</th>\n",
       "      <td>37.775375</td>\n",
       "      <td>-121.897743</td>\n",
       "      <td>73.071218</td>\n",
       "      <td>0.0012</td>\n",
       "      <td>False</td>\n",
       "      <td>0.579548</td>\n",
       "      <td>True</td>\n",
       "      <td>2.024538</td>\n",
       "      <td>0.607362</td>\n",
       "      <td>True</td>\n",
       "      <td>True</td>\n",
       "      <td>11.694243</td>\n",
       "      <td>63.618960</td>\n",
       "      <td>442.111798</td>\n",
       "    </tr>\n",
       "  </tbody>\n",
       "</table>\n",
       "</div>"
      ],
      "text/plain": [
       "    Latitude   Longitude   Altitude  Distance  Alignment  Distance_Sensors  \\\n",
       "0  37.775375 -121.897747  73.071218    0.0000       True          3.255424   \n",
       "1  37.775375 -121.897746  73.071218    0.0003       True          2.279579   \n",
       "2  37.775375 -121.897745  73.071218    0.0006       True          2.172817   \n",
       "3  37.775375 -121.897744  73.071218    0.0009       True          1.358142   \n",
       "4  37.775375 -121.897743  73.071218    0.0012      False          0.579548   \n",
       "\n",
       "   Proximity  Wheel_Speed  Velocity  Hall_Effect  Emergency_Stop  Temperature  \\\n",
       "0      False     4.750051  1.425015         True           False    22.780391   \n",
       "1      False     2.195034  0.658510         True            True    10.547808   \n",
       "2       True     3.777403  1.133221        False            True    13.817581   \n",
       "3      False     1.186756  0.356027         True           False    19.249456   \n",
       "4       True     2.024538  0.607362         True            True    11.694243   \n",
       "\n",
       "    Humidity  Light_Level  \n",
       "0  51.359185   576.224848  \n",
       "1  33.711211   935.633297  \n",
       "2  49.588575   654.387359  \n",
       "3  32.246666   159.293949  \n",
       "4  63.618960   442.111798  "
      ]
     },
     "execution_count": 3,
     "metadata": {},
     "output_type": "execute_result"
    }
   ],
   "source": [
    "df.head()"
   ]
  },
  {
   "cell_type": "code",
   "execution_count": 4,
   "metadata": {},
   "outputs": [
    {
     "data": {
      "text/plain": [
       "(50000, 14)"
      ]
     },
     "execution_count": 4,
     "metadata": {},
     "output_type": "execute_result"
    }
   ],
   "source": [
    "df.shape"
   ]
  },
  {
   "cell_type": "code",
   "execution_count": 5,
   "metadata": {},
   "outputs": [
    {
     "name": "stdout",
     "output_type": "stream",
     "text": [
      "<class 'pandas.core.frame.DataFrame'>\n",
      "RangeIndex: 50000 entries, 0 to 49999\n",
      "Data columns (total 14 columns):\n",
      " #   Column            Non-Null Count  Dtype  \n",
      "---  ------            --------------  -----  \n",
      " 0   Latitude          50000 non-null  float64\n",
      " 1   Longitude         50000 non-null  float64\n",
      " 2   Altitude          50000 non-null  float64\n",
      " 3   Distance          50000 non-null  float64\n",
      " 4   Alignment         50000 non-null  bool   \n",
      " 5   Distance_Sensors  50000 non-null  float64\n",
      " 6   Proximity         50000 non-null  bool   \n",
      " 7   Wheel_Speed       50000 non-null  float64\n",
      " 8   Velocity          50000 non-null  float64\n",
      " 9   Hall_Effect       50000 non-null  bool   \n",
      " 10  Emergency_Stop    50000 non-null  bool   \n",
      " 11  Temperature       50000 non-null  float64\n",
      " 12  Humidity          50000 non-null  float64\n",
      " 13  Light_Level       50000 non-null  float64\n",
      "dtypes: bool(4), float64(10)\n",
      "memory usage: 4.0 MB\n"
     ]
    }
   ],
   "source": [
    "df.info()"
   ]
  },
  {
   "cell_type": "code",
   "execution_count": 6,
   "metadata": {},
   "outputs": [
    {
     "data": {
      "text/html": [
       "<div>\n",
       "<style scoped>\n",
       "    .dataframe tbody tr th:only-of-type {\n",
       "        vertical-align: middle;\n",
       "    }\n",
       "\n",
       "    .dataframe tbody tr th {\n",
       "        vertical-align: top;\n",
       "    }\n",
       "\n",
       "    .dataframe thead th {\n",
       "        text-align: right;\n",
       "    }\n",
       "</style>\n",
       "<table border=\"1\" class=\"dataframe\">\n",
       "  <thead>\n",
       "    <tr style=\"text-align: right;\">\n",
       "      <th></th>\n",
       "      <th>Latitude</th>\n",
       "      <th>Longitude</th>\n",
       "      <th>Altitude</th>\n",
       "      <th>Distance</th>\n",
       "      <th>Distance_Sensors</th>\n",
       "      <th>Wheel_Speed</th>\n",
       "      <th>Velocity</th>\n",
       "      <th>Temperature</th>\n",
       "      <th>Humidity</th>\n",
       "      <th>Light_Level</th>\n",
       "    </tr>\n",
       "  </thead>\n",
       "  <tbody>\n",
       "    <tr>\n",
       "      <th>count</th>\n",
       "      <td>50000.000000</td>\n",
       "      <td>50000.000000</td>\n",
       "      <td>50000.000000</td>\n",
       "      <td>50000.000000</td>\n",
       "      <td>50000.000000</td>\n",
       "      <td>50000.000000</td>\n",
       "      <td>50000.000000</td>\n",
       "      <td>50000.000000</td>\n",
       "      <td>50000.000000</td>\n",
       "      <td>50000.000000</td>\n",
       "    </tr>\n",
       "    <tr>\n",
       "      <th>mean</th>\n",
       "      <td>37.517701</td>\n",
       "      <td>-121.497456</td>\n",
       "      <td>47.339932</td>\n",
       "      <td>0.149850</td>\n",
       "      <td>2.247534</td>\n",
       "      <td>2.751998</td>\n",
       "      <td>0.825600</td>\n",
       "      <td>22.504581</td>\n",
       "      <td>49.975236</td>\n",
       "      <td>500.511602</td>\n",
       "    </tr>\n",
       "    <tr>\n",
       "      <th>std</th>\n",
       "      <td>0.271785</td>\n",
       "      <td>0.290099</td>\n",
       "      <td>30.564202</td>\n",
       "      <td>0.086603</td>\n",
       "      <td>1.012972</td>\n",
       "      <td>1.298840</td>\n",
       "      <td>0.389652</td>\n",
       "      <td>7.222354</td>\n",
       "      <td>11.521304</td>\n",
       "      <td>289.707753</td>\n",
       "    </tr>\n",
       "    <tr>\n",
       "      <th>min</th>\n",
       "      <td>37.004829</td>\n",
       "      <td>-121.978642</td>\n",
       "      <td>0.265895</td>\n",
       "      <td>0.000000</td>\n",
       "      <td>0.500005</td>\n",
       "      <td>0.500162</td>\n",
       "      <td>0.150049</td>\n",
       "      <td>10.000035</td>\n",
       "      <td>30.000116</td>\n",
       "      <td>0.004272</td>\n",
       "    </tr>\n",
       "    <tr>\n",
       "      <th>25%</th>\n",
       "      <td>37.300933</td>\n",
       "      <td>-121.745357</td>\n",
       "      <td>18.167668</td>\n",
       "      <td>0.074925</td>\n",
       "      <td>1.368943</td>\n",
       "      <td>1.626524</td>\n",
       "      <td>0.487957</td>\n",
       "      <td>16.237724</td>\n",
       "      <td>39.933769</td>\n",
       "      <td>248.501353</td>\n",
       "    </tr>\n",
       "    <tr>\n",
       "      <th>50%</th>\n",
       "      <td>37.511985</td>\n",
       "      <td>-121.496175</td>\n",
       "      <td>43.877131</td>\n",
       "      <td>0.149850</td>\n",
       "      <td>2.245186</td>\n",
       "      <td>2.749673</td>\n",
       "      <td>0.824902</td>\n",
       "      <td>22.540286</td>\n",
       "      <td>50.028937</td>\n",
       "      <td>500.215745</td>\n",
       "    </tr>\n",
       "    <tr>\n",
       "      <th>75%</th>\n",
       "      <td>37.744905</td>\n",
       "      <td>-121.240882</td>\n",
       "      <td>80.082263</td>\n",
       "      <td>0.224775</td>\n",
       "      <td>3.131072</td>\n",
       "      <td>3.873745</td>\n",
       "      <td>1.162123</td>\n",
       "      <td>28.746879</td>\n",
       "      <td>59.893651</td>\n",
       "      <td>751.693333</td>\n",
       "    </tr>\n",
       "    <tr>\n",
       "      <th>max</th>\n",
       "      <td>38.000110</td>\n",
       "      <td>-121.002638</td>\n",
       "      <td>99.998455</td>\n",
       "      <td>0.299700</td>\n",
       "      <td>3.999987</td>\n",
       "      <td>4.999683</td>\n",
       "      <td>1.499905</td>\n",
       "      <td>34.998557</td>\n",
       "      <td>69.998334</td>\n",
       "      <td>999.908330</td>\n",
       "    </tr>\n",
       "  </tbody>\n",
       "</table>\n",
       "</div>"
      ],
      "text/plain": [
       "           Latitude     Longitude      Altitude      Distance  \\\n",
       "count  50000.000000  50000.000000  50000.000000  50000.000000   \n",
       "mean      37.517701   -121.497456     47.339932      0.149850   \n",
       "std        0.271785      0.290099     30.564202      0.086603   \n",
       "min       37.004829   -121.978642      0.265895      0.000000   \n",
       "25%       37.300933   -121.745357     18.167668      0.074925   \n",
       "50%       37.511985   -121.496175     43.877131      0.149850   \n",
       "75%       37.744905   -121.240882     80.082263      0.224775   \n",
       "max       38.000110   -121.002638     99.998455      0.299700   \n",
       "\n",
       "       Distance_Sensors   Wheel_Speed      Velocity   Temperature  \\\n",
       "count      50000.000000  50000.000000  50000.000000  50000.000000   \n",
       "mean           2.247534      2.751998      0.825600     22.504581   \n",
       "std            1.012972      1.298840      0.389652      7.222354   \n",
       "min            0.500005      0.500162      0.150049     10.000035   \n",
       "25%            1.368943      1.626524      0.487957     16.237724   \n",
       "50%            2.245186      2.749673      0.824902     22.540286   \n",
       "75%            3.131072      3.873745      1.162123     28.746879   \n",
       "max            3.999987      4.999683      1.499905     34.998557   \n",
       "\n",
       "           Humidity   Light_Level  \n",
       "count  50000.000000  50000.000000  \n",
       "mean      49.975236    500.511602  \n",
       "std       11.521304    289.707753  \n",
       "min       30.000116      0.004272  \n",
       "25%       39.933769    248.501353  \n",
       "50%       50.028937    500.215745  \n",
       "75%       59.893651    751.693333  \n",
       "max       69.998334    999.908330  "
      ]
     },
     "execution_count": 6,
     "metadata": {},
     "output_type": "execute_result"
    }
   ],
   "source": [
    "df.describe()"
   ]
  },
  {
   "cell_type": "code",
   "execution_count": 7,
   "metadata": {},
   "outputs": [
    {
     "data": {
      "text/plain": [
       "Latitude            0\n",
       "Longitude           0\n",
       "Altitude            0\n",
       "Distance            0\n",
       "Alignment           0\n",
       "Distance_Sensors    0\n",
       "Proximity           0\n",
       "Wheel_Speed         0\n",
       "Velocity            0\n",
       "Hall_Effect         0\n",
       "Emergency_Stop      0\n",
       "Temperature         0\n",
       "Humidity            0\n",
       "Light_Level         0\n",
       "dtype: int64"
      ]
     },
     "execution_count": 7,
     "metadata": {},
     "output_type": "execute_result"
    }
   ],
   "source": [
    "df.isna().sum()"
   ]
  },
  {
   "cell_type": "code",
   "execution_count": 8,
   "metadata": {},
   "outputs": [
    {
     "data": {
      "text/plain": [
       "Index(['Latitude', 'Longitude', 'Altitude', 'Distance', 'Alignment',\n",
       "       'Distance_Sensors', 'Proximity', 'Wheel_Speed', 'Velocity',\n",
       "       'Hall_Effect', 'Emergency_Stop', 'Temperature', 'Humidity',\n",
       "       'Light_Level'],\n",
       "      dtype='object')"
      ]
     },
     "execution_count": 8,
     "metadata": {},
     "output_type": "execute_result"
    }
   ],
   "source": [
    "df.columns"
   ]
  },
  {
   "cell_type": "code",
   "execution_count": 9,
   "metadata": {},
   "outputs": [],
   "source": [
    "alignment_conditions = [\n",
    "    alignment == True for alignment in df[\"Alignment\"]\n",
    "]\n",
    "\n",
    "# Adding labels for Chaining Alignment\n",
    "df[\"Alignment_Label\"] = [\"Aligned\" if condition else \"Not_Aligned\" for condition in alignment_conditions]\n"
   ]
  },
  {
   "cell_type": "code",
   "execution_count": 10,
   "metadata": {},
   "outputs": [],
   "source": [
    "# Define conditions for safety based on Hall_Effect and Emergency_Stop\n",
    "safety_conditions = [\n",
    "    hall_effect == True and emergency_stop == False\n",
    "    for hall_effect, emergency_stop in zip(\n",
    "        df[\"Hall_Effect\"],\n",
    "        df[\"Emergency_Stop\"]\n",
    "    )\n",
    "]\n",
    "\n",
    "# Adding labels for Safety Decision\n",
    "df[\"Safety_Label\"] = [\"Safe\" if condition else \"Unsafe\" for condition in safety_conditions]"
   ]
  },
  {
   "cell_type": "code",
   "execution_count": 11,
   "metadata": {},
   "outputs": [],
   "source": [
    "# Speed thresholds (in meters per second - m/s)\n",
    "threshold_high_speed = 3.5  \n",
    "\n",
    "# Distance thresholds (in meter)\n",
    "threshold_low_distance = 1\n",
    "\n",
    "# Temperature thresholds (in degrees Celsius)\n",
    "threshold_high_temperature = 30 \n",
    "\n",
    "# Light level thresholds (in Lux)\n",
    "threshold_low_light = 100\n",
    "\n",
    "\n",
    "collision_risk_levels = []\n",
    "\n",
    "for distance, proximity, wheel_speed, temperature, light_level in zip(\n",
    "    df[\"Distance_Sensors\"],\n",
    "    df[\"Proximity\"],\n",
    "    df[\"Wheel_Speed\"],\n",
    "    df[\"Temperature\"],\n",
    "    df[\"Light_Level\"]\n",
    "):\n",
    "    if proximity or wheel_speed > threshold_high_speed:\n",
    "        collision_risk_levels.append(2)\n",
    "    elif distance < threshold_low_distance:\n",
    "        collision_risk_levels.append(1)\n",
    "    elif temperature > threshold_high_temperature or light_level < threshold_low_light:\n",
    "        collision_risk_levels.append(1)\n",
    "    else:\n",
    "        collision_risk_levels.append(0)\n",
    "\n",
    "\n",
    "# Adding labels for Collision Avoidance\n",
    "df[\"Collision_Avoidance_Label\"] = [\"Low_Risk\" if risk_level == 0 else \"Medium_Risk\" if risk_level == 1 else \"High_Risk\" for risk_level in collision_risk_levels]"
   ]
  },
  {
   "cell_type": "code",
   "execution_count": 12,
   "metadata": {},
   "outputs": [],
   "source": [
    "# Define acceptable distance thresholds for chaining \n",
    "max_distance = 3 \n",
    "min_distance = 0.5\n",
    "\n",
    "# Cart wheel speed treshold in meters per second (m/s) for chaining \n",
    "high_speed = 3.5\n",
    "\n",
    "# Define conditions for chaining based on the data\n",
    "chaining_conditions = [\n",
    "    alignment and distance > min_distance and distance < max_distance and not proximity and wheel_speed < high_speed and safety_label == \"Safe\"\n",
    "    for alignment, distance, proximity, safety_label, wheel_speed in zip(\n",
    "        df[\"Alignment\"],\n",
    "        df[\"Distance_Sensors\"],\n",
    "        df[\"Proximity\"],\n",
    "        df[\"Safety_Label\"],\n",
    "        df['Wheel_Speed']\n",
    "    )\n",
    "]\n",
    "\n",
    "# Adding labels for Chaining/Unchaining Decision\n",
    "df[\"Chaining_Unchaining_Label\"] = [\"Chaining\" if condition else \"Unchaining\" for condition in chaining_conditions]"
   ]
  },
  {
   "cell_type": "code",
   "execution_count": 13,
   "metadata": {},
   "outputs": [
    {
     "name": "stdout",
     "output_type": "stream",
     "text": [
      "Combined data with labels saved.\n"
     ]
    }
   ],
   "source": [
    "# Save the updated combined data with labels to a new CSV file\n",
    "df.to_csv(\"../Data/final_combined_data.csv\", index=False)\n",
    "\n",
    "print(\"Combined data with labels saved.\")"
   ]
  },
  {
   "cell_type": "code",
   "execution_count": 14,
   "metadata": {},
   "outputs": [
    {
     "data": {
      "text/plain": [
       "Index(['Latitude', 'Longitude', 'Altitude', 'Distance', 'Alignment',\n",
       "       'Distance_Sensors', 'Proximity', 'Wheel_Speed', 'Velocity',\n",
       "       'Hall_Effect', 'Emergency_Stop', 'Temperature', 'Humidity',\n",
       "       'Light_Level', 'Alignment_Label', 'Safety_Label',\n",
       "       'Collision_Avoidance_Label', 'Chaining_Unchaining_Label'],\n",
       "      dtype='object')"
      ]
     },
     "execution_count": 14,
     "metadata": {},
     "output_type": "execute_result"
    }
   ],
   "source": [
    "df.columns"
   ]
  },
  {
   "cell_type": "code",
   "execution_count": 15,
   "metadata": {},
   "outputs": [
    {
     "data": {
      "text/plain": [
       "Latitude                     0\n",
       "Longitude                    0\n",
       "Altitude                     0\n",
       "Distance                     0\n",
       "Alignment                    0\n",
       "Distance_Sensors             0\n",
       "Proximity                    0\n",
       "Wheel_Speed                  0\n",
       "Velocity                     0\n",
       "Hall_Effect                  0\n",
       "Emergency_Stop               0\n",
       "Temperature                  0\n",
       "Humidity                     0\n",
       "Light_Level                  0\n",
       "Alignment_Label              0\n",
       "Safety_Label                 0\n",
       "Collision_Avoidance_Label    0\n",
       "Chaining_Unchaining_Label    0\n",
       "dtype: int64"
      ]
     },
     "execution_count": 15,
     "metadata": {},
     "output_type": "execute_result"
    }
   ],
   "source": [
    "df.isna().sum()"
   ]
  },
  {
   "cell_type": "code",
   "execution_count": null,
   "metadata": {},
   "outputs": [],
   "source": []
  }
 ],
 "metadata": {
  "kernelspec": {
   "display_name": "Python 3",
   "language": "python",
   "name": "python3"
  },
  "language_info": {
   "codemirror_mode": {
    "name": "ipython",
    "version": 3
   },
   "file_extension": ".py",
   "mimetype": "text/x-python",
   "name": "python",
   "nbconvert_exporter": "python",
   "pygments_lexer": "ipython3",
   "version": "3.10.11"
  },
  "orig_nbformat": 4
 },
 "nbformat": 4,
 "nbformat_minor": 2
}
