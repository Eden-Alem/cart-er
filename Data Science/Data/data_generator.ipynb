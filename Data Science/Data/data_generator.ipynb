{
 "cells": [
  {
   "cell_type": "markdown",
   "metadata": {},
   "source": [
    "# **Imports**"
   ]
  },
  {
   "cell_type": "code",
   "execution_count": 9,
   "metadata": {},
   "outputs": [],
   "source": [
    "import pandas as pd\n",
    "import numpy as np"
   ]
  },
  {
   "cell_type": "code",
   "execution_count": 10,
   "metadata": {},
   "outputs": [
    {
     "name": "stdout",
     "output_type": "stream",
     "text": [
      "Dummy position data (GPS sensors and encoders) generated and saved.\n"
     ]
    }
   ],
   "source": [
    "# Define parameters\n",
    "num_carts = 50\n",
    "num_steps_per_cart = 1000\n",
    "time_interval = 1.0  # seconds\n",
    "rotation_per_step = 0.001  # Simulated rotation per step\n",
    "wheel_radius = 0.3  \n",
    "\n",
    "# Initialize positions for each cart\n",
    "initial_positions = [\n",
    "    (np.random.uniform(37.0, 38.0), np.random.uniform(-122.0, -121.0), np.random.uniform(0.0, 100.0))\n",
    "    for _ in range(num_carts)\n",
    "]\n",
    "\n",
    "# Generate combined data for each cart\n",
    "combined_data = []\n",
    "\n",
    "for cart_index in range(num_carts):\n",
    "    positions = []\n",
    "    distances = []\n",
    "    \n",
    "    initial_lat, initial_long, initial_altitude = initial_positions[cart_index]\n",
    "    \n",
    "    for step in range(num_steps_per_cart):\n",
    "        # Simulate encoder rotation\n",
    "        rotation = rotation_per_step * step\n",
    "        \n",
    "        # Calculate new position based on rotation\n",
    "        lat = initial_lat + np.cos(rotation) * 0.001\n",
    "        long = initial_long + np.sin(rotation) * 0.001\n",
    "        \n",
    "        # Calculate distance traveled based on rotation\n",
    "        distance = rotation * wheel_radius\n",
    "        \n",
    "        positions.append((lat, long, initial_altitude))\n",
    "        distances.append(distance)\n",
    "    \n",
    "    cart_data = {\n",
    "        \"Latitude\": [pos[0] for pos in positions],\n",
    "        \"Longitude\": [pos[1] for pos in positions],\n",
    "        \"Altitude\": [pos[2] for pos in positions],\n",
    "        \"Distance\": distances\n",
    "    }\n",
    "    \n",
    "    cart_df = pd.DataFrame(cart_data)\n",
    "    combined_data.append(cart_df)\n",
    "\n",
    "# Concatenate individual cart DataFrames\n",
    "final_data = pd.concat(combined_data, ignore_index=True)\n",
    "\n",
    "# Save combined data to CSV\n",
    "final_data.to_csv(\"position_data.csv\", index=False)\n",
    "\n",
    "print(\"Dummy position data (GPS sensors and encoders) generated and saved.\")\n"
   ]
  },
  {
   "cell_type": "code",
   "execution_count": 11,
   "metadata": {},
   "outputs": [
    {
     "name": "stdout",
     "output_type": "stream",
     "text": [
      "Dummy position data with alignment generated and saved.\n"
     ]
    }
   ],
   "source": [
    "# Define parameters\n",
    "num_carts = 50\n",
    "num_steps_per_cart = 1000\n",
    "\n",
    "# Simulate alignment data for each cart\n",
    "alignment_data = []\n",
    "\n",
    "for cart_index in range(num_carts):\n",
    "    alignments = np.random.choice([True, False], num_steps_per_cart, p=[0.7, 0.3])\n",
    "    alignment_data.extend(alignments)\n",
    "\n",
    "# Load previously generated combined data\n",
    "combined_data = pd.read_csv(\"position_data.csv\")\n",
    "\n",
    "# Add alignment data to the combined data\n",
    "combined_data[\"Alignment\"] = alignment_data\n",
    "\n",
    "# Save updated combined data to CSV\n",
    "combined_data.to_csv(\"position_alignment_data.csv\", index=False)\n",
    "\n",
    "print(\"Dummy position data with alignment generated and saved.\")\n"
   ]
  },
  {
   "cell_type": "code",
   "execution_count": 12,
   "metadata": {},
   "outputs": [
    {
     "name": "stdout",
     "output_type": "stream",
     "text": [
      "Dummy combined data with distance sensor and proximity sensor data generated and saved.\n"
     ]
    }
   ],
   "source": [
    "# Define parameters\n",
    "num_carts = 50\n",
    "num_steps_per_cart = 1000\n",
    "\n",
    "# Simulate distance sensor data for each cart\n",
    "distance_sensor_data = []\n",
    "\n",
    "for cart_index in range(num_carts):\n",
    "    distances = np.random.uniform(0.5, 5.0, num_steps_per_cart)  # Simulate distances between 0.5 to 5.0 meters\n",
    "    distance_sensor_data.extend(distances)\n",
    "\n",
    "# Simulate proximity sensor data for each cart\n",
    "proximity_data = []\n",
    "\n",
    "for cart_index in range(num_carts):\n",
    "    proximities = np.random.choice([True, False], num_steps_per_cart, p=[0.7, 0.3])\n",
    "    proximity_data.extend(proximities)\n",
    "\n",
    "# Load previously generated combined data with alignment\n",
    "combined_data = pd.read_csv(\"position_alignment_data.csv\")\n",
    "\n",
    "# Add distance sensor and proximity sensor data to the combined data\n",
    "combined_data[\"Distance_Sensors\"] = distance_sensor_data\n",
    "combined_data[\"Proximity\"] = proximity_data\n",
    "\n",
    "# Save updated combined data to CSV\n",
    "combined_data.to_csv(\"position_alignment_sensors_data.csv\", index=False)\n",
    "\n",
    "print(\"Dummy combined data with distance sensor and proximity sensor data generated and saved.\")\n"
   ]
  },
  {
   "cell_type": "code",
   "execution_count": 13,
   "metadata": {},
   "outputs": [
    {
     "name": "stdout",
     "output_type": "stream",
     "text": [
      "Dummy combined data with velocity and wheel speed sensor data generated and saved.\n"
     ]
    }
   ],
   "source": [
    "# Define parameters\n",
    "num_carts = 50\n",
    "num_steps_per_cart = 1000\n",
    "time_interval = 1.0  # seconds\n",
    "wheel_radius = 0.3  \n",
    "\n",
    "# Simulate wheel speed sensor data for each cart\n",
    "wheel_speed_data = []\n",
    "\n",
    "for cart_index in range(num_carts):\n",
    "    wheel_speeds = np.random.uniform(0.5, 5.0, num_steps_per_cart)  # Simulate wheel speeds between 0.5 to 5.0 meters per second\n",
    "    wheel_speed_data.extend(wheel_speeds)\n",
    "\n",
    "# Load previously generated combined data with sensors\n",
    "combined_data = pd.read_csv(\"position_alignment_sensors_data.csv\")\n",
    "\n",
    "# Add wheel speed sensor data to the combined data\n",
    "combined_data[\"Wheel_Speed\"] = wheel_speed_data\n",
    "\n",
    "# Calculate velocity based on wheel speed and wheel radius\n",
    "combined_data[\"Velocity\"] = combined_data[\"Wheel_Speed\"] * wheel_radius\n",
    "\n",
    "# Save updated combined data to CSV\n",
    "combined_data.to_csv(\"position_alignment_sensors_velocity_data.csv\", index=False)\n",
    "\n",
    "print(\"Dummy combined data with velocity and wheel speed sensor data generated and saved.\")\n"
   ]
  },
  {
   "cell_type": "code",
   "execution_count": 14,
   "metadata": {},
   "outputs": [
    {
     "name": "stdout",
     "output_type": "stream",
     "text": [
      "Dummy combined data with safety sensor data generated and saved.\n"
     ]
    }
   ],
   "source": [
    "# Define parameters\n",
    "num_carts = 50\n",
    "num_steps_per_cart = 1000\n",
    "\n",
    "# Simulate hall effect sensor data for each cart\n",
    "hall_effect_data = []\n",
    "\n",
    "for cart_index in range(num_carts):\n",
    "    hall_effects = np.random.choice([True, False], num_steps_per_cart, p=[0.7, 0.3])\n",
    "    hall_effect_data.extend(hall_effects)\n",
    "\n",
    "# Simulate emergency stop button data for each cart\n",
    "emergency_stop_data = []\n",
    "\n",
    "for cart_index in range(num_carts):\n",
    "    emergency_stops = np.random.choice([True, False], num_steps_per_cart, p=[0.3, 0.7])\n",
    "    emergency_stop_data.extend(emergency_stops)\n",
    "\n",
    "# Load previously generated combined data with velocity\n",
    "combined_data = pd.read_csv(\"position_alignment_sensors_velocity_data.csv\")\n",
    "\n",
    "# Add hall effect sensor and emergency stop button data to the combined data\n",
    "combined_data[\"Hall_Effect\"] = hall_effect_data\n",
    "combined_data[\"Emergency_Stop\"] = emergency_stop_data\n",
    "\n",
    "# Save updated combined data to CSV\n",
    "combined_data.to_csv(\"position_alignment_sensors_velocity_safety_data.csv\", index=False)\n",
    "\n",
    "print(\"Dummy combined data with safety sensor data generated and saved.\")\n"
   ]
  },
  {
   "cell_type": "code",
   "execution_count": 15,
   "metadata": {},
   "outputs": [
    {
     "name": "stdout",
     "output_type": "stream",
     "text": [
      "Dummy environmental data generated and saved.\n"
     ]
    }
   ],
   "source": [
    "# Define parameters\n",
    "num_steps = 50000\n",
    "\n",
    "# Simulate temperature and humidity data\n",
    "temperature_data = np.random.uniform(10, 35, num_steps)  # Simulate temperatures between 10°C to 35°C\n",
    "humidity_data = np.random.uniform(30, 70, num_steps)  # Simulate humidity between 30% to 70%\n",
    "\n",
    "# Simulate light sensor data\n",
    "light_data = np.random.uniform(0, 1000, num_steps)  # Simulate light levels between 0 to 1000 Lux\n",
    "\n",
    "# Create a DataFrame for environmental data\n",
    "environmental_data = pd.DataFrame({\n",
    "    \"Temperature\": temperature_data,\n",
    "    \"Humidity\": humidity_data,\n",
    "    \"Light_Level\": light_data\n",
    "})\n",
    "\n",
    "# Save environmental data to CSV\n",
    "environmental_data.to_csv(\"environmental_data.csv\", index=False)\n",
    "\n",
    "print(\"Dummy environmental data generated and saved.\")\n"
   ]
  },
  {
   "cell_type": "code",
   "execution_count": 16,
   "metadata": {},
   "outputs": [
    {
     "name": "stdout",
     "output_type": "stream",
     "text": [
      "Final combined data generated and saved.\n"
     ]
    }
   ],
   "source": [
    "# Load previously generated combined data with safety\n",
    "combined_data_with_safety = pd.read_csv(\"position_alignment_sensors_velocity_safety_data.csv\")\n",
    "\n",
    "# Load generated environmental data\n",
    "environmental_data = pd.read_csv(\"environmental_data.csv\")\n",
    "\n",
    "# Concatenate the two DataFrames based on index\n",
    "final_combined_data = pd.concat([combined_data_with_safety, environmental_data], axis=1)\n",
    "\n",
    "# Save the final combined data to CSV\n",
    "final_combined_data.to_csv(\"combined_data.csv\", index=False)\n",
    "\n",
    "print(\"Final combined data generated and saved.\")\n"
   ]
  },
  {
   "cell_type": "code",
   "execution_count": null,
   "metadata": {},
   "outputs": [],
   "source": []
  }
 ],
 "metadata": {
  "kernelspec": {
   "display_name": "Python 3",
   "language": "python",
   "name": "python3"
  },
  "language_info": {
   "codemirror_mode": {
    "name": "ipython",
    "version": 3
   },
   "file_extension": ".py",
   "mimetype": "text/x-python",
   "name": "python",
   "nbconvert_exporter": "python",
   "pygments_lexer": "ipython3",
   "version": "3.10.11"
  },
  "orig_nbformat": 4
 },
 "nbformat": 4,
 "nbformat_minor": 2
}
